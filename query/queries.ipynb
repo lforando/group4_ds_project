{
 "cells": [
  {
   "cell_type": "code",
   "execution_count": 7,
   "id": "c3284080",
   "metadata": {},
   "outputs": [],
   "source": [
    "%matplotlib inline\n",
    "\n",
    "import warnings\n",
    "warnings.filterwarnings(\"ignore\")"
   ]
  },
  {
   "cell_type": "code",
   "execution_count": 8,
   "id": "3244706e",
   "metadata": {},
   "outputs": [],
   "source": [
    "import sqlite3\n",
    "import pandas as pd\n",
    "import xlrd\n",
    "import os \n",
    "import csv\n",
    "from tabulate import tabulate"
   ]
  },
  {
   "cell_type": "code",
   "execution_count": 9,
   "id": "a4be6787",
   "metadata": {},
   "outputs": [],
   "source": [
    "db_path = '../datasets/datawarehouse.db'"
   ]
  },
  {
   "cell_type": "code",
   "execution_count": 10,
   "id": "6a889f37",
   "metadata": {},
   "outputs": [
    {
     "ename": "OperationalError",
     "evalue": "unable to open database file",
     "output_type": "error",
     "traceback": [
      "\u001b[0;31m---------------------------------------------------------------------------\u001b[0m",
      "\u001b[0;31mOperationalError\u001b[0m                          Traceback (most recent call last)",
      "Cell \u001b[0;32mIn[10], line 1\u001b[0m\n\u001b[0;32m----> 1\u001b[0m con\u001b[39m=\u001b[39msqlite3\u001b[39m.\u001b[39;49mconnect(db_path)\n\u001b[1;32m      2\u001b[0m cur \u001b[39m=\u001b[39m con\u001b[39m.\u001b[39mcursor()\n\u001b[1;32m      4\u001b[0m query \u001b[39m=\u001b[39m \u001b[39m'''\u001b[39m\u001b[39mSELECT id, CAST(REPLACE(price, \u001b[39m\u001b[39m'\u001b[39m\u001b[39m$\u001b[39m\u001b[39m'\u001b[39m\u001b[39m, \u001b[39m\u001b[39m'\u001b[39m\u001b[39m'\u001b[39m\u001b[39m) AS FLOAT) as avg_price\u001b[39m\n\u001b[1;32m      5\u001b[0m \u001b[39mFROM listings;\u001b[39m\n\u001b[1;32m      6\u001b[0m \u001b[39m'''\u001b[39m\n",
      "\u001b[0;31mOperationalError\u001b[0m: unable to open database file"
     ]
    }
   ],
   "source": [
    "con=sqlite3.connect(db_path)\n",
    "cur = con.cursor()\n",
    "\n",
    "query = '''SELECT id, CAST(REPLACE(price, '$', '') AS FLOAT) as avg_price\n",
    "FROM listings;\n",
    "'''\n",
    "\n",
    "cur.execute(query)\n",
    "con.commit()\n",
    "\n",
    "price_arr = cur.fetchall()\n",
    "con.close()"
   ]
  },
  {
   "cell_type": "code",
   "execution_count": null,
   "id": "6e2b542c",
   "metadata": {},
   "outputs": [],
   "source": [
    "con=sqlite3.connect(db_path)\n",
    "cur = con.cursor()\n",
    "\n",
    "query = '''\n",
    "SELECT neighbourhood_cleansed, COUNT(*) as neighborhood_count\n",
    "FROM listings\n",
    "GROUP BY neighbourhood_cleansed\n",
    "ORDER BY neighborhood_count DESC;\n",
    "'''\n",
    "\n",
    "cur.execute(query)\n",
    "con.commit()\n",
    "\n",
    "price_arr = cur.fetchall()\n",
    "con.close()"
   ]
  },
  {
   "cell_type": "code",
   "execution_count": null,
   "id": "8f67fed9",
   "metadata": {},
   "outputs": [],
   "source": [
    "\n",
    "\n",
    "SELECT NBHDNAME, COUNT(*) as neighborhood_count\n",
    "FROM property_info\n",
    "WHERE PROPTYPE LIKE '%Residential%'\n",
    "GROUP BY NBHDNAME\n",
    "ORDER BY neighborhood_count DESC;\n",
    "\n",
    "SELECT bathrooms_text, COUNT(*) as num_bath\n",
    "FROM listings\n",
    "GROUP BY bathrooms_text\n",
    "ORDER BY num_bath DESC;\n",
    "\n",
    "SELECT host_is_superhost, COUNT(*) as num_superhosts\n",
    "FROM listings\n",
    "GROUP BY host_is_superhost\n",
    "ORDER BY num_superhosts DESC;\n",
    "\n",
    "SELECT id, CAST(bedrooms AS INT), CAST(beds AS INT), CAST(accommodates AS INT), CAST(REPLACE(price, '$', '') AS FLOAT)\n",
    "FROM listings;\n",
    "\n",
    "SELECT id, AVG(number_of_reviews) as avg_rev\n",
    "FROM listings\n",
    "GROUP BY id;\n",
    "\n",
    "SELECT id, AVG(review_scores_rating) AS FLOAT\n",
    "FROM listings\n",
    "GROUP BY id;\n",
    "\n",
    "SELECT id, AVG(reviews_per_month) AS FLOAT\n",
    "FROM listings\n",
    "GROUP BY id;\n",
    "\n",
    "SELECT room_type, property_type, instant_bookable, price\n",
    "FROM listings;\n",
    "\n",
    "SELECT price, host_response_time, host_response_rate, host_acceptance_rate\n",
    "FROM listings;\n",
    "\n",
    "SELECT id, CAST(REPLACE(price, '$', '') AS FLOAT), bathrooms_text FROM listings;\n",
    "\n",
    "SELECT id, CAST(REPLACE(price, '$', '') AS FLOAT), neighbourhood_cleansed FROM listings;\n",
    "\n",
    "SELECT id, CAST(REPLACE(price, '$', '') AS FLOAT), host_is_superhost\n",
    "FROM listings;\n",
    "\n",
    "SELECT room_type, property_type, instant_bookable, price\n",
    "FROM listings;"
   ]
  }
 ],
 "metadata": {
  "kernelspec": {
   "display_name": "en685648",
   "language": "python",
   "name": "python3"
  },
  "language_info": {
   "codemirror_mode": {
    "name": "ipython",
    "version": 3
   },
   "file_extension": ".py",
   "mimetype": "text/x-python",
   "name": "python",
   "nbconvert_exporter": "python",
   "pygments_lexer": "ipython3",
   "version": "3.10.8"
  }
 },
 "nbformat": 4,
 "nbformat_minor": 5
}
