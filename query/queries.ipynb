{
 "cells": [
  {
   "cell_type": "code",
   "execution_count": 1,
   "id": "c3284080",
   "metadata": {},
   "outputs": [],
   "source": [
    "%matplotlib inline\n",
    "\n",
    "import warnings\n",
    "warnings.filterwarnings(\"ignore\")"
   ]
  },
  {
   "cell_type": "code",
   "execution_count": 2,
   "id": "3244706e",
   "metadata": {},
   "outputs": [],
   "source": [
    "import sqlite3\n",
    "import pandas as pd\n",
    "import xlrd\n",
    "import os \n",
    "import csv\n",
    "from tabulate import tabulate"
   ]
  },
  {
   "cell_type": "code",
   "execution_count": 3,
   "id": "a4be6787",
   "metadata": {},
   "outputs": [],
   "source": [
    "db_path = '../datasets/datawarehouse.db'"
   ]
  },
  {
   "cell_type": "markdown",
   "id": "835b7d76-b611-441f-b999-47bbc6fedd99",
   "metadata": {},
   "source": [
    "### Price of Each Listing\n",
    "\n",
    "The following query gets each of the price values from the listing tables."
   ]
  },
  {
   "cell_type": "code",
   "execution_count": 12,
   "id": "6a889f37",
   "metadata": {},
   "outputs": [],
   "source": [
    "con=sqlite3.connect(db_path)\n",
    "cur = con.cursor()\n",
    "\n",
    "query = '''SELECT id, CAST(REPLACE(price, '$', '') AS FLOAT) as avg_price\n",
    "FROM listings;\n",
    "'''\n",
    "\n",
    "cur.execute(query)\n",
    "con.commit()\n",
    "\n",
    "price_arr = cur.fetchall()\n",
    "con.close()"
   ]
  },
  {
   "cell_type": "code",
   "execution_count": 13,
   "id": "30bfab40-a38f-4709-8705-1723aec9fe1f",
   "metadata": {},
   "outputs": [
    {
     "data": {
      "text/html": [
       "<div>\n",
       "<style scoped>\n",
       "    .dataframe tbody tr th:only-of-type {\n",
       "        vertical-align: middle;\n",
       "    }\n",
       "\n",
       "    .dataframe tbody tr th {\n",
       "        vertical-align: top;\n",
       "    }\n",
       "\n",
       "    .dataframe thead th {\n",
       "        text-align: right;\n",
       "    }\n",
       "</style>\n",
       "<table border=\"1\" class=\"dataframe\">\n",
       "  <thead>\n",
       "    <tr style=\"text-align: right;\">\n",
       "      <th></th>\n",
       "      <th>id</th>\n",
       "      <th>price</th>\n",
       "    </tr>\n",
       "  </thead>\n",
       "  <tbody>\n",
       "    <tr>\n",
       "      <th>0</th>\n",
       "      <td>22229408</td>\n",
       "      <td>20.0</td>\n",
       "    </tr>\n",
       "    <tr>\n",
       "      <th>1</th>\n",
       "      <td>46951758</td>\n",
       "      <td>185.0</td>\n",
       "    </tr>\n",
       "    <tr>\n",
       "      <th>2</th>\n",
       "      <td>580379638076900630</td>\n",
       "      <td>221.0</td>\n",
       "    </tr>\n",
       "    <tr>\n",
       "      <th>3</th>\n",
       "      <td>594971943284098653</td>\n",
       "      <td>142.0</td>\n",
       "    </tr>\n",
       "    <tr>\n",
       "      <th>4</th>\n",
       "      <td>54371126</td>\n",
       "      <td>398.0</td>\n",
       "    </tr>\n",
       "  </tbody>\n",
       "</table>\n",
       "</div>"
      ],
      "text/plain": [
       "                   id  price\n",
       "0            22229408   20.0\n",
       "1            46951758  185.0\n",
       "2  580379638076900630  221.0\n",
       "3  594971943284098653  142.0\n",
       "4            54371126  398.0"
      ]
     },
     "execution_count": 13,
     "metadata": {},
     "output_type": "execute_result"
    }
   ],
   "source": [
    "price_df = pd.DataFrame(price_arr, columns=['id', 'price'])\n",
    "price_df.head()"
   ]
  },
  {
   "cell_type": "markdown",
   "id": "659e1081-43fc-4c94-a872-c3467014f749",
   "metadata": {},
   "source": [
    "The \"id\" corresponds to the listing's specific ID. The \"price\" shows the price of the given listing.\n",
    "\n",
    "### Number of Listings In Each AirBnB \"Neighborhood\" Grouping\n",
    "\n",
    "The AirBnB dataset contains a \"neighbourhood_cleansed\" field. This field contains different neighborhood groupings for the Washington, D.C. area. The following query gets the counts of unique neighborhood groups, and orders the output by the number of listings contained in that neighborhood."
   ]
  },
  {
   "cell_type": "code",
   "execution_count": 23,
   "id": "6e2b542c",
   "metadata": {},
   "outputs": [],
   "source": [
    "con=sqlite3.connect(db_path)\n",
    "cur = con.cursor()\n",
    "\n",
    "query = '''\n",
    "SELECT neighbourhood_cleansed, COUNT(*) as neighborhood_count\n",
    "FROM listings\n",
    "GROUP BY neighbourhood_cleansed\n",
    "ORDER BY neighborhood_count DESC;\n",
    "'''\n",
    "\n",
    "cur.execute(query)\n",
    "con.commit()\n",
    "\n",
    "nbhd_arr = cur.fetchall()\n",
    "con.close()"
   ]
  },
  {
   "cell_type": "code",
   "execution_count": 24,
   "id": "4292719c-456e-4aa6-9e17-8dc2527cbf81",
   "metadata": {},
   "outputs": [
    {
     "name": "stdout",
     "output_type": "stream",
     "text": [
      "39\n"
     ]
    }
   ],
   "source": [
    "nbhd_df = pd.DataFrame(nbhd_arr, columns=['neighborhood_group', 'count'])\n",
    "print(len(nbhd_df.neighborhood_group.unique()))"
   ]
  },
  {
   "cell_type": "markdown",
   "id": "3efb0534-b69e-4a9c-9c69-d53150cc1048",
   "metadata": {},
   "source": [
    "The `neighbourhood_cleansed` variable contains 39 different neighborhood groupings. Each of the listings has an associated \"neighborhood group\"/"
   ]
  },
  {
   "cell_type": "code",
   "execution_count": 26,
   "id": "eb4e11b0-4e1e-4ecf-8abc-ef138efa24fb",
   "metadata": {},
   "outputs": [
    {
     "data": {
      "text/html": [
       "<div>\n",
       "<style scoped>\n",
       "    .dataframe tbody tr th:only-of-type {\n",
       "        vertical-align: middle;\n",
       "    }\n",
       "\n",
       "    .dataframe tbody tr th {\n",
       "        vertical-align: top;\n",
       "    }\n",
       "\n",
       "    .dataframe thead th {\n",
       "        text-align: right;\n",
       "    }\n",
       "</style>\n",
       "<table border=\"1\" class=\"dataframe\">\n",
       "  <thead>\n",
       "    <tr style=\"text-align: right;\">\n",
       "      <th></th>\n",
       "      <th>neighborhood_group</th>\n",
       "      <th>count</th>\n",
       "    </tr>\n",
       "  </thead>\n",
       "  <tbody>\n",
       "    <tr>\n",
       "      <th>0</th>\n",
       "      <td>Union Station, Stanton Park, Kingman Park</td>\n",
       "      <td>808</td>\n",
       "    </tr>\n",
       "    <tr>\n",
       "      <th>1</th>\n",
       "      <td>Capitol Hill, Lincoln Park</td>\n",
       "      <td>675</td>\n",
       "    </tr>\n",
       "    <tr>\n",
       "      <th>2</th>\n",
       "      <td>Columbia Heights, Mt. Pleasant, Pleasant Plain...</td>\n",
       "      <td>609</td>\n",
       "    </tr>\n",
       "  </tbody>\n",
       "</table>\n",
       "</div>"
      ],
      "text/plain": [
       "                                  neighborhood_group  count\n",
       "0          Union Station, Stanton Park, Kingman Park    808\n",
       "1                         Capitol Hill, Lincoln Park    675\n",
       "2  Columbia Heights, Mt. Pleasant, Pleasant Plain...    609"
      ]
     },
     "execution_count": 26,
     "metadata": {},
     "output_type": "execute_result"
    }
   ],
   "source": [
    "nbhd_df.head(3)"
   ]
  },
  {
   "cell_type": "markdown",
   "id": "82f3e628-d2e3-45cc-9203-653e89018202",
   "metadata": {},
   "source": [
    "Ordering by count allows us to view the neighborhood groups with the greatest number of listings. "
   ]
  },
  {
   "cell_type": "markdown",
   "id": "9fbd09be-0109-4599-bef1-0345bc63d411",
   "metadata": {},
   "source": [
    "## Add Information to Queries\n",
    "\n",
    "Using the format above, provide short "
   ]
  },
  {
   "cell_type": "code",
   "execution_count": 6,
   "id": "8f67fed9",
   "metadata": {},
   "outputs": [
    {
     "ename": "SyntaxError",
     "evalue": "invalid syntax (648636455.py, line 1)",
     "output_type": "error",
     "traceback": [
      "\u001b[0;36m  File \u001b[0;32m\"/var/folders/n2/rzvcppnn3s74tcmyzvm37h_80000gn/T/ipykernel_29230/648636455.py\"\u001b[0;36m, line \u001b[0;32m1\u001b[0m\n\u001b[0;31m    SELECT NBHDNAME, COUNT(*) as neighborhood_count\u001b[0m\n\u001b[0m           ^\u001b[0m\n\u001b[0;31mSyntaxError\u001b[0m\u001b[0;31m:\u001b[0m invalid syntax\n"
     ]
    }
   ],
   "source": [
    "SELECT NBHDNAME, COUNT(*) as neighborhood_count\n",
    "FROM property_info\n",
    "WHERE PROPTYPE LIKE '%Residential%'\n",
    "GROUP BY NBHDNAME\n",
    "ORDER BY neighborhood_count DESC;\n",
    "\n",
    "SELECT bathrooms_text, COUNT(*) as num_bath\n",
    "FROM listings\n",
    "GROUP BY bathrooms_text\n",
    "ORDER BY num_bath DESC;\n",
    "\n",
    "SELECT host_is_superhost, COUNT(*) as num_superhosts\n",
    "FROM listings\n",
    "GROUP BY host_is_superhost\n",
    "ORDER BY num_superhosts DESC;\n",
    "\n",
    "SELECT id, CAST(bedrooms AS INT), CAST(beds AS INT), CAST(accommodates AS INT), CAST(REPLACE(price, '$', '') AS FLOAT)\n",
    "FROM listings;\n",
    "\n",
    "SELECT id, AVG(number_of_reviews) as avg_rev\n",
    "FROM listings\n",
    "GROUP BY id;\n",
    "\n",
    "SELECT id, AVG(review_scores_rating) AS FLOAT\n",
    "FROM listings\n",
    "GROUP BY id;\n",
    "\n",
    "SELECT id, AVG(reviews_per_month) AS FLOAT\n",
    "FROM listings\n",
    "GROUP BY id;\n",
    "\n",
    "SELECT room_type, property_type, instant_bookable, price\n",
    "FROM listings;\n",
    "\n",
    "SELECT price, host_response_time, host_response_rate, host_acceptance_rate\n",
    "FROM listings;\n",
    "\n",
    "SELECT id, CAST(REPLACE(price, '$', '') AS FLOAT), bathrooms_text FROM listings;\n",
    "\n",
    "SELECT id, CAST(REPLACE(price, '$', '') AS FLOAT), neighbourhood_cleansed FROM listings;\n",
    "\n",
    "SELECT id, CAST(REPLACE(price, '$', '') AS FLOAT), host_is_superhost\n",
    "FROM listings;\n",
    "\n",
    "SELECT room_type, property_type, instant_bookable, price\n",
    "FROM listings;"
   ]
  },
  {
   "cell_type": "code",
   "execution_count": null,
   "id": "a8b59513-a523-4e68-8e8b-913ce22f8501",
   "metadata": {},
   "outputs": [],
   "source": []
  }
 ],
 "metadata": {
  "kernelspec": {
   "display_name": "Python 3 (ipykernel)",
   "language": "python",
   "name": "python3"
  },
  "language_info": {
   "codemirror_mode": {
    "name": "ipython",
    "version": 3
   },
   "file_extension": ".py",
   "mimetype": "text/x-python",
   "name": "python",
   "nbconvert_exporter": "python",
   "pygments_lexer": "ipython3",
   "version": "3.9.13"
  }
 },
 "nbformat": 4,
 "nbformat_minor": 5
}
