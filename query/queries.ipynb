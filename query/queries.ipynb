{
 "cells": [
  {
   "cell_type": "code",
   "execution_count": 1,
   "id": "c3284080",
   "metadata": {},
   "outputs": [],
   "source": [
    "%matplotlib inline\n",
    "\n",
    "import warnings\n",
    "warnings.filterwarnings(\"ignore\")"
   ]
  },
  {
   "cell_type": "code",
   "execution_count": 2,
   "id": "3244706e",
   "metadata": {},
   "outputs": [],
   "source": [
    "import sqlite3\n",
    "import pandas as pd\n",
    "import xlrd\n",
    "import os \n",
    "import csv\n",
    "from tabulate import tabulate"
   ]
  },
  {
   "cell_type": "code",
   "execution_count": 3,
   "id": "a4be6787",
   "metadata": {},
   "outputs": [],
   "source": [
    "db_path = '../datasets/datawarehouse.db'"
   ]
  },
  {
   "cell_type": "markdown",
   "id": "835b7d76-b611-441f-b999-47bbc6fedd99",
   "metadata": {},
   "source": [
    "### Price of Each Listing\n",
    "\n",
    "The following query gets each of the price values from the listing tables."
   ]
  },
  {
   "cell_type": "code",
   "execution_count": 4,
   "id": "6a889f37",
   "metadata": {},
   "outputs": [],
   "source": [
    "con=sqlite3.connect(db_path)\n",
    "cur = con.cursor()\n",
    "\n",
    "query = '''SELECT id, CAST(REPLACE(price, '$', '') AS FLOAT) as avg_price\n",
    "FROM listings;\n",
    "'''\n",
    "\n",
    "cur.execute(query)\n",
    "con.commit()\n",
    "\n",
    "price_arr = cur.fetchall()\n",
    "con.close()"
   ]
  },
  {
   "cell_type": "code",
   "execution_count": 5,
   "id": "30bfab40-a38f-4709-8705-1723aec9fe1f",
   "metadata": {},
   "outputs": [
    {
     "data": {
      "text/html": [
       "<div>\n",
       "<style scoped>\n",
       "    .dataframe tbody tr th:only-of-type {\n",
       "        vertical-align: middle;\n",
       "    }\n",
       "\n",
       "    .dataframe tbody tr th {\n",
       "        vertical-align: top;\n",
       "    }\n",
       "\n",
       "    .dataframe thead th {\n",
       "        text-align: right;\n",
       "    }\n",
       "</style>\n",
       "<table border=\"1\" class=\"dataframe\">\n",
       "  <thead>\n",
       "    <tr style=\"text-align: right;\">\n",
       "      <th></th>\n",
       "      <th>id</th>\n",
       "      <th>price</th>\n",
       "    </tr>\n",
       "  </thead>\n",
       "  <tbody>\n",
       "    <tr>\n",
       "      <th>0</th>\n",
       "      <td>22229408</td>\n",
       "      <td>20.0</td>\n",
       "    </tr>\n",
       "    <tr>\n",
       "      <th>1</th>\n",
       "      <td>46951758</td>\n",
       "      <td>185.0</td>\n",
       "    </tr>\n",
       "    <tr>\n",
       "      <th>2</th>\n",
       "      <td>580379638076900630</td>\n",
       "      <td>221.0</td>\n",
       "    </tr>\n",
       "    <tr>\n",
       "      <th>3</th>\n",
       "      <td>594971943284098653</td>\n",
       "      <td>142.0</td>\n",
       "    </tr>\n",
       "    <tr>\n",
       "      <th>4</th>\n",
       "      <td>54371126</td>\n",
       "      <td>398.0</td>\n",
       "    </tr>\n",
       "  </tbody>\n",
       "</table>\n",
       "</div>"
      ],
      "text/plain": [
       "                   id  price\n",
       "0            22229408   20.0\n",
       "1            46951758  185.0\n",
       "2  580379638076900630  221.0\n",
       "3  594971943284098653  142.0\n",
       "4            54371126  398.0"
      ]
     },
     "execution_count": 5,
     "metadata": {},
     "output_type": "execute_result"
    }
   ],
   "source": [
    "price_df = pd.DataFrame(price_arr, columns=['id', 'price'])\n",
    "price_df.head()"
   ]
  },
  {
   "cell_type": "markdown",
   "id": "659e1081-43fc-4c94-a872-c3467014f749",
   "metadata": {},
   "source": [
    "The \"id\" corresponds to the listing's specific ID. The \"price\" shows the price of the given listing.\n",
    "\n",
    "### Number of Listings In Each AirBnB \"Neighborhood\" Grouping\n",
    "\n",
    "The AirBnB dataset contains a \"neighbourhood_cleansed\" field. This field contains different neighborhood groupings for the Washington, D.C. area. The following query gets the counts of unique neighborhood groups, and orders the output by the number of listings contained in that neighborhood."
   ]
  },
  {
   "cell_type": "code",
   "execution_count": 6,
   "id": "6e2b542c",
   "metadata": {},
   "outputs": [],
   "source": [
    "con=sqlite3.connect(db_path)\n",
    "cur = con.cursor()\n",
    "\n",
    "query = '''\n",
    "SELECT neighbourhood_cleansed, COUNT(*) as neighborhood_count\n",
    "FROM listings\n",
    "GROUP BY neighbourhood_cleansed\n",
    "ORDER BY neighborhood_count DESC;\n",
    "'''\n",
    "\n",
    "cur.execute(query)\n",
    "con.commit()\n",
    "\n",
    "nbhd_arr = cur.fetchall()\n",
    "con.close()"
   ]
  },
  {
   "cell_type": "code",
   "execution_count": 7,
   "id": "4292719c-456e-4aa6-9e17-8dc2527cbf81",
   "metadata": {},
   "outputs": [
    {
     "data": {
      "text/html": [
       "<div>\n",
       "<style scoped>\n",
       "    .dataframe tbody tr th:only-of-type {\n",
       "        vertical-align: middle;\n",
       "    }\n",
       "\n",
       "    .dataframe tbody tr th {\n",
       "        vertical-align: top;\n",
       "    }\n",
       "\n",
       "    .dataframe thead th {\n",
       "        text-align: right;\n",
       "    }\n",
       "</style>\n",
       "<table border=\"1\" class=\"dataframe\">\n",
       "  <thead>\n",
       "    <tr style=\"text-align: right;\">\n",
       "      <th></th>\n",
       "      <th>neighborhood group</th>\n",
       "      <th>count</th>\n",
       "    </tr>\n",
       "  </thead>\n",
       "  <tbody>\n",
       "    <tr>\n",
       "      <th>0</th>\n",
       "      <td>Union Station, Stanton Park, Kingman Park</td>\n",
       "      <td>808</td>\n",
       "    </tr>\n",
       "    <tr>\n",
       "      <th>1</th>\n",
       "      <td>Capitol Hill, Lincoln Park</td>\n",
       "      <td>675</td>\n",
       "    </tr>\n",
       "    <tr>\n",
       "      <th>2</th>\n",
       "      <td>Columbia Heights, Mt. Pleasant, Pleasant Plain...</td>\n",
       "      <td>609</td>\n",
       "    </tr>\n",
       "    <tr>\n",
       "      <th>3</th>\n",
       "      <td>Edgewood, Bloomingdale, Truxton Circle, Eckington</td>\n",
       "      <td>603</td>\n",
       "    </tr>\n",
       "    <tr>\n",
       "      <th>4</th>\n",
       "      <td>Dupont Circle, Connecticut Avenue/K Street</td>\n",
       "      <td>562</td>\n",
       "    </tr>\n",
       "  </tbody>\n",
       "</table>\n",
       "</div>"
      ],
      "text/plain": [
       "                                  neighborhood group  count\n",
       "0          Union Station, Stanton Park, Kingman Park    808\n",
       "1                         Capitol Hill, Lincoln Park    675\n",
       "2  Columbia Heights, Mt. Pleasant, Pleasant Plain...    609\n",
       "3  Edgewood, Bloomingdale, Truxton Circle, Eckington    603\n",
       "4         Dupont Circle, Connecticut Avenue/K Street    562"
      ]
     },
     "execution_count": 7,
     "metadata": {},
     "output_type": "execute_result"
    }
   ],
   "source": [
    "nbhd_df = pd.DataFrame(nbhd_arr, columns=['neighborhood group', 'count'])\n",
    "nbhd_df.head()"
   ]
  },
  {
   "cell_type": "markdown",
   "id": "3efb0534-b69e-4a9c-9c69-d53150cc1048",
   "metadata": {},
   "source": [
    "The `neighbourhood_cleansed` variable contains 39 different neighborhood groupings. Each of the listings has an associated \"neighborhood group\"/"
   ]
  },
  {
   "cell_type": "code",
   "execution_count": 8,
   "id": "eb4e11b0-4e1e-4ecf-8abc-ef138efa24fb",
   "metadata": {},
   "outputs": [
    {
     "data": {
      "text/html": [
       "<div>\n",
       "<style scoped>\n",
       "    .dataframe tbody tr th:only-of-type {\n",
       "        vertical-align: middle;\n",
       "    }\n",
       "\n",
       "    .dataframe tbody tr th {\n",
       "        vertical-align: top;\n",
       "    }\n",
       "\n",
       "    .dataframe thead th {\n",
       "        text-align: right;\n",
       "    }\n",
       "</style>\n",
       "<table border=\"1\" class=\"dataframe\">\n",
       "  <thead>\n",
       "    <tr style=\"text-align: right;\">\n",
       "      <th></th>\n",
       "      <th>neighborhood group</th>\n",
       "      <th>count</th>\n",
       "    </tr>\n",
       "  </thead>\n",
       "  <tbody>\n",
       "    <tr>\n",
       "      <th>0</th>\n",
       "      <td>Union Station, Stanton Park, Kingman Park</td>\n",
       "      <td>808</td>\n",
       "    </tr>\n",
       "    <tr>\n",
       "      <th>1</th>\n",
       "      <td>Capitol Hill, Lincoln Park</td>\n",
       "      <td>675</td>\n",
       "    </tr>\n",
       "    <tr>\n",
       "      <th>2</th>\n",
       "      <td>Columbia Heights, Mt. Pleasant, Pleasant Plain...</td>\n",
       "      <td>609</td>\n",
       "    </tr>\n",
       "  </tbody>\n",
       "</table>\n",
       "</div>"
      ],
      "text/plain": [
       "                                  neighborhood group  count\n",
       "0          Union Station, Stanton Park, Kingman Park    808\n",
       "1                         Capitol Hill, Lincoln Park    675\n",
       "2  Columbia Heights, Mt. Pleasant, Pleasant Plain...    609"
      ]
     },
     "execution_count": 8,
     "metadata": {},
     "output_type": "execute_result"
    }
   ],
   "source": [
    "nbhd_df.head(3)"
   ]
  },
  {
   "cell_type": "markdown",
   "id": "82f3e628-d2e3-45cc-9203-653e89018202",
   "metadata": {},
   "source": [
    "Ordering by count allows us to view the neighborhood groups with the greatest number of listings. "
   ]
  },
  {
   "cell_type": "markdown",
   "id": "9fbd09be-0109-4599-bef1-0345bc63d411",
   "metadata": {},
   "source": [
    "### Secondary Data Source Neighborhood Name Count\n",
    "\n",
    "This query get's neighborhood names from our secondary data source with counts of how many listings exist per neighborhood and orders the output by neighborhood description."
   ]
  },
  {
   "cell_type": "code",
   "execution_count": 9,
   "id": "f55cf7a1",
   "metadata": {},
   "outputs": [
    {
     "ename": "OperationalError",
     "evalue": "no such table: property_info",
     "output_type": "error",
     "traceback": [
      "\u001b[1;31m---------------------------------------------------------------------------\u001b[0m",
      "\u001b[1;31mOperationalError\u001b[0m                          Traceback (most recent call last)",
      "\u001b[1;32m~\\AppData\\Local\\Temp\\ipykernel_11660\\1340378529.py\u001b[0m in \u001b[0;36m<module>\u001b[1;34m\u001b[0m\n\u001b[0;32m     10\u001b[0m '''\n\u001b[0;32m     11\u001b[0m \u001b[1;33m\u001b[0m\u001b[0m\n\u001b[1;32m---> 12\u001b[1;33m \u001b[0mcur\u001b[0m\u001b[1;33m.\u001b[0m\u001b[0mexecute\u001b[0m\u001b[1;33m(\u001b[0m\u001b[0mquery\u001b[0m\u001b[1;33m)\u001b[0m\u001b[1;33m\u001b[0m\u001b[1;33m\u001b[0m\u001b[0m\n\u001b[0m\u001b[0;32m     13\u001b[0m \u001b[0mcon\u001b[0m\u001b[1;33m.\u001b[0m\u001b[0mcommit\u001b[0m\u001b[1;33m(\u001b[0m\u001b[1;33m)\u001b[0m\u001b[1;33m\u001b[0m\u001b[1;33m\u001b[0m\u001b[0m\n\u001b[0;32m     14\u001b[0m \u001b[1;33m\u001b[0m\u001b[0m\n",
      "\u001b[1;31mOperationalError\u001b[0m: no such table: property_info"
     ]
    }
   ],
   "source": [
    "con=sqlite3.connect(db_path)\n",
    "cur = con.cursor()\n",
    "\n",
    "query = '''\n",
    "SELECT NBHDNAME, COUNT(*) as neighborhood_count\n",
    "FROM property_info\n",
    "WHERE PROPTYPE LIKE '%Residential%'\n",
    "GROUP BY NBHDNAME\n",
    "ORDER BY neighborhood_count DESC;\n",
    "'''\n",
    "\n",
    "cur.execute(query)\n",
    "con.commit()\n",
    "\n",
    "nbhdname_arr = cur.fetchall()\n",
    "con.close()"
   ]
  },
  {
   "cell_type": "code",
   "execution_count": null,
   "id": "cfe65e7a",
   "metadata": {},
   "outputs": [],
   "source": [
    "nbhdname_df = pd.DataFrame(nbhdname_arr, columns=['neighhborhood name', 'count'])\n",
    "nbhdname_df.head()"
   ]
  },
  {
   "cell_type": "markdown",
   "id": "61bd734f",
   "metadata": {},
   "source": [
    "### Number of Bathrooms\n",
    "\n",
    "This query gets the categorical description of bathrooms and counts how many of each type of bathroom exists.  It orders the bathrooms types from the largest in the count to smallest."
   ]
  },
  {
   "cell_type": "code",
   "execution_count": null,
   "id": "c5aed09a",
   "metadata": {},
   "outputs": [],
   "source": [
    "con=sqlite3.connect(db_path)\n",
    "cur = con.cursor()\n",
    "\n",
    "query = '''\n",
    "SELECT bathrooms_text, COUNT(*) as num_bath\n",
    "FROM listings\n",
    "GROUP BY bathrooms_text\n",
    "ORDER BY num_bath DESC;\n",
    "'''\n",
    "\n",
    "cur.execute(query)\n",
    "con.commit()\n",
    "\n",
    "bathroom = cur.fetchall()\n",
    "con.close()"
   ]
  },
  {
   "cell_type": "code",
   "execution_count": null,
   "id": "89285b4b",
   "metadata": {},
   "outputs": [],
   "source": [
    "nbhdname_df = pd.DataFrame(bathroom, columns=['bathroom', 'number bathrooms'])\n",
    "nbhdname_df.head()"
   ]
  },
  {
   "cell_type": "markdown",
   "id": "2c330bdf",
   "metadata": {},
   "source": [
    "### Superhost\n",
    "\n",
    "This query returns t (true) or f (false) whether the host is a superhost or not and counts the number of each.  The larger group will be reported first."
   ]
  },
  {
   "cell_type": "code",
   "execution_count": null,
   "id": "56bdc3fa",
   "metadata": {},
   "outputs": [],
   "source": [
    "con=sqlite3.connect(db_path)\n",
    "cur = con.cursor()\n",
    "\n",
    "query = '''\n",
    "SELECT host_is_superhost, COUNT(*) as num_superhosts\n",
    "FROM listings\n",
    "GROUP BY host_is_superhost\n",
    "ORDER BY num_superhosts DESC;\n",
    "'''\n",
    "\n",
    "cur.execute(query)\n",
    "con.commit()\n",
    "\n",
    "bathroom = cur.fetchall()\n",
    "con.close()"
   ]
  },
  {
   "cell_type": "code",
   "execution_count": null,
   "id": "8ed2e5d4",
   "metadata": {},
   "outputs": [],
   "source": [
    "superhost = pd.DataFrame(bathroom, columns=['superhost', 'count'])\n",
    "superhost.head()"
   ]
  },
  {
   "cell_type": "markdown",
   "id": "ec8e97a7",
   "metadata": {},
   "source": [
    "### Beds, Bedrooms, Accomodates and Price\n",
    "\n",
    "It gets the number of bedrooms, beds and how many the listing accomodates along with price.  It also changes numericals into respective ints and floats."
   ]
  },
  {
   "cell_type": "code",
   "execution_count": null,
   "id": "614d7f57",
   "metadata": {},
   "outputs": [],
   "source": [
    "con=sqlite3.connect(db_path)\n",
    "cur = con.cursor()\n",
    "\n",
    "query = '''\n",
    "SELECT id, CAST(bedrooms AS INT), CAST(beds AS INT), CAST(accommodates AS INT), CAST(REPLACE(price, '$', '') AS FLOAT)\n",
    "FROM listings;\n",
    "'''\n",
    "\n",
    "cur.execute(query)\n",
    "con.commit()\n",
    "\n",
    "bbap = cur.fetchall()\n",
    "con.close()"
   ]
  },
  {
   "cell_type": "code",
   "execution_count": null,
   "id": "a25dcc92",
   "metadata": {},
   "outputs": [],
   "source": [
    "bbap_arr = pd.DataFrame(bbap, columns=['id', 'number bedrooms', 'number beds', 'number accommodates', 'price'])\n",
    "bbap_arr.head()"
   ]
  },
  {
   "cell_type": "markdown",
   "id": "0a0ade8b",
   "metadata": {},
   "source": [
    "### Number of Reviews\n",
    "\n",
    "This query gets the number of reviews a listing has."
   ]
  },
  {
   "cell_type": "code",
   "execution_count": null,
   "id": "802aec45",
   "metadata": {},
   "outputs": [],
   "source": [
    "con=sqlite3.connect(db_path)\n",
    "cur = con.cursor()\n",
    "\n",
    "query = '''\n",
    "SELECT id, AVG(number_of_reviews) as avg_rev\n",
    "FROM listings\n",
    "GROUP BY id;\n",
    "'''\n",
    "\n",
    "cur.execute(query)\n",
    "con.commit()\n",
    "\n",
    "reviews1 = cur.fetchall()\n",
    "con.close()"
   ]
  },
  {
   "cell_type": "code",
   "execution_count": null,
   "id": "b3b73253",
   "metadata": {},
   "outputs": [],
   "source": [
    "reviews_arr = pd.DataFrame(reviews1, columns=['id', 'average reviews'])\n",
    "reviews_arr.head()"
   ]
  },
  {
   "cell_type": "markdown",
   "id": "41e8123c",
   "metadata": {},
   "source": [
    "### Review Scores Rating\n",
    "\n",
    "Reports the average review score a rating has."
   ]
  },
  {
   "cell_type": "code",
   "execution_count": null,
   "id": "e91998c4",
   "metadata": {},
   "outputs": [],
   "source": [
    "con=sqlite3.connect(db_path)\n",
    "cur = con.cursor()\n",
    "\n",
    "query = '''\n",
    "SELECT id, AVG(review_scores_rating) AS FLOAT\n",
    "FROM listings\n",
    "GROUP BY id;\n",
    "'''\n",
    "\n",
    "cur.execute(query)\n",
    "con.commit()\n",
    "\n",
    "reviews2 = cur.fetchall()\n",
    "con.close()"
   ]
  },
  {
   "cell_type": "code",
   "execution_count": null,
   "id": "84c6bd52",
   "metadata": {},
   "outputs": [],
   "source": [
    "reviews2_arr = pd.DataFrame(reviews2, columns=['superhost', 'count'])\n",
    "reviews2_arr.head()"
   ]
  },
  {
   "cell_type": "markdown",
   "id": "f013a993",
   "metadata": {},
   "source": [
    "### Reviews Per Month\n",
    "\n",
    "Reports the average reviews by listing id.  "
   ]
  },
  {
   "cell_type": "code",
   "execution_count": null,
   "id": "1ce19c54",
   "metadata": {},
   "outputs": [],
   "source": [
    "con=sqlite3.connect(db_path)\n",
    "cur = con.cursor()\n",
    "\n",
    "query = '''\n",
    "SELECT id, AVG(reviews_per_month) AS FLOAT\n",
    "FROM listings\n",
    "GROUP BY id;\n",
    "'''\n",
    "\n",
    "cur.execute(query)\n",
    "con.commit()\n",
    "\n",
    "reviews3 = cur.fetchall()\n",
    "con.close()"
   ]
  },
  {
   "cell_type": "code",
   "execution_count": null,
   "id": "2aa88fd8",
   "metadata": {},
   "outputs": [],
   "source": [
    "reviews3_arr = pd.DataFrame(reviews3, columns=['id', 'average reviews per month'])\n",
    "reviews3_arr.head()"
   ]
  },
  {
   "cell_type": "markdown",
   "id": "6e74b949",
   "metadata": {},
   "source": [
    "### Room Type, Property Type, Instantly Bookable and Price\n",
    "\n",
    "This query gets the room type, property type, a t (true) or f (false) whether it's instantly bookable and price."
   ]
  },
  {
   "cell_type": "code",
   "execution_count": null,
   "id": "f5a7cfbd",
   "metadata": {},
   "outputs": [],
   "source": [
    "con=sqlite3.connect(db_path)\n",
    "cur = con.cursor()\n",
    "\n",
    "query = '''\n",
    "SELECT room_type, property_type, instant_bookable, price\n",
    "FROM listings;\n",
    "'''\n",
    "\n",
    "cur.execute(query)\n",
    "con.commit()\n",
    "\n",
    "misc1 = cur.fetchall()\n",
    "con.close()"
   ]
  },
  {
   "cell_type": "code",
   "execution_count": null,
   "id": "32b397c3",
   "metadata": {},
   "outputs": [],
   "source": [
    "misc1_arr = pd.DataFrame(misc1, columns=['room type', 'property type', 'instantly bookable', 'price'])\n",
    "misc1_arr.head()"
   ]
  },
  {
   "cell_type": "markdown",
   "id": "a450e7ac",
   "metadata": {},
   "source": [
    "### Host Response Time, Host Response Rate, Host Acceptance Rate and Price\n",
    "\n",
    "This query gets the host response time, rate and acceptance rate."
   ]
  },
  {
   "cell_type": "code",
   "execution_count": null,
   "id": "1e3686eb",
   "metadata": {},
   "outputs": [],
   "source": [
    "con=sqlite3.connect(db_path)\n",
    "cur = con.cursor()\n",
    "\n",
    "query = '''\n",
    "SELECT price, host_response_time, host_response_rate, host_acceptance_rate\n",
    "FROM listings;\n",
    "'''\n",
    "\n",
    "cur.execute(query)\n",
    "con.commit()\n",
    "\n",
    "misc2 = cur.fetchall()\n",
    "con.close()"
   ]
  },
  {
   "cell_type": "code",
   "execution_count": null,
   "id": "a4a002d2",
   "metadata": {},
   "outputs": [],
   "source": [
    "misc2_arr = pd.DataFrame(misc2, columns=['price', 'host response time', 'host response rate', 'host acceptance rate'])\n",
    "misc2_arr.head()"
   ]
  },
  {
   "cell_type": "markdown",
   "id": "959376cc",
   "metadata": {},
   "source": [
    "### Bathrooms Text Description and Price\n",
    "\n",
    "This query gets the listing id, price and bathroom type (categorical).  Every time we use the price we cast it to take out the dollar sign and change it into a float."
   ]
  },
  {
   "cell_type": "code",
   "execution_count": null,
   "id": "2237f0d6",
   "metadata": {},
   "outputs": [],
   "source": [
    "con=sqlite3.connect(db_path)\n",
    "cur = con.cursor()\n",
    "\n",
    "query = '''\n",
    "SELECT id, CAST(REPLACE(price, '$', '') AS FLOAT), bathrooms_text FROM listings;\n",
    "'''\n",
    "\n",
    "cur.execute(query)\n",
    "con.commit()\n",
    "\n",
    "bathroom2 = cur.fetchall()\n",
    "con.close()"
   ]
  },
  {
   "cell_type": "code",
   "execution_count": null,
   "id": "58714699",
   "metadata": {},
   "outputs": [],
   "source": [
    "bathroom2_arr = pd.DataFrame(bathroom2, columns=['id', 'price', 'bathrooms'])\n",
    "bathroom2_arr.head()"
   ]
  },
  {
   "cell_type": "markdown",
   "id": "f9414426",
   "metadata": {},
   "source": [
    "### Neighbourhood Cleansed and Price\n",
    "\n",
    "This query gets the listing id, price and neighborhood group."
   ]
  },
  {
   "cell_type": "code",
   "execution_count": null,
   "id": "55af4029",
   "metadata": {},
   "outputs": [],
   "source": [
    "con=sqlite3.connect(db_path)\n",
    "cur = con.cursor()\n",
    "\n",
    "query = '''\n",
    "SELECT id, CAST(REPLACE(price, '$', '') AS FLOAT), neighbourhood_cleansed FROM listings;\n",
    "'''\n",
    "\n",
    "cur.execute(query)\n",
    "con.commit()\n",
    "\n",
    "neighbourhood2 = cur.fetchall()\n",
    "con.close()"
   ]
  },
  {
   "cell_type": "code",
   "execution_count": null,
   "id": "efec2dbb",
   "metadata": {},
   "outputs": [],
   "source": [
    "neighbourhood2_arr = pd.DataFrame(neighbourhood2, columns=['id', 'price', 'neighbourhood'])\n",
    "neighbourhood2_arr.head()"
   ]
  },
  {
   "cell_type": "markdown",
   "id": "33d84305",
   "metadata": {},
   "source": [
    "### Superhost and Price\n",
    "\n",
    "This query reports the listing id, price and whether the host is a superhost t (true) or f (false)."
   ]
  },
  {
   "cell_type": "code",
   "execution_count": null,
   "id": "aab60207",
   "metadata": {},
   "outputs": [],
   "source": [
    "con=sqlite3.connect(db_path)\n",
    "cur = con.cursor()\n",
    "\n",
    "query = '''\n",
    "SELECT id, CAST(REPLACE(price, '$', '') AS FLOAT), host_is_superhost\n",
    "FROM listings;\n",
    "'''\n",
    "\n",
    "cur.execute(query)\n",
    "con.commit()\n",
    "\n",
    "superhost2 = cur.fetchall()\n",
    "con.close()"
   ]
  },
  {
   "cell_type": "code",
   "execution_count": null,
   "id": "5840d9da",
   "metadata": {},
   "outputs": [],
   "source": [
    "superhost2_arr = pd.DataFrame(superhost2, columns=['id', 'price', 'superhost'])\n",
    "superhost2_arr.head()"
   ]
  },
  {
   "cell_type": "markdown",
   "id": "e9543eea",
   "metadata": {},
   "source": [
    "### Room Type, Property Type, Instantly Bookable and Price\n",
    "\n",
    "This query gets the room type, property type, whether it's instantly bookable and the price."
   ]
  },
  {
   "cell_type": "code",
   "execution_count": null,
   "id": "41a1e8fb",
   "metadata": {},
   "outputs": [],
   "source": [
    "con=sqlite3.connect(db_path)\n",
    "cur = con.cursor()\n",
    "\n",
    "query = '''\n",
    "SELECT room_type, property_type, instant_bookable, price\n",
    "FROM listings;\n",
    "'''\n",
    "\n",
    "cur.execute(query)\n",
    "con.commit()\n",
    "\n",
    "misc3 = cur.fetchall()\n",
    "con.close()"
   ]
  },
  {
   "cell_type": "code",
   "execution_count": null,
   "id": "8bbd55c4",
   "metadata": {},
   "outputs": [],
   "source": [
    "misc3_arr = pd.DataFrame(misc3, columns=['room type', 'property type', 'instantly bookable', 'price'])\n",
    "misc3_arr.head()"
   ]
  }
 ],
 "metadata": {
  "kernelspec": {
   "display_name": "Python 3 (ipykernel)",
   "language": "python",
   "name": "python3"
  },
  "language_info": {
   "codemirror_mode": {
    "name": "ipython",
    "version": 3
   },
   "file_extension": ".py",
   "mimetype": "text/x-python",
   "name": "python",
   "nbconvert_exporter": "python",
   "pygments_lexer": "ipython3",
   "version": "3.9.13"
  }
 },
 "nbformat": 4,
 "nbformat_minor": 5
}
