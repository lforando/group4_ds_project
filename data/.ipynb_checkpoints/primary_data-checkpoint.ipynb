{
 "cells": [
  {
   "cell_type": "code",
   "execution_count": 5,
   "id": "f378ce0f-13cd-4624-9510-c985ef8b563d",
   "metadata": {},
   "outputs": [],
   "source": [
    "import xlrd\n",
    "import os \n",
    "import sqlite3\n",
    "import csv"
   ]
  },
  {
   "cell_type": "code",
   "execution_count": 8,
   "id": "e2460a41-04fa-4f26-a7af-862d70868704",
   "metadata": {},
   "outputs": [
    {
     "name": "stdout",
     "output_type": "stream",
     "text": [
      "here\n",
      "('2022-01-01', 17.5, 12.3, 14.6, 17.5, 12.3, 14.6, 13.3, 92.1, 11.399, 100, 37.5, 'rain', 0, 0, '', 18.4, 190.1, 1007.2, 99.5, 10, 21.4, 0.6, 0, '', '2022-01-01T07:26:53', '2022-01-01T16:56:53', 0.96, 'Rain, Overcast', 'Cloudy skies throughout the day with rain.', 'rain', 'KDCA,72405013743,72403793728,F0198,KADW,KDAA,AS365,74594013705')\n"
     ]
    }
   ],
   "source": [
    "db_path = './datawarehouse.db'\n",
    "con=sqlite3.connect(db_path)\n",
    "cur = con.cursor()\n",
    "\n",
    "query = '''SELECT * FROM weather'''\n",
    "\n",
    "cur.execute(query)\n",
    "con.commit()\n",
    "r = cur.fetchone()\n",
    "\n",
    "print(r)"
   ]
  },
  {
   "cell_type": "code",
   "execution_count": 6,
   "id": "9d50be22-00c4-41b1-8a4b-ae5e402cdb94",
   "metadata": {},
   "outputs": [
    {
     "ename": "OperationalError",
     "evalue": "ambiguous column name: date",
     "output_type": "error",
     "traceback": [
      "\u001b[0;31m---------------------------------------------------------------------------\u001b[0m",
      "\u001b[0;31mOperationalError\u001b[0m                          Traceback (most recent call last)",
      "Cell \u001b[0;32mIn[6], line 11\u001b[0m\n\u001b[1;32m      3\u001b[0m cur \u001b[38;5;241m=\u001b[39m con\u001b[38;5;241m.\u001b[39mcursor()\n\u001b[1;32m      5\u001b[0m query \u001b[38;5;241m=\u001b[39m \u001b[38;5;124m'''\u001b[39m\u001b[38;5;124mCREATE TABLE calendar_weather AS\u001b[39m\n\u001b[1;32m      6\u001b[0m \u001b[38;5;124mSelect date, tempmax\u001b[39m\n\u001b[1;32m      7\u001b[0m \u001b[38;5;124mFROM weather\u001b[39m\n\u001b[1;32m      8\u001b[0m \u001b[38;5;124mJOIN calendar\u001b[39m\n\u001b[1;32m      9\u001b[0m \u001b[38;5;124mON Date(weather.date) = DATE(calendar.date);\u001b[39m\u001b[38;5;124m'''\u001b[39m\n\u001b[0;32m---> 11\u001b[0m \u001b[43mcur\u001b[49m\u001b[38;5;241;43m.\u001b[39;49m\u001b[43mexecute\u001b[49m\u001b[43m(\u001b[49m\u001b[43mquery\u001b[49m\u001b[43m)\u001b[49m\n\u001b[1;32m     12\u001b[0m \u001b[38;5;28mprint\u001b[39m(\u001b[38;5;124m'\u001b[39m\u001b[38;5;124mhere\u001b[39m\u001b[38;5;124m'\u001b[39m)\n\u001b[1;32m     13\u001b[0m con\u001b[38;5;241m.\u001b[39mcommit()\n",
      "\u001b[0;31mOperationalError\u001b[0m: ambiguous column name: date"
     ]
    }
   ],
   "source": [
    "db_path = './datawarehouse.db'\n",
    "con=sqlite3.connect(db_path)\n",
    "cur = con.cursor()\n",
    "\n",
    "query = '''CREATE TABLE calendar_weather AS\n",
    "Select date, tempmax\n",
    "FROM weather\n",
    "JOIN calendar\n",
    "ON Date(weather.date) = DATE(calendar.date);'''\n",
    "\n",
    "cur.execute(query)\n",
    "print('here')\n",
    "con.commit()\n",
    "r = cur.fetchone()\n",
    "\n",
    "print(r)\n",
    "\n",
    "con.close()"
   ]
  },
  {
   "cell_type": "code",
   "execution_count": 3,
   "id": "298d0f9b-4837-4246-b05c-c93077c0cf5c",
   "metadata": {},
   "outputs": [
    {
     "ename": "NameError",
     "evalue": "name 'con' is not defined",
     "output_type": "error",
     "traceback": [
      "\u001b[0;31m---------------------------------------------------------------------------\u001b[0m",
      "\u001b[0;31mNameError\u001b[0m                                 Traceback (most recent call last)",
      "Cell \u001b[0;32mIn[3], line 1\u001b[0m\n\u001b[0;32m----> 1\u001b[0m \u001b[43mcon\u001b[49m\u001b[38;5;241m.\u001b[39mclose()\n",
      "\u001b[0;31mNameError\u001b[0m: name 'con' is not defined"
     ]
    }
   ],
   "source": [
    "con.close()"
   ]
  },
  {
   "cell_type": "markdown",
   "id": "69c15d1e-7121-465a-9715-3265edcee175",
   "metadata": {},
   "source": [
    "# Backup"
   ]
  },
  {
   "cell_type": "code",
   "execution_count": 10,
   "id": "b090a2ae-3067-4622-8929-3c26df0f8d31",
   "metadata": {},
   "outputs": [
    {
     "name": "stdout",
     "output_type": "stream",
     "text": [
      "Saved Data Dictonaries:\n",
      "\tlistings.csv detail v4.3\n",
      "\tlistings.csv detail v4\n",
      "\treviews.csv v1\n",
      "\tcalendar.csv v2\n"
     ]
    }
   ],
   "source": [
    "# Full path to xls, including filename\n",
    "xls_path = './primary/airbnb_data_dict.xls'\n",
    "airbnb_file = xlrd.open_workbook_xls(xls_path)\n",
    "airbnb_var_sheets = airbnb_file.sheets()\n",
    "\n",
    "variable_dict = {}\n",
    "print('Saved Data Dictonaries:')\n",
    "for s in airbnb_var_sheets:\n",
    "    s_name = s.name\n",
    "    var_stored = True\n",
    "    \n",
    "    if s_name.rfind('listings.csv detail v4') != -1:\n",
    "        variable_dict['listings'] = s\n",
    "        \n",
    "    elif s_name.rfind('reviews.csv v1') != -1:\n",
    "        variable_dict['reviews'] = s\n",
    "        \n",
    "    elif s_name.rfind('calendar.csv v2') != -1:\n",
    "        variable_dict['calendar'] = s\n",
    "        \n",
    "    else:\n",
    "        var_stored = False\n",
    "        \n",
    "    if var_stored:\n",
    "        print(f'\\t{s_name}')"
   ]
  },
  {
   "cell_type": "code",
   "execution_count": 49,
   "id": "9a6bfb67-3f42-4dc3-826d-b6977dd8e4ec",
   "metadata": {},
   "outputs": [],
   "source": [
    "# Automatically create the listings table\n",
    "cur_sheet = variable_dict['listings']\n",
    "field_vals = cur_sheet.col_values(0)[8:82]\n",
    "type_vals = cur_sheet.col_values(1)[8:82]\n",
    "\n",
    "out = f'''-- Table: listings\n",
    "DROP TABLE IF EXISTS listings;\n",
    "CREATE TABLE listings(\n",
    "    id int PRIMARY KEY,\\n'''\n",
    "\n",
    "for val in range (1, len(field_vals)-1):\n",
    "    var_type = type_vals[val]\n",
    "    if var_type == 'boolean [t=true; f=false]':\n",
    "        var_type = 'boolean'\n",
    "    if var_type == '':\n",
    "        var_type = 'blob'\n",
    "    out+=f'''    {field_vals[val]} {var_type},\\n'''\n",
    "    \n",
    "out+=f'''    {field_vals[len(field_vals)-1]} {var_type}\n",
    ");\\n\\n'''"
   ]
  },
  {
   "cell_type": "code",
   "execution_count": 50,
   "id": "f89af715-d332-4e5b-a9bb-2c5677297d2f",
   "metadata": {},
   "outputs": [
    {
     "name": "stdout",
     "output_type": "stream",
     "text": [
      "74\n"
     ]
    }
   ],
   "source": [
    "print(len(field_vals))"
   ]
  },
  {
   "cell_type": "code",
   "execution_count": 45,
   "id": "ef2aef8e-713b-4eb3-84d3-7a06e24551d8",
   "metadata": {},
   "outputs": [],
   "source": [
    "# Automatically create the reviews table\n",
    "cur_sheet = variable_dict['reviews']\n",
    "field_vals = cur_sheet.col_values(0)[8:14]\n",
    "type_vals = cur_sheet.col_values(1)[8:14]\n",
    "\n",
    "out += f'''-- Table: reviews\n",
    "DROP TABLE IF EXISTS reviews;\n",
    "CREATE TABLE reviews(\n",
    "    id int PRIMARY KEY,\n",
    "    listing_id int,\\n'''\n",
    "\n",
    "for val in range (1, len(field_vals)-1):\n",
    "    var_type = type_vals[val]\n",
    "    if var_type == 'boolean [t=true; f=false]':\n",
    "        var_type = 'boolean'\n",
    "    if var_type == '':\n",
    "        var_type = 'blob'\n",
    "    out+=f'''    {field_vals[val]} {var_type},\\n'''\n",
    "    \n",
    "out+=f'''    {field_vals[len(field_vals)-1]} {var_type}\n",
    ");\\n\\n'''"
   ]
  },
  {
   "cell_type": "code",
   "execution_count": 46,
   "id": "cd74ae95-6d89-4765-8ad8-2162e3bfb445",
   "metadata": {},
   "outputs": [],
   "source": [
    "# Automatically create the reviews table\n",
    "cur_sheet = variable_dict['calendar']\n",
    "field_vals = cur_sheet.col_values(0)[8:15]\n",
    "type_vals = cur_sheet.col_values(1)[8:15]\n",
    "\n",
    "out += f'''-- Table: calendar\n",
    "DROP TABLE IF EXISTS calendar;\n",
    "CREATE TABLE calendar(\n",
    "    id int PRIMARY KEY,\n",
    "    listing_id int,\\n'''\n",
    "\n",
    "for val in range (1, len(field_vals)-1):\n",
    "    var_type = type_vals[val]\n",
    "    if var_type == 'boolean [t=true; f=false]':\n",
    "        var_type = 'boolean'\n",
    "    if var_type == '':\n",
    "        var_type = 'blob'\n",
    "    if field_vals[val]!='id':\n",
    "        out+=f'''    {field_vals[val]} {var_type},\\n'''\n",
    "    \n",
    "out+=f'''    {field_vals[len(field_vals)-1]} {var_type}\n",
    ");\\n\\n'''"
   ]
  },
  {
   "cell_type": "code",
   "execution_count": 47,
   "id": "a561b062-e18a-42d2-b7c2-fb3a330807e2",
   "metadata": {},
   "outputs": [],
   "source": [
    "text_file = open(\"datawarehouse.sql\", \"w\")\n",
    "n = text_file.write(out)\n",
    "text_file.close()"
   ]
  },
  {
   "cell_type": "code",
   "execution_count": 38,
   "id": "5802fee7-3927-480a-b643-00ca3c4b1e22",
   "metadata": {},
   "outputs": [
    {
     "data": {
      "text/plain": [
       "['listing_id',\n",
       " 'date',\n",
       " 'available',\n",
       " 'price',\n",
       " 'adjusted_price',\n",
       " 'minimum_nights',\n",
       " 'maximum_nights']"
      ]
     },
     "execution_count": 38,
     "metadata": {},
     "output_type": "execute_result"
    }
   ],
   "source": [
    "field_vals"
   ]
  },
  {
   "cell_type": "code",
   "execution_count": null,
   "id": "b3ba7ede-d2d0-496b-8196-e7c7536c2bda",
   "metadata": {},
   "outputs": [],
   "source": [
    "\n",
    "\n",
    "out = f'''-- Table: listings\n",
    "DROP TABLE IF EXISTS listings;\n",
    "CREATE TABLE listings(\n",
    "    id int PRIMARY KEY,\\n'''\n",
    "\n"
   ]
  }
 ],
 "metadata": {
  "kernelspec": {
   "display_name": "Python (en685648)",
   "language": "python",
   "name": "en685648"
  },
  "language_info": {
   "codemirror_mode": {
    "name": "ipython",
    "version": 3
   },
   "file_extension": ".py",
   "mimetype": "text/x-python",
   "name": "python",
   "nbconvert_exporter": "python",
   "pygments_lexer": "ipython3",
   "version": "3.10.8"
  }
 },
 "nbformat": 4,
 "nbformat_minor": 5
}
