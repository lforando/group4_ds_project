{
 "cells": [
  {
   "cell_type": "code",
   "execution_count": 1,
   "metadata": {},
   "outputs": [],
   "source": [
    "%matplotlib inline"
   ]
  },
  {
   "cell_type": "code",
   "execution_count": 5,
   "metadata": {},
   "outputs": [],
   "source": [
    "import xlrd\n",
    "import os \n",
    "import sqlite3\n",
    "import csv\n",
    "import matplotlib.pyplot as plt\n",
    "import numpy as np\n",
    "import seaborn as sns\n",
    "import pandas as pd\n",
    "\n",
    "sns.set(style=\"whitegrid\")"
   ]
  },
  {
   "attachments": {},
   "cell_type": "markdown",
   "metadata": {},
   "source": [
    "##### Create Dataframe with variables of interest"
   ]
  },
  {
   "cell_type": "code",
   "execution_count": 7,
   "metadata": {},
   "outputs": [
    {
     "data": {
      "text/html": [
       "<div>\n",
       "<style scoped>\n",
       "    .dataframe tbody tr th:only-of-type {\n",
       "        vertical-align: middle;\n",
       "    }\n",
       "\n",
       "    .dataframe tbody tr th {\n",
       "        vertical-align: top;\n",
       "    }\n",
       "\n",
       "    .dataframe thead th {\n",
       "        text-align: right;\n",
       "    }\n",
       "</style>\n",
       "<table border=\"1\" class=\"dataframe\">\n",
       "  <thead>\n",
       "    <tr style=\"text-align: right;\">\n",
       "      <th></th>\n",
       "      <th>room_type</th>\n",
       "      <th>price</th>\n",
       "      <th>instant_bookable</th>\n",
       "      <th>property_type</th>\n",
       "    </tr>\n",
       "  </thead>\n",
       "  <tbody>\n",
       "    <tr>\n",
       "      <th>0</th>\n",
       "      <td>Private room</td>\n",
       "      <td>$20.00</td>\n",
       "      <td>f</td>\n",
       "      <td>Private room in townhouse</td>\n",
       "    </tr>\n",
       "    <tr>\n",
       "      <th>1</th>\n",
       "      <td>Entire home/apt</td>\n",
       "      <td>$185.00</td>\n",
       "      <td>f</td>\n",
       "      <td>Entire townhouse</td>\n",
       "    </tr>\n",
       "    <tr>\n",
       "      <th>2</th>\n",
       "      <td>Entire home/apt</td>\n",
       "      <td>$221.00</td>\n",
       "      <td>f</td>\n",
       "      <td>Entire rental unit</td>\n",
       "    </tr>\n",
       "    <tr>\n",
       "      <th>3</th>\n",
       "      <td>Entire home/apt</td>\n",
       "      <td>$142.00</td>\n",
       "      <td>t</td>\n",
       "      <td>Entire guest suite</td>\n",
       "    </tr>\n",
       "    <tr>\n",
       "      <th>4</th>\n",
       "      <td>Entire home/apt</td>\n",
       "      <td>$398.00</td>\n",
       "      <td>t</td>\n",
       "      <td>Entire rental unit</td>\n",
       "    </tr>\n",
       "    <tr>\n",
       "      <th>...</th>\n",
       "      <td>...</td>\n",
       "      <td>...</td>\n",
       "      <td>...</td>\n",
       "      <td>...</td>\n",
       "    </tr>\n",
       "    <tr>\n",
       "      <th>8623</th>\n",
       "      <td>Entire home/apt</td>\n",
       "      <td>$70.00</td>\n",
       "      <td>f</td>\n",
       "      <td>Entire condo</td>\n",
       "    </tr>\n",
       "    <tr>\n",
       "      <th>8624</th>\n",
       "      <td>Entire home/apt</td>\n",
       "      <td>$253.00</td>\n",
       "      <td>t</td>\n",
       "      <td>Entire serviced apartment</td>\n",
       "    </tr>\n",
       "    <tr>\n",
       "      <th>8625</th>\n",
       "      <td>Entire home/apt</td>\n",
       "      <td>$95.00</td>\n",
       "      <td>t</td>\n",
       "      <td>Entire condo</td>\n",
       "    </tr>\n",
       "    <tr>\n",
       "      <th>8626</th>\n",
       "      <td>Entire home/apt</td>\n",
       "      <td>$180.00</td>\n",
       "      <td>t</td>\n",
       "      <td>Entire serviced apartment</td>\n",
       "    </tr>\n",
       "    <tr>\n",
       "      <th>8627</th>\n",
       "      <td>Entire home/apt</td>\n",
       "      <td>$150.00</td>\n",
       "      <td>t</td>\n",
       "      <td>Entire home</td>\n",
       "    </tr>\n",
       "  </tbody>\n",
       "</table>\n",
       "<p>8628 rows × 4 columns</p>\n",
       "</div>"
      ],
      "text/plain": [
       "            room_type    price instant_bookable              property_type\n",
       "0        Private room   $20.00                f  Private room in townhouse\n",
       "1     Entire home/apt  $185.00                f           Entire townhouse\n",
       "2     Entire home/apt  $221.00                f         Entire rental unit\n",
       "3     Entire home/apt  $142.00                t         Entire guest suite\n",
       "4     Entire home/apt  $398.00                t         Entire rental unit\n",
       "...               ...      ...              ...                        ...\n",
       "8623  Entire home/apt   $70.00                f               Entire condo\n",
       "8624  Entire home/apt  $253.00                t  Entire serviced apartment\n",
       "8625  Entire home/apt   $95.00                t               Entire condo\n",
       "8626  Entire home/apt  $180.00                t  Entire serviced apartment\n",
       "8627  Entire home/apt  $150.00                t                Entire home\n",
       "\n",
       "[8628 rows x 4 columns]"
      ]
     },
     "execution_count": 7,
     "metadata": {},
     "output_type": "execute_result"
    }
   ],
   "source": [
    "db_path = './datawarehouse.db'\n",
    "con=sqlite3.connect(db_path)\n",
    "cur = con.cursor()\n",
    "\n",
    "sql_query = pd.read_sql_query('''SELECT room_type, property_type, instant_bookable, price\n",
    "FROM listings''', con)\n",
    "\n",
    "df = pd.DataFrame(sql_query, columns = ['room_type', 'price', 'instant_bookable', 'property_type'])\n",
    "df"
   ]
  },
  {
   "cell_type": "code",
   "execution_count": 8,
   "metadata": {},
   "outputs": [],
   "source": [
    "# this changes price from currency to a float\n",
    "df[\"price\"] = df[\"price\"].replace(\"[$,]\", \"\", regex=True).astype(float)"
   ]
  },
  {
   "attachments": {},
   "cell_type": "markdown",
   "metadata": {},
   "source": [
    "### Room Type"
   ]
  },
  {
   "cell_type": "code",
   "execution_count": 11,
   "metadata": {},
   "outputs": [
    {
     "data": {
      "text/plain": [
       "Entire home/apt    6455\n",
       "Private room       2028\n",
       "Shared room         123\n",
       "Hotel room           22\n",
       "Name: room_type, dtype: int64"
      ]
     },
     "execution_count": 11,
     "metadata": {},
     "output_type": "execute_result"
    }
   ],
   "source": [
    "df.room_type.value_counts()"
   ]
  },
  {
   "attachments": {},
   "cell_type": "markdown",
   "metadata": {},
   "source": [
    "Roughly 74.8% of the listings are categorized as entire home or apartment, 23.5% of listings are categorized as a private room, 1.4% of listings are categorized as a shared room, and less than 1% is categorized as a hotel room."
   ]
  },
  {
   "attachments": {},
   "cell_type": "markdown",
   "metadata": {},
   "source": [
    "### Instant Bookable"
   ]
  },
  {
   "cell_type": "code",
   "execution_count": 12,
   "metadata": {},
   "outputs": [
    {
     "data": {
      "text/plain": [
       "f    5767\n",
       "t    2861\n",
       "Name: instant_bookable, dtype: int64"
      ]
     },
     "execution_count": 12,
     "metadata": {},
     "output_type": "execute_result"
    }
   ],
   "source": [
    "df.instant_bookable.value_counts()"
   ]
  },
  {
   "attachments": {},
   "cell_type": "markdown",
   "metadata": {},
   "source": [
    "Approximately 69% of the observed listings are not available to instantly book, whereas 31% of listings are available to be instantly booked."
   ]
  },
  {
   "attachments": {},
   "cell_type": "markdown",
   "metadata": {},
   "source": [
    "### Property Type"
   ]
  },
  {
   "cell_type": "code",
   "execution_count": 13,
   "metadata": {},
   "outputs": [
    {
     "data": {
      "text/plain": [
       "Entire rental unit                    2819\n",
       "Entire home                            935\n",
       "Private room in home                   746\n",
       "Entire condo                           673\n",
       "Entire serviced apartment              655\n",
       "Entire townhouse                       630\n",
       "Entire guest suite                     552\n",
       "Private room in rental unit            506\n",
       "Private room in townhouse              354\n",
       "Room in boutique hotel                 120\n",
       "Room in hotel                           98\n",
       "Private room in condo                   82\n",
       "Entire guesthouse                       79\n",
       "Shared room in rental unit              50\n",
       "Private room in bed and breakfast       45\n",
       "Private room in guest suite             42\n",
       "Entire loft                             37\n",
       "Shared room in townhouse                29\n",
       "Shared room in home                     21\n",
       "Room in aparthotel                      19\n",
       "Shared room in hostel                   17\n",
       "Entire vacation home                    17\n",
       "Entire bungalow                         11\n",
       "Room in hostel                          11\n",
       "Private room in guesthouse               9\n",
       "Entire place                             7\n",
       "Private room in loft                     7\n",
       "Room in bed and breakfast                6\n",
       "Private room in hostel                   5\n",
       "Private room in villa                    4\n",
       "Private room                             4\n",
       "Tiny home                                3\n",
       "Casa particular                          3\n",
       "Entire villa                             3\n",
       "Private room in resort                   3\n",
       "Private room in bungalow                 2\n",
       "Room in serviced apartment               2\n",
       "Castle                                   2\n",
       "Shared room in guesthouse                2\n",
       "Entire cottage                           2\n",
       "Camper/RV                                2\n",
       "Private room in serviced apartment       2\n",
       "Private room in casa particular          2\n",
       "Shared room in serviced apartment        1\n",
       "Campsite                                 1\n",
       "Tent                                     1\n",
       "Tower                                    1\n",
       "Shared room in loft                      1\n",
       "Houseboat                                1\n",
       "Shared room in hotel                     1\n",
       "Floor                                    1\n",
       "Shared room in bed and breakfast         1\n",
       "Boat                                     1\n",
       "Name: property_type, dtype: int64"
      ]
     },
     "execution_count": 13,
     "metadata": {},
     "output_type": "execute_result"
    }
   ],
   "source": [
    "df.property_type.value_counts()"
   ]
  },
  {
   "attachments": {},
   "cell_type": "markdown",
   "metadata": {},
   "source": [
    "While this is a categorical variable, it seems some of the listing property types have unique names/titles that only relate to one or a few listings, causing a large number of buckets/options."
   ]
  }
 ],
 "metadata": {
  "kernelspec": {
   "display_name": "en685648",
   "language": "python",
   "name": "python3"
  },
  "language_info": {
   "codemirror_mode": {
    "name": "ipython",
    "version": 3
   },
   "file_extension": ".py",
   "mimetype": "text/x-python",
   "name": "python",
   "nbconvert_exporter": "python",
   "pygments_lexer": "ipython3",
   "version": "3.10.8"
  },
  "orig_nbformat": 4
 },
 "nbformat": 4,
 "nbformat_minor": 2
}
