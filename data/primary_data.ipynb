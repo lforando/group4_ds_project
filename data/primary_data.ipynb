{
 "cells": [
  {
   "cell_type": "code",
   "execution_count": 2,
   "id": "f378ce0f-13cd-4624-9510-c985ef8b563d",
   "metadata": {},
   "outputs": [],
   "source": [
    "import xlrd\n",
    "import os \n",
    "import sqlite3\n",
    "import csv"
   ]
  },
  {
   "cell_type": "code",
   "execution_count": 3,
   "id": "9d50be22-00c4-41b1-8a4b-ae5e402cdb94",
   "metadata": {},
   "outputs": [
    {
     "name": "stdout",
     "output_type": "stream",
     "text": [
      "(22229408, 'https://www.airbnb.com/rooms/22229408', 20230319041206, '2023-03-19', \"Explorer's Paradise: Near Train, Bus & Bike Share\", 'Welcome to your perfect urban escape in the Nation’s Capital! Only .4 miles (10 min walk) from the Metro train & Capital Bikeshare, and a 10 min Metro ride to major DC attractions, this oasis has all you need to enjoy a weekend or extended stay. Perfect space for singles and couples.<br /><br /><b>Guest access</b><br />This remodeled home has 2 stories of space to enjoy when staying here for your visit in the DC area. Guests have own private room that includes: queen bed with high quality bed linens/blankets, ceiling fan, private closet with hamper and ample clothes hangers, luggage rack, and full-length mirror. Adjacent to the guest room is a completely remodeled bathroom, just for use by guests, furnished with plush towels and hair dryer. Bedroom and bathroom are on the upper story of the home. The other shared areas that are accessible to our guests, include a quaint front porch, that is perfect for unwinding in the evening, and a calm and comfortable living /dining room.<br /><br /', 'My home is located in the Edgewood neighborhood of DC. Upon first glance, some people see it as a bit rough around the edges, but the business owners and neighbors are all very friendly. The neighborhood was once the estate of Salmon P. Chase: statesman, abolitionist and jurist. The neighborhood arose with the establishment of the Metropolitan Branch Line of the C&O Railroad in 1873. This line now includes the Metropolitan Branch Trail (a biking and walking trail) and the red line of the metro (subway). Within a few blocks are grocery stores, dry cleaners, drug stores, etc. There are many nearby options for eating and shopping.<br />Directly at the Rhode Island Metro Station, you will find a CVS, Home Depot, major grocery store, TJ Maxx, a wonderful nail salon and sit-down and fast casual restaurants, including Salathai, Chipotle, and Carolina Kitchen among other options.<br /><br />A 15-min walk in one direction takes to you the heart of Bloomingdale, where you will find great places ', 'https://a0.muscache.com/pictures/8e49b7bc-a851-4e46-a8b6-76ea88c96124.jpg', 120875011, 'https://www.airbnb.com/users/show/120875011', 'J. P.', '2017-03-15', 'Washington, DC', '', 'N/A', 'N/A', 'N/A', 'f', 'https://a0.muscache.com/im/pictures/user/ba485797-0a7c-4867-acce-9f3dd3cd5511.jpg?aki_policy=profile_small', 'https://a0.muscache.com/im/pictures/user/ba485797-0a7c-4867-acce-9f3dd3cd5511.jpg?aki_policy=profile_x_medium', 'Edgewood', '1', '2', \"['email', 'phone']\", 't', 'f', 'Washington, District of Columbia, United States', 'Edgewood, Bloomingdale, Truxton Circle, Eckington', '', 38.92217, -77.00045, 'Private room in townhouse', 'Private room', 2, '', '1 private bath', 1, 1, '[\"Essentials\", \"Shampoo\", \"Air conditioning\", \"Hair dryer\", \"TV\", \"Wifi\", \"Lockbox\", \"Heating\", \"Carbon monoxide alarm\", \"Iron\", \"Self check-in\", \"Smoke alarm\", \"Free street parking\"]', '$20.00', 31, 150, 31, 31, 150, 150, 31, 150, '', 't', 0, 0, 0, 0, '2023-03-19', 20, 0, 0, '2018-01-11', '2021-06-30', '4.85', '4.65', '4.9', '4.95', '4.85', '4.75', '4.75', '', 'f', 1, 0, 1, 0, 0.32)\n"
     ]
    }
   ],
   "source": [
    "db_path = './datawarehouse.db'\n",
    "con=sqlite3.connect(db_path)\n",
    "cur = con.cursor()\n",
    "\n",
    "query = '''SELECT * from listings'''\n",
    "\n",
    "cur.execute(query)\n",
    "r = cur.fetchone()\n",
    "\n",
    "print(r)\n",
    "\n",
    "con.close()"
   ]
  },
  {
   "cell_type": "markdown",
   "id": "69c15d1e-7121-465a-9715-3265edcee175",
   "metadata": {},
   "source": [
    "# Backup"
   ]
  },
  {
   "cell_type": "code",
   "execution_count": 10,
   "id": "b090a2ae-3067-4622-8929-3c26df0f8d31",
   "metadata": {},
   "outputs": [
    {
     "name": "stdout",
     "output_type": "stream",
     "text": [
      "Saved Data Dictonaries:\n",
      "\tlistings.csv detail v4.3\n",
      "\tlistings.csv detail v4\n",
      "\treviews.csv v1\n",
      "\tcalendar.csv v2\n"
     ]
    }
   ],
   "source": [
    "# Full path to xls, including filename\n",
    "xls_path = './primary/airbnb_data_dict.xls'\n",
    "airbnb_file = xlrd.open_workbook_xls(xls_path)\n",
    "airbnb_var_sheets = airbnb_file.sheets()\n",
    "\n",
    "variable_dict = {}\n",
    "print('Saved Data Dictonaries:')\n",
    "for s in airbnb_var_sheets:\n",
    "    s_name = s.name\n",
    "    var_stored = True\n",
    "    \n",
    "    if s_name.rfind('listings.csv detail v4') != -1:\n",
    "        variable_dict['listings'] = s\n",
    "        \n",
    "    elif s_name.rfind('reviews.csv v1') != -1:\n",
    "        variable_dict['reviews'] = s\n",
    "        \n",
    "    elif s_name.rfind('calendar.csv v2') != -1:\n",
    "        variable_dict['calendar'] = s\n",
    "        \n",
    "    else:\n",
    "        var_stored = False\n",
    "        \n",
    "    if var_stored:\n",
    "        print(f'\\t{s_name}')"
   ]
  },
  {
   "cell_type": "code",
   "execution_count": 49,
   "id": "9a6bfb67-3f42-4dc3-826d-b6977dd8e4ec",
   "metadata": {},
   "outputs": [],
   "source": [
    "# Automatically create the listings table\n",
    "cur_sheet = variable_dict['listings']\n",
    "field_vals = cur_sheet.col_values(0)[8:82]\n",
    "type_vals = cur_sheet.col_values(1)[8:82]\n",
    "\n",
    "out = f'''-- Table: listings\n",
    "DROP TABLE IF EXISTS listings;\n",
    "CREATE TABLE listings(\n",
    "    id int PRIMARY KEY,\\n'''\n",
    "\n",
    "for val in range (1, len(field_vals)-1):\n",
    "    var_type = type_vals[val]\n",
    "    if var_type == 'boolean [t=true; f=false]':\n",
    "        var_type = 'boolean'\n",
    "    if var_type == '':\n",
    "        var_type = 'blob'\n",
    "    out+=f'''    {field_vals[val]} {var_type},\\n'''\n",
    "    \n",
    "out+=f'''    {field_vals[len(field_vals)-1]} {var_type}\n",
    ");\\n\\n'''"
   ]
  },
  {
   "cell_type": "code",
   "execution_count": 50,
   "id": "f89af715-d332-4e5b-a9bb-2c5677297d2f",
   "metadata": {},
   "outputs": [
    {
     "name": "stdout",
     "output_type": "stream",
     "text": [
      "74\n"
     ]
    }
   ],
   "source": [
    "print(len(field_vals))"
   ]
  },
  {
   "cell_type": "code",
   "execution_count": 45,
   "id": "ef2aef8e-713b-4eb3-84d3-7a06e24551d8",
   "metadata": {},
   "outputs": [],
   "source": [
    "# Automatically create the reviews table\n",
    "cur_sheet = variable_dict['reviews']\n",
    "field_vals = cur_sheet.col_values(0)[8:14]\n",
    "type_vals = cur_sheet.col_values(1)[8:14]\n",
    "\n",
    "out += f'''-- Table: reviews\n",
    "DROP TABLE IF EXISTS reviews;\n",
    "CREATE TABLE reviews(\n",
    "    id int PRIMARY KEY,\n",
    "    listing_id int,\\n'''\n",
    "\n",
    "for val in range (1, len(field_vals)-1):\n",
    "    var_type = type_vals[val]\n",
    "    if var_type == 'boolean [t=true; f=false]':\n",
    "        var_type = 'boolean'\n",
    "    if var_type == '':\n",
    "        var_type = 'blob'\n",
    "    out+=f'''    {field_vals[val]} {var_type},\\n'''\n",
    "    \n",
    "out+=f'''    {field_vals[len(field_vals)-1]} {var_type}\n",
    ");\\n\\n'''"
   ]
  },
  {
   "cell_type": "code",
   "execution_count": 46,
   "id": "cd74ae95-6d89-4765-8ad8-2162e3bfb445",
   "metadata": {},
   "outputs": [],
   "source": [
    "# Automatically create the reviews table\n",
    "cur_sheet = variable_dict['calendar']\n",
    "field_vals = cur_sheet.col_values(0)[8:15]\n",
    "type_vals = cur_sheet.col_values(1)[8:15]\n",
    "\n",
    "out += f'''-- Table: calendar\n",
    "DROP TABLE IF EXISTS calendar;\n",
    "CREATE TABLE calendar(\n",
    "    id int PRIMARY KEY,\n",
    "    listing_id int,\\n'''\n",
    "\n",
    "for val in range (1, len(field_vals)-1):\n",
    "    var_type = type_vals[val]\n",
    "    if var_type == 'boolean [t=true; f=false]':\n",
    "        var_type = 'boolean'\n",
    "    if var_type == '':\n",
    "        var_type = 'blob'\n",
    "    if field_vals[val]!='id':\n",
    "        out+=f'''    {field_vals[val]} {var_type},\\n'''\n",
    "    \n",
    "out+=f'''    {field_vals[len(field_vals)-1]} {var_type}\n",
    ");\\n\\n'''"
   ]
  },
  {
   "cell_type": "code",
   "execution_count": 47,
   "id": "a561b062-e18a-42d2-b7c2-fb3a330807e2",
   "metadata": {},
   "outputs": [],
   "source": [
    "text_file = open(\"datawarehouse.sql\", \"w\")\n",
    "n = text_file.write(out)\n",
    "text_file.close()"
   ]
  },
  {
   "cell_type": "code",
   "execution_count": 38,
   "id": "5802fee7-3927-480a-b643-00ca3c4b1e22",
   "metadata": {},
   "outputs": [
    {
     "data": {
      "text/plain": [
       "['listing_id',\n",
       " 'date',\n",
       " 'available',\n",
       " 'price',\n",
       " 'adjusted_price',\n",
       " 'minimum_nights',\n",
       " 'maximum_nights']"
      ]
     },
     "execution_count": 38,
     "metadata": {},
     "output_type": "execute_result"
    }
   ],
   "source": [
    "field_vals"
   ]
  },
  {
   "cell_type": "code",
   "execution_count": null,
   "id": "b3ba7ede-d2d0-496b-8196-e7c7536c2bda",
   "metadata": {},
   "outputs": [],
   "source": [
    "\n",
    "\n",
    "out = f'''-- Table: listings\n",
    "DROP TABLE IF EXISTS listings;\n",
    "CREATE TABLE listings(\n",
    "    id int PRIMARY KEY,\\n'''\n",
    "\n"
   ]
  }
 ],
 "metadata": {
  "kernelspec": {
   "display_name": "Python (en685648)",
   "language": "python",
   "name": "en685648"
  },
  "language_info": {
   "codemirror_mode": {
    "name": "ipython",
    "version": 3
   },
   "file_extension": ".py",
   "mimetype": "text/x-python",
   "name": "python",
   "nbconvert_exporter": "python",
   "pygments_lexer": "ipython3",
   "version": "3.10.8"
  }
 },
 "nbformat": 4,
 "nbformat_minor": 5
}
