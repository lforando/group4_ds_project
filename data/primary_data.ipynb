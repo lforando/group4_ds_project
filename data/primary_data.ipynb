{
 "cells": [
  {
   "cell_type": "code",
   "execution_count": 9,
   "id": "f378ce0f-13cd-4624-9510-c985ef8b563d",
   "metadata": {},
   "outputs": [],
   "source": [
    "import xlrd\n",
    "import os \n",
    "import sqlite3\n",
    "import csv"
   ]
  },
  {
   "cell_type": "code",
   "execution_count": 28,
   "id": "f6f53590-39a0-45e3-86a7-b2d71754f482",
   "metadata": {},
   "outputs": [],
   "source": [
    "con.close()"
   ]
  },
  {
   "cell_type": "code",
   "execution_count": 26,
   "id": "ba4efeb1-51da-4f8d-9352-393b23ad38c3",
   "metadata": {},
   "outputs": [
    {
     "name": "stdout",
     "output_type": "stream",
     "text": [
      "[(0, 'id', 'INT', 0, None, 1), (1, 'weatherdate', 'datetime', 0, None, 0), (2, 'tempmax', 'numeric', 0, None, 0), (3, 'tempmin', 'numeric', 0, None, 0), (4, 'tempday', 'numeric', 0, None, 0), (5, 'feelslikemax', 'numeric', 0, None, 0), (6, 'feelslikemin', 'numeric', 0, None, 0), (7, 'dew', 'numeric', 0, None, 0), (8, 'humidity', 'numeric', 0, None, 0), (9, 'precip', 'numeric', 0, None, 0), (10, 'precipprob', 'numeric', 0, None, 0), (11, 'precipcover', 'numeric', 0, None, 0), (12, 'preciptype', 'numeric', 0, None, 0), (13, 'snow', 'numeric', 0, None, 0), (14, 'snowdepth', 'numeric', 0, None, 0), (15, 'winggust', 'numeric', 0, None, 0), (16, 'windspeed', 'numeric', 0, None, 0), (17, 'winddir', 'numeric', 0, None, 0), (18, 'sealevelpressure', 'numeric', 0, None, 0), (19, 'cloudcover', 'numeric', 0, None, 0), (20, 'visibility', 'numeric', 0, None, 0), (21, 'solarradition', 'numeric', 0, None, 0), (22, 'solarenergy', 'numeric', 0, None, 0), (23, 'uvindex', 'numeric', 0, None, 0), (24, 'severerisk', 'numeric', 0, None, 0), (25, 'sunrise', 'datetime', 0, None, 0), (26, 'sunset', 'datetime', 0, None, 0), (27, 'moonphase', 'numeric', 0, None, 0), (28, 'conditions', 'TEXT', 0, None, 0), (29, 'description', 'TEXT', 0, None, 0), (30, 'icon', 'TEXT', 0, None, 0), (31, 'stations', 'TEXT', 0, None, 0)]\n"
     ]
    }
   ],
   "source": [
    "db_path = './datawarehouse.db'\n",
    "con=sqlite3.connect(db_path)\n",
    "cur = con.cursor()\n",
    "\n",
    "query = '''PRAGMA table_info(weather)'''\n",
    "\n",
    "cur.execute(query)\n",
    "con.commit()\n",
    "r = cur.fetchone()\n",
    "\n",
    "print(r)"
   ]
  },
  {
   "cell_type": "code",
   "execution_count": 38,
   "id": "e2460a41-04fa-4f26-a7af-862d70868704",
   "metadata": {
    "tags": []
   },
   "outputs": [
    {
     "name": "stdout",
     "output_type": "stream",
     "text": [
      "('2022-12-24', -6.2, -12.8, -9.6, -11, -20.1, -16.3, -19.2, 46, 0, 0, 0, '', 0, 0, 44.1, 25.6, 273.2, 1014.2, 33.2, 16, 102.1, 8.9, 4, 10, '2022-12-24T07:24:38', '2022-12-24T16:51:04', 0.04, 'Partially cloudy', 'Partly cloudy throughout the day.', 'partly-cloudy-day', 'KDCA,72405013743,KADW,KDAA,AS365')\n"
     ]
    }
   ],
   "source": [
    "db_path = './datawarehouse.db'\n",
    "con=sqlite3.connect(db_path)\n",
    "cur = con.cursor()\n",
    "\n",
    "cur.execute(\"DROP INDEX IF EXISTS calendar_date_idx\")\n",
    "con.commit()\n",
    "query = '''CREATE INDEX calendar_date_idx ON calendar(date)'''\n",
    "\n",
    "cur.execute(query)\n",
    "con.commit()\n",
    "\n",
    "cur.execute(\"DROP INDEX IF EXISTS weather_date_idx\")\n",
    "query = '''CREATE INDEX weather_date_idx ON weather(weatherdate)'''\n",
    "\n",
    "cur.execute(query)\n",
    "\n",
    "cur.execute(\"SELECT * FROM weather INDEXED BY weather_date_idx;\")\n",
    "r = cur.fetchone()\n",
    "print(r)\n",
    "\n",
    "con.commit()\n",
    "\n",
    "con.close()"
   ]
  },
  {
   "cell_type": "code",
   "execution_count": 39,
   "id": "5a4eface-53ca-49b3-bf2b-2617bd7f289d",
   "metadata": {},
   "outputs": [
    {
     "name": "stdout",
     "output_type": "stream",
     "text": [
      "None\n"
     ]
    }
   ],
   "source": [
    "db_path = './datawarehouse.db'\n",
    "con=sqlite3.connect(db_path)\n",
    "cur = con.cursor()\n",
    "\n",
    "cur.execute(''' CREATE TABLE calendar_weather AS\n",
    "SELECT * \n",
    "FROM weather INDEXED BY weather_date_idx \n",
    "JOIN calendar INDEXED BY calendar_date_idx \n",
    "ON date(weather.weatherdate) = date(calendar.date);''')\n",
    "r = cur.fetchone()\n",
    "print(r)\n",
    "con.close()"
   ]
  },
  {
   "cell_type": "code",
   "execution_count": 6,
   "id": "298d0f9b-4837-4246-b05c-c93077c0cf5c",
   "metadata": {},
   "outputs": [
    {
     "name": "stdout",
     "output_type": "stream",
     "text": [
      "here\n",
      "(3686, '2023-03-19', 't', '$67.00', '$67.00', 31, 365)\n"
     ]
    }
   ],
   "source": [
    "db_path = './datawarehouse.db'\n",
    "con=sqlite3.connect(db_path)\n",
    "cur = con.cursor()\n",
    "\n",
    "query = '''SELECT * FROM calendar;'''\n",
    "\n",
    "cur.execute(query)\n",
    "print('here')\n",
    "con.commit()\n",
    "r = cur.fetchone()\n",
    "\n",
    "print(r)\n",
    "\n",
    "con.close()"
   ]
  },
  {
   "cell_type": "markdown",
   "id": "69c15d1e-7121-465a-9715-3265edcee175",
   "metadata": {},
   "source": [
    "# Backup"
   ]
  },
  {
   "cell_type": "code",
   "execution_count": 10,
   "id": "b090a2ae-3067-4622-8929-3c26df0f8d31",
   "metadata": {},
   "outputs": [
    {
     "name": "stdout",
     "output_type": "stream",
     "text": [
      "Saved Data Dictonaries:\n",
      "\tlistings.csv detail v4.3\n",
      "\tlistings.csv detail v4\n",
      "\treviews.csv v1\n",
      "\tcalendar.csv v2\n"
     ]
    }
   ],
   "source": [
    "# Full path to xls, including filename\n",
    "xls_path = './primary/airbnb_data_dict.xls'\n",
    "airbnb_file = xlrd.open_workbook_xls(xls_path)\n",
    "airbnb_var_sheets = airbnb_file.sheets()\n",
    "\n",
    "variable_dict = {}\n",
    "print('Saved Data Dictonaries:')\n",
    "for s in airbnb_var_sheets:\n",
    "    s_name = s.name\n",
    "    var_stored = True\n",
    "    \n",
    "    if s_name.rfind('listings.csv detail v4') != -1:\n",
    "        variable_dict['listings'] = s\n",
    "        \n",
    "    elif s_name.rfind('reviews.csv v1') != -1:\n",
    "        variable_dict['reviews'] = s\n",
    "        \n",
    "    elif s_name.rfind('calendar.csv v2') != -1:\n",
    "        variable_dict['calendar'] = s\n",
    "        \n",
    "    else:\n",
    "        var_stored = False\n",
    "        \n",
    "    if var_stored:\n",
    "        print(f'\\t{s_name}')"
   ]
  },
  {
   "cell_type": "code",
   "execution_count": 49,
   "id": "9a6bfb67-3f42-4dc3-826d-b6977dd8e4ec",
   "metadata": {},
   "outputs": [],
   "source": [
    "# Automatically create the listings table\n",
    "cur_sheet = variable_dict['listings']\n",
    "field_vals = cur_sheet.col_values(0)[8:82]\n",
    "type_vals = cur_sheet.col_values(1)[8:82]\n",
    "\n",
    "out = f'''-- Table: listings\n",
    "DROP TABLE IF EXISTS listings;\n",
    "CREATE TABLE listings(\n",
    "    id int PRIMARY KEY,\\n'''\n",
    "\n",
    "for val in range (1, len(field_vals)-1):\n",
    "    var_type = type_vals[val]\n",
    "    if var_type == 'boolean [t=true; f=false]':\n",
    "        var_type = 'boolean'\n",
    "    if var_type == '':\n",
    "        var_type = 'blob'\n",
    "    out+=f'''    {field_vals[val]} {var_type},\\n'''\n",
    "    \n",
    "out+=f'''    {field_vals[len(field_vals)-1]} {var_type}\n",
    ");\\n\\n'''"
   ]
  },
  {
   "cell_type": "code",
   "execution_count": 50,
   "id": "f89af715-d332-4e5b-a9bb-2c5677297d2f",
   "metadata": {},
   "outputs": [
    {
     "name": "stdout",
     "output_type": "stream",
     "text": [
      "74\n"
     ]
    }
   ],
   "source": [
    "print(len(field_vals))"
   ]
  },
  {
   "cell_type": "code",
   "execution_count": 45,
   "id": "ef2aef8e-713b-4eb3-84d3-7a06e24551d8",
   "metadata": {},
   "outputs": [],
   "source": [
    "# Automatically create the reviews table\n",
    "cur_sheet = variable_dict['reviews']\n",
    "field_vals = cur_sheet.col_values(0)[8:14]\n",
    "type_vals = cur_sheet.col_values(1)[8:14]\n",
    "\n",
    "out += f'''-- Table: reviews\n",
    "DROP TABLE IF EXISTS reviews;\n",
    "CREATE TABLE reviews(\n",
    "    id int PRIMARY KEY,\n",
    "    listing_id int,\\n'''\n",
    "\n",
    "for val in range (1, len(field_vals)-1):\n",
    "    var_type = type_vals[val]\n",
    "    if var_type == 'boolean [t=true; f=false]':\n",
    "        var_type = 'boolean'\n",
    "    if var_type == '':\n",
    "        var_type = 'blob'\n",
    "    out+=f'''    {field_vals[val]} {var_type},\\n'''\n",
    "    \n",
    "out+=f'''    {field_vals[len(field_vals)-1]} {var_type}\n",
    ");\\n\\n'''"
   ]
  },
  {
   "cell_type": "code",
   "execution_count": 46,
   "id": "cd74ae95-6d89-4765-8ad8-2162e3bfb445",
   "metadata": {},
   "outputs": [],
   "source": [
    "# Automatically create the reviews table\n",
    "cur_sheet = variable_dict['calendar']\n",
    "field_vals = cur_sheet.col_values(0)[8:15]\n",
    "type_vals = cur_sheet.col_values(1)[8:15]\n",
    "\n",
    "out += f'''-- Table: calendar\n",
    "DROP TABLE IF EXISTS calendar;\n",
    "CREATE TABLE calendar(\n",
    "    id int PRIMARY KEY,\n",
    "    listing_id int,\\n'''\n",
    "\n",
    "for val in range (1, len(field_vals)-1):\n",
    "    var_type = type_vals[val]\n",
    "    if var_type == 'boolean [t=true; f=false]':\n",
    "        var_type = 'boolean'\n",
    "    if var_type == '':\n",
    "        var_type = 'blob'\n",
    "    if field_vals[val]!='id':\n",
    "        out+=f'''    {field_vals[val]} {var_type},\\n'''\n",
    "    \n",
    "out+=f'''    {field_vals[len(field_vals)-1]} {var_type}\n",
    ");\\n\\n'''"
   ]
  },
  {
   "cell_type": "code",
   "execution_count": 47,
   "id": "a561b062-e18a-42d2-b7c2-fb3a330807e2",
   "metadata": {},
   "outputs": [],
   "source": [
    "text_file = open(\"datawarehouse.sql\", \"w\")\n",
    "n = text_file.write(out)\n",
    "text_file.close()"
   ]
  },
  {
   "cell_type": "code",
   "execution_count": 38,
   "id": "5802fee7-3927-480a-b643-00ca3c4b1e22",
   "metadata": {},
   "outputs": [
    {
     "data": {
      "text/plain": [
       "['listing_id',\n",
       " 'date',\n",
       " 'available',\n",
       " 'price',\n",
       " 'adjusted_price',\n",
       " 'minimum_nights',\n",
       " 'maximum_nights']"
      ]
     },
     "execution_count": 38,
     "metadata": {},
     "output_type": "execute_result"
    }
   ],
   "source": [
    "field_vals"
   ]
  },
  {
   "cell_type": "code",
   "execution_count": null,
   "id": "b3ba7ede-d2d0-496b-8196-e7c7536c2bda",
   "metadata": {},
   "outputs": [],
   "source": [
    "\n",
    "\n",
    "out = f'''-- Table: listings\n",
    "DROP TABLE IF EXISTS listings;\n",
    "CREATE TABLE listings(\n",
    "    id int PRIMARY KEY,\\n'''\n",
    "\n"
   ]
  }
 ],
 "metadata": {
  "kernelspec": {
   "display_name": "Python (en685648)",
   "language": "python",
   "name": "en685648"
  },
  "language_info": {
   "codemirror_mode": {
    "name": "ipython",
    "version": 3
   },
   "file_extension": ".py",
   "mimetype": "text/x-python",
   "name": "python",
   "nbconvert_exporter": "python",
   "pygments_lexer": "ipython3",
   "version": "3.10.8"
  }
 },
 "nbformat": 4,
 "nbformat_minor": 5
}
