{
 "cells": [
  {
   "cell_type": "code",
   "execution_count": 1,
   "id": "62a8f3be",
   "metadata": {},
   "outputs": [
    {
     "ename": "ModuleNotFoundError",
     "evalue": "No module named 'models'",
     "output_type": "error",
     "traceback": [
      "\u001b[0;31m---------------------------------------------------------------------------\u001b[0m",
      "\u001b[0;31mModuleNotFoundError\u001b[0m                       Traceback (most recent call last)",
      "Cell \u001b[0;32mIn[1], line 6\u001b[0m\n\u001b[1;32m      4\u001b[0m \u001b[39mimport\u001b[39;00m \u001b[39msys\u001b[39;00m \n\u001b[1;32m      5\u001b[0m sys\u001b[39m.\u001b[39mpath\u001b[39m.\u001b[39minsert(\u001b[39m1\u001b[39m,\u001b[39m\"\u001b[39m\u001b[39m../utils\u001b[39m\u001b[39m\"\u001b[39m)\n\u001b[0;32m----> 6\u001b[0m \u001b[39mimport\u001b[39;00m \u001b[39mmodels\u001b[39;00m \n\u001b[1;32m      7\u001b[0m \u001b[39mimport\u001b[39;00m \u001b[39mmatplotlib\u001b[39;00m\u001b[39m.\u001b[39;00m\u001b[39mpyplot\u001b[39;00m \u001b[39mas\u001b[39;00m \u001b[39mplt\u001b[39;00m\n\u001b[1;32m      8\u001b[0m \u001b[39mimport\u001b[39;00m \u001b[39mnumpy\u001b[39;00m \u001b[39mas\u001b[39;00m \u001b[39mnp\u001b[39;00m\n",
      "\u001b[0;31mModuleNotFoundError\u001b[0m: No module named 'models'"
     ]
    }
   ],
   "source": [
    "import scipy.stats as stats\n",
    "import pandas as pd\n",
    "import tabulate\n",
    "import sys \n",
    "sys.path.insert(1,\"../utils\")\n",
    "import models \n",
    "import matplotlib.pyplot as plt\n",
    "import numpy as np\n",
    "from sklearn.pipeline import Pipeline\n",
    "from sklearn.preprocessing import PolynomialFeatures\n",
    "from sklearn.linear_model import LinearRegression\n",
    "from sklearn.model_selection import cross_val_score\n",
    "import sklearn\n",
    "import patsy\n",
    "import sklearn.linear_model as linear\n",
    "import numpy.random as random\n",
    "from collections import defaultdict\n",
    "import sqlite3"
   ]
  },
  {
   "cell_type": "markdown",
   "id": "b4ef7f54-7a6d-4fa1-b888-98817927ecdc",
   "metadata": {},
   "source": [
    "## CoNVO\n",
    "\n",
    "### Context  \n",
    "  \n",
    "Airbnb, as “Air Bed and Breakfast”, provides an online marketplace to allow property owners to rent out their spaces for people to stay. “Inside Airbnb” collects information on properties rented and data of renting activities from Airbnb. Its goals are to give insights on Airbnb business and improve property owners and renters' experiences during their uses of Airbnb. The Chief Executive Officer makes the business decision and report to the stakeholders.  \n",
    "  \n",
    "### Need  \n",
    "  \n",
    "Airbnb needs to improve the method to determine the listing price of a property for rent. Factors influencing the listing price need to be identified. Using the data collected by “Inside Airbnb” and other data sources, and building up a better model using these factors to predict the listing price of properties for rent, the company will generate more reasonable listing prices and this will attract more users including both property owners and renters.  \n",
    "  \n",
    "### Vision  \n",
    "  \n",
    "The Chief Executive Officer will get a set of spreadsheets that contain the data categorized by property information and renting activities based on transaction history. Models using different factors to predict listing prices of properties will be generated. The best model will be selected based on the evaluation.  \n",
    "  \n",
    "### Outcome  \n",
    "  \n",
    "Factors in the best model that predict listing prices will be focused in the future. Different aspects of these factors will be investigated and conresponding data will be collected for further exploration. A report of a discussion of factors impacting listing prices will be sent to the Chief Executive Officer and will be discussed at the next Business meeting. The results will be reported to stakeholders.  "
   ]
  },
  {
   "attachments": {},
   "cell_type": "markdown",
   "id": "113176d0",
   "metadata": {},
   "source": [
    "## Question/Problem to Answer  \n",
    "  \n",
    "What factors determine listing price of properties for rent on Airbnb?  \n",
    "  \n",
    "## Target Variable  \n",
    "  \n",
    "**price**: Listing price of a property for rent\n",
    "\n",
    "![Price Distribution](./images/price_variable.png \"Distribution of Listing Price of a Property for Rent\")\n",
    "  \n",
    "## Variables  \n",
    "  \n",
    "Variables available are generally information on the price, locaton, neighborhood, host's responses, reviews and property types.\n",
    "\n",
    "\"Inside AirBnB\" provides access to AirBnB data from the past four quarters. The data are separated into three different .csv files:\n",
    "- listings.csv: Includes detailed information about an AirBnB Listing\n",
    "- reviews.csv: Contains review information, and `listing_id` key that maps to `id` in listings\n",
    "- calendar.csv: Shows listing availability, mapping back to the listings.csv file using `listing_id`\n",
    "\n",
    "Our analysis focused on variables contained within the listings.csv file. This file contained over 85 fields. Of these 85 fields, we identified 17 variables that we believed would affect the listing price of the AirBnb. Some of the excluded variables including host information, URLs, empty fields, large text-based entires, and redundant entires. Excluded variables are:\n",
    "* Large text or descriptive fields\n",
    "    * name, description, neighborhood_overview, amenities, host_about\n",
    "* URLs, scraped data info, some host information:\n",
    "    * listing_url, scrape_id, last_scraped, source, picture_url, host_id, host_url, host_name, host_since, host_location, host_thumbnail_url, host_picture_url, host_neighbourhood, host_listings_count, host_total_listings_count, host_has_profile_pic, host_identify_verified, license\n",
    "* Empty/redundant fields\n",
    "    * neighbourhood, neighbourhood_group_cleansed, latitude, longitue, bathrooms, number_of_reviews_ltm, number_of_reviews_l30d, first_review, last_review, review_scores_accuracy, review_scores_cleanliness, review_scores_checkin, review_scores_communication, review_scores_location, review_scores_value, calculated_host_listings_count, calculated_host_listings_count_entire_homes, calcualted_host_listings_count_private_rooms,calculated_host_listings_count_shared_rooms\n",
    "* Time-based availability fields\n",
    "    * minimum_nights, maximum_nights, minimum_minimum_nights, maximum_minimum_nights, minimum_maximum_nights, maximum_maximum_nights, minimum_nights_avg_ntm, maximum_nights_avg_ntm, calendar_updated, has_availability, availability_30, availability_60, availability_90, availability_365, calendar_last_scraped\n",
    "\n",
    "The variables we chose to explore were:\n",
    "* **price**: Listing price of a property for rent\n",
    "* **bedrooms**: Number of bedrooms in a property\n",
    "* **beds**: Number of beds in a property\n",
    "* **accommodates**: Maximum capacity of a property\n",
    "* **host_is_superhost**: Whether the host is a superhost which means 4.8 or higher average overall rating based on reviews\n",
    "* **host_response_time**: Time range of host's response\n",
    "* **host_response_rate**: Percentage of host's response\n",
    "* **host_acceptance_rate**: Percentage of host's acceptance\n",
    "* **room_type**: Type of room of a property\n",
    "* **property_type**: Type of property\n",
    "* **number_of_reviews**: Number of reviews of a property\n",
    "* **review_scores_rating**: Scores of rated property based on reviews\n",
    "* **reviews_per_month**: Average number of monthly reviews of a property\n",
    "* **bathrooms_text**: Number of bathrooms in a property, and whether the bathrooms are private or shared\n",
    "* **instant_bookable**: Whether instant booking is available\n",
    "* **neighbourhood_cleansed**: Label of a neighborhood based on tax-assessed values\n",
    "\n",
    "  \n"
   ]
  },
  {
   "attachments": {},
   "cell_type": "markdown",
   "id": "d3dd9b25-cea9-41f3-aabd-655235685c48",
   "metadata": {},
   "source": [
    "## Casual Loop Diagram  \n",
    "\n",
    "![Casual Loop Diagram](./images/CLD_group4.jpeg \"Casual Loop Diagram, AirBnB Prices\")\n",
    "\n",
    "Here are the summary of relationships between price and individual variables:\n",
    "\n",
    "* **bedrooms**: as we saw in the EDA, there is a low positive relationship and that Spearman's suggests that the relationship may not be linear.\n",
    "* **beds**: as we saw in the EDA, there is a low positive relationship and that Spearman's suggests that the relationship may not be linear.\n",
    "* **accommodates**: as we saw in the EDA, there is a moderate positive relationship and that Spearman's suggests that the relationship may be linear.\n",
    "* **host_is_superhost**: as we saw in the EDA, there is a very weak relationship and that Spearman's suggests that the relationship may not be linear.\n",
    "* **host_response_time**: as we saw in the EDA, there is a very weak to low relationship and that Spearman's suggests that the relationship may not be linear.\n",
    "* **host_response_rate**: as we saw in the EDA, there is a very weak positive relationship and that Spearman's suggests that the relationship may not be linear.\n",
    "* **host_acceptance_rate**: as we saw in the EDA, there is a very weak positive relationship and that Spearman's suggests that the relationship may not be linear.\n",
    "* **room_type**: as we saw in the EDA, there is a very weak to weak relationship and that Spearman's suggests that the relationship may or may not be linear.\n",
    "* **property_type**: as we saw in the EDA, there is a very weak relationship and that Spearman's suggests that the relationship may not be linear.\n",
    "* **number_of_reviews**: as we saw in the EDA, there is a very weak negative relationship and that Spearman's suggests that the relationship may not be linear.\n",
    "* **review_scores_rating**: as we saw in the EDA, there is a very weak negative relationship and that Spearman's suggests that the relationship may not be linear.\n",
    "* **reviews_per_month**: as we saw in the EDA, there is a very weak positive relationship and that Spearman's suggests that the relationship may not be linear.\n",
    "* **num_baths**: as we saw in the EDA, there is a low positive relationship and that Spearman's suggests that the relationship may not be linear.\n",
    "* **instant_bookable**: as we saw in the EDA, there is a very weak relationship and that Spearman's suggests that the relationship may not be linear.\n",
    "* **neighborhood_label**: as we saw in the EDA, there is a very weak relationship and that Spearman's suggests that the relationship may not be linear.\n",
    "* **bath_type**: as we saw in the EDA, there is a very weak relationship and that Spearman's suggests that the relationship may not be linear.  \n",
    "  \n",
    "## Interesting Variables  \n",
    "  \n",
    "We explored single variable distributions and pair-wise variables for their correlations with the target variable price in our EDA. The most interesting variables are those that have at least a low correlation (Pearson's Correlation Coefficient r >= 0.30) with the target variable price. They are:  \n",
    "  \n",
    "* **bedrooms**: The bedrooms variable is a numerical integer value. It represents the number of bedrooms of properties. More bedrooms generally corresponds to a higher capacity for overnight guests. 75% of AirBnB listings in the DC area contain two or fewer bedrooms. There is one AirBnB that has a maximum number of bedrooms of 15. The distribution of the number of bedrooms appears to be right-skewed. This makes sense, as one or two bedrooms may be common for most homes, with 3 or more bedrooms being less commons in homes, especially in a densely-populated area. There is a low positive relationship (r = 0.39) between bedrooms and price and that Spearman's suggests that the relationship may not be linear.  \n",
    "  \n",
    "* **beds**: The variable beds is a numerical integer value. It represents the number of beds in the AirBnb listed property. It may correlate with bedrooms since number of bedrooms usually equals to that of beds except for rare cases. Thus, we can say about 75% of AirBnB listings in the DC area contain two or fewer beds. There is one AirBnB that has a maximum number of beds of 15.  More beds generally corresponds to a higher capacity for overnight guests. There is a low positive relationship (r = 0.42) between beds and price and that Spearman's suggests that the relationship may not be linear.  \n",
    "  \n",
    "* **accommodates**: The accommodates variable is a numerical integer value. It represents the number of people who can stay in the AirBnb listed property. More accommodates generally corresponds to a higher capacity for overnight guests. 75% of AirBnB listings in the DC area are capable of accomodating 4 people. This unsurprisingly folows a similar pattern to both the beds and bedroom variables. The data are right-skewed. Even number accommodates values are more common, which makes sense given that one bed is often counted as accommodating 2 guests. There is a moderate positive relationship (r = 0.51) between accommodates and price and that Spearman's suggests that the relationship may be linear.  \n",
    "  \n",
    "* **num_baths**: The number of bathrooms in an AirBnB is a categorical value, since AirBnbs can have \"shared\" or \"private\" bathrooms. Additionally, there may be \"half-baths\" as well. The most common bathroom type for Airbnb is \"1 bath\". There is a low positive relationship (r = 0.47) between num_baths and price and that Spearman's suggests that the relationship may not be linear.  \n",
    "  \n",
    "## The *best* variables that worked out are: \n",
    "\n",
    "#### (1) **Accommodates**\n",
    "##### Moderate positive relationship (r = 0.51) between accommodates and price.\n",
    "\n",
    "![Accomodates](./images/accomodates_pairwise.png \"\")\n",
    "</br></br>\n",
    "\n",
    "\n",
    "#### (2) **Number of Bathrooms**\n",
    "##### Weak to moderate positive relationship (r = 0.47) between num_baths and price\n",
    "\n",
    "![Number of Bathrooms - Table](./images/bath_table.png \"\")\n",
    "\n",
    "</br>\n",
    "\n",
    "![Number of Bathrooms](./images/bathroom_pairwise.png \"\")\n",
    "\n",
    "</br>\n",
    "For listings with private bathrooms, the prices tend to increase with more bathrooms. Listings that have shared bathrooms appear to have the same values, regardless of how many shared baths are available.\n",
    "\n",
    "</br></br>\n",
    "\n",
    "\n",
    "#### (3) **Number of Beds**: \n",
    "##### Weak to moderate positive relationship (r = 0.42) between number of beds and price.\n",
    "\n",
    "![Number of Beds](./images/beds_pairwise.png \"\")"
   ]
  },
  {
   "attachments": {},
   "cell_type": "markdown",
   "id": "254e1df2",
   "metadata": {},
   "source": [
    "For additional details and to review the full single and pairwise exploratory data analysis, please refer to the eda.ipynb file."
   ]
  },
  {
   "attachments": {},
   "cell_type": "markdown",
   "id": "79cad75b-be47-4504-b2b6-7ed7831f56c3",
   "metadata": {},
   "source": [
    "## Null Model / Baseline Model  \n",
    "  \n",
    "In reference to our EDA, there are 8626 listings between Q2 2022- Q1 2023 in Washington D.C. The average price of these AirBnBs is 166 US dollars with a standard deviation of 130 US dollars. The mininum price for a place is 0 dollars and the max is 999 dollars. We can definitely see a skew right since the median (130) < mean (166).  \n",
    "\n",
    "As noted in our EDA, the distribution of this variable is skewed right and not normally distributed. It is important to understand the context of why the data is being generated like this. The data does not contains a \"bell shaped curve\" that is partly tied to the central limit theorem. That is, the average of the observations of this variable with finite moment and 2nd moment do not converges to the normal distribution as the number of sample increases. The data is postively skewed. That is the median of the observations is lower than the mean. There are more observations on the lower 50% percentile of the dataset than the upper 50% percentile. In this situaiton, there is no symmetry in the bell curve which violates the normality assumptions and takes us to transform the distribution we want to fit for our model. Since the data reflects the time of a pricing for a particular listing. This might be considered as the spatial time between events and it makes sense.  \n",
    "  \n",
    "### Data Generating Story  \n",
    "  \n",
    "The price listing of Airbnbs varies significantly based on the demand for that specific unit. With this said, it can be noted that the demand for Airbnbs is high for Airbnbs that are cheaper and there is gradually less demand for Airbnbs that are more expensive. However, it is important to note that there is a point in the Airbnbs where the demand is as low as expensive Airbnb. That is, Airbnbs that are too cheap, people do not want to rent this Airbnb. Thus, as mentioned, because these prices are within a timeframe and are independent from each other, this distribution is most likely an exponential distribution or a family of the exponential distribution.  "
   ]
  },
  {
   "attachments": {},
   "cell_type": "markdown",
   "id": "cfd85138",
   "metadata": {},
   "source": [
    "In order to create a mean model (null model), since the data is not normally distributed, we can use Chebyshev's inequality and note that at least %75 of the data must be within 2 standard deviations from the mean (k =2). In order to do this, the following are the steps taken to create a model: "
   ]
  },
  {
   "attachments": {},
   "cell_type": "markdown",
   "id": "f5fd5bba",
   "metadata": {},
   "source": [
    "### Null Model / Baseline Model - Code"
   ]
  },
  {
   "cell_type": "code",
   "execution_count": null,
   "id": "0eb9cc7d",
   "metadata": {},
   "outputs": [],
   "source": [
    "db_path = '../eda/datawarehouse.db'"
   ]
  },
  {
   "cell_type": "code",
   "execution_count": null,
   "id": "fa749396",
   "metadata": {},
   "outputs": [],
   "source": [
    "con=sqlite3.connect(db_path)\n",
    "cur = con.cursor()\n",
    "\n",
    "query = '''SELECT id, CAST(REPLACE(price, '$', '') AS FLOAT) as avg_price\n",
    "FROM listings;\n",
    "'''\n",
    "\n",
    "cur.execute(query)\n",
    "con.commit()\n",
    "\n",
    "price_arr = cur.fetchall()\n",
    "\n",
    "con.close()"
   ]
  },
  {
   "cell_type": "code",
   "execution_count": null,
   "id": "11ac794f",
   "metadata": {},
   "outputs": [],
   "source": [
    "cost_arr = []\n",
    "for pairs in price_arr:\n",
    "    cost_arr.append(pairs[1])\n",
    "price = pd.DataFrame(cost_arr, columns = [\"price\"])"
   ]
  },
  {
   "cell_type": "code",
   "execution_count": null,
   "id": "47f6401c",
   "metadata": {},
   "outputs": [],
   "source": [
    "#Describes the location and scale of the data observed\n",
    "y_bar = np.mean(price)\n",
    "std = np.std(price)\n",
    "\n",
    "#ybar as yhat predicts the future values we will observe\n",
    "\n",
    "y_hat = np. mean(price) \n",
    "y_std = np.std(price)\n",
    "\n",
    "\n",
    "# Predictive model: Assuming a non- normally distributed variable and  giving our estimates some error bounds (75% probability interval): \n",
    "print(y_hat, \"(\", y_hat-2*y_std, \",\", y_hat+2*y_std, \")\")"
   ]
  },
  {
   "attachments": {},
   "cell_type": "markdown",
   "id": "b919509d",
   "metadata": {},
   "source": [
    "It is important to note that values cannot be negative, therefore the bounds would be 0 to 428.43. This is too big of a range and not an appropiate model. We would predict that the mean listing price is 166.80 dollars. The standard deviation of the price using 75% error bounds is (-94.82, 428.43).  "
   ]
  },
  {
   "attachments": {},
   "cell_type": "markdown",
   "id": "d070c00c-41dc-4ae7-a93f-a3db01beb9a1",
   "metadata": {},
   "source": [
    "## Final Model  "
   ]
  },
  {
   "cell_type": "code",
   "execution_count": null,
   "id": "05743d9e",
   "metadata": {},
   "outputs": [],
   "source": [
    "airBnb_csv = \"../datasets/airbnb_selected_variables.csv\"\n",
    "airBnB = pd.read_csv(airBnb_csv)\n",
    "airBnB['room_type'] = airBnB['room_type'].str.replace('/','_')\n",
    "airBnB['room_type'] = airBnB['room_type'].str.replace(' ','_')\n",
    "airBnB['host_response_time'] = airBnB['host_response_time'].str.replace(' ','_')"
   ]
  },
  {
   "cell_type": "code",
   "execution_count": null,
   "id": "6e6e8446",
   "metadata": {},
   "outputs": [],
   "source": [
    "airBnB = pd.concat([airBnB, pd.get_dummies(airBnB[\"host_is_superhost\"], prefix=\"superhost\")], axis=1)\n",
    "airBnB = pd.concat([airBnB, pd.get_dummies(airBnB[\"host_response_time\"], prefix=\"host_response_time\")], axis=1)\n",
    "airBnB = pd.concat([airBnB, pd.get_dummies(airBnB[\"room_type\"], prefix=\"room_type\")], axis=1)\n",
    "airBnB = pd.concat([airBnB, pd.get_dummies(airBnB[\"property_type\"], prefix=\"property_type\")], axis=1)\n",
    "airBnB = pd.concat([airBnB, pd.get_dummies(airBnB[\"instant_bookable\"], prefix=\"instant_bookable\")], axis=1)\n",
    "airBnB = pd.concat([airBnB, pd.get_dummies(airBnB[\"neighborhood_label\"], prefix=\"neighborhood\")], axis=1)\n",
    "airBnB = pd.concat([airBnB, pd.get_dummies(airBnB[\"bathroom_type\"], prefix=\"bath_type\")], axis=1)"
   ]
  },
  {
   "cell_type": "code",
   "execution_count": null,
   "id": "7bfea74f-04d9-4cc2-b7ad-8f77c4510472",
   "metadata": {},
   "outputs": [],
   "source": [
    "model4 = \"price ~ bedrooms_log + beds_log + accommodates_log + host_response_rate_log + host_acceptance_rate_log + number_of_reviews_log + review_scores_rating_log + num_baths_log + superhost_t + host_response_time_within_a_day + host_response_time_within_a_few_hours + room_type_Entire_home_apt + room_type_Private_room + property_type_apt + property_type_hotel + property_type_house + instant_bookable_t + neighborhood_high + bath_type_private + bedrooms:num_baths + bedrooms:accommodates\"\n",
    "result = models.bootstrap_linear_regression(model4, data=airBnB)\n",
    "models.describe_bootstrap_lr(result)"
   ]
  },
  {
   "attachments": {},
   "cell_type": "markdown",
   "id": "52f80228",
   "metadata": {},
   "source": [
    "<img src=\"./images/final_model.png\" alt= “” width=\"600\" height=\"700\">"
   ]
  },
  {
   "attachments": {},
   "cell_type": "markdown",
   "id": "32ac4e67",
   "metadata": {},
   "source": [
    "Our final model to predict listing price of a property based on differen factors is:  \n",
    "  \n",
    "Model: price ~ bedrooms_log + beds_log + accommodates_log + host_response_rate_log + host_acceptance_rate_log + number_of_reviews_log + review_scores_rating_log + num_baths_log + superhost_t + host_response_time_within_a_day + host_response_time_within_a_few_hours + room_type_Entire_home_apt + room_type_Private_room + property_type_apt + property_type_hotel + property_type_house + instant_bookable_t + neighborhood_high + bath_type_private + bedrooms:num_baths + bedrooms:accommodates \n",
    "  \n",
    "The final linear regression model of price contains 19 variables (bedrooms_log, beds_log, accommodates_log, host_response_rate_log, host_acceptance_rate_log, number_of_reviews_log, review_scores_rating_log, num_baths_log, superhost_t, host_response_time_within_a_day, host_response_time_within_a_few_hours, room_type_Entire_home_apt, room_type_Private_room, property_type_apt, property_type_hotel, property_type_house, instant_bookable_t, neighborhood_high, and bath_type_private) and 2 interaction terms (bedrooms:num_baths and bedrooms:accommodates).  \n",
    "  \n",
    "The $R^2$ is 39% which is ok. All the variables in the model make sense. The error of the regression ($\\sigma$) is 102.23 compared to 130.82 in th null model.\n",
    "  \n",
    "What the model means:\n",
    "\n",
    "* **bedrooms_log** - for every unit of log bedrooms, add 11.23 from price.\n",
    "* **beds_log** - for every unit of log beds, add 5.46 from price. \n",
    "* **accommodates_log** - for every unit of log accomodates, add 27.16 from price.\n",
    "* **host_response_rate_log** - for every unit of log host_response_rate, subtract 2.64 from price. \n",
    "* **host_acceptance_rate_log** - for every unit of log host_acceptance_rate, add 4.5 from price.\n",
    "* **number_of_reviews_log** - for every unit of log number_of_reviews, subtract 4.85 from price.\n",
    "* **review_scores_rating_log** - for every unit of log review_scores_rating, subtract 12.01 from price.\n",
    "* **num_baths_log** - for every unit of log num_baths, add 116.32 from price.\n",
    "* **superhost_t** - for every unit of superhost_t, add 16.44 from price.\n",
    "* **host_response_time_within_a_day** - for every unit of host_response_time_within_a_day, subtract 12.36 from price.\n",
    "* **host_response_time_within_a_few_hours** - for every unit of host_response_time_within_a_few_hours, subtract 31.49 from price.\n",
    "* **room_type_Entire_home_apt** - for every unit of room_type_Entire_home_apt, add 84.23 from price.\n",
    "* **room_type_Private_room** - for every unit of room_type_Private_room, add 52.24 from price.\n",
    "* **property_type_apt** - for every unit of property_type_apt, add 50.14 from price.\n",
    "* **property_type_hotel** - for every unit of property_type_hotel, add 186.49 from price.\n",
    "* **property_type_house** - for every unit of property_type_house, add 38.04 from price.\n",
    "* **instant_bookable_t** - for every unit of instant_bookable_t, add 8.16 from price.\n",
    "* **neighborhood_high** - for every unit of neighborhood_high, add 18.56 from price.\n",
    "* **bath_type_private** - for every unit of bath_type_private, add 9.57 from price.\n",
    "* **bedrooms:num_baths** - for every unit of interacction between bedrooms and num_baths, subtract 4.73 from price.\n",
    "* **bedrooms:accommodates** - for every unit of interacction between bedrooms and accomodates, add 2.46 from price.\n",
    " \n",
    "From the null model, we know the $\\sigma$ of this particular model was 130.82. The $\\sigma$ for the model we came up with is 102.23. That is a significant improvement while keeping a $R^2$ of .39. "
   ]
  },
  {
   "cell_type": "markdown",
   "id": "9470072e-29d0-43dd-a32c-4cb97c43fd11",
   "metadata": {},
   "source": [
    "## Prediction Examples  "
   ]
  },
  {
   "cell_type": "markdown",
   "id": "b8be6594-60e1-4563-9d7a-370ce775b457",
   "metadata": {},
   "source": [
    "### Prediction 1\n",
    "\n",
    "In order to create predictions from the model, we must create a vector that simulates the circumstance for which we would want to predict the price. That is, if we want the price for a place that has:\n",
    "\n",
    "1. Skip (1 is inserted for the intercept)\n",
    "2. 2 bedrooms\n",
    "3. 3 beds\n",
    "4. 4 accomodates\n",
    "5. 98 host_response_rate\n",
    "6. 88 host_aceptantce_rate\n",
    "7. 25 number of review\n",
    "8. 4.8 review_scores_rating\n",
    "9. 1 num_baths\n",
    "10. Is a superhost. superhost_t = 1 (True)\n",
    "11. host_response_time_within_a_day = 1 (True)\n",
    "12. host_response_time_within_a_few_hours = 0 (False since responds within a day)\n",
    "13. room_type_Entire_home_apt = 1 (True)\n",
    "14. room_type_Private_room = 0 (False since room type is apt)\n",
    "15. property_type_apt = 1 (True)\n",
    "16. property_type_hotel = 0 (False since property type is apt)\n",
    "17. property_type_house = 0 (False since property type is apt)\n",
    "18. instant_bookable_t = 1 (True)\n",
    "19. neighborhood_high = 1 (True)\n",
    "20. bath_type_private = 1 (True)\n",
    "21. bedrooms:num_baths = 2 ; 2 is the number of bedrooms and there is 1 bath (2x1 = 2)\n",
    "22. bedrooms:accommodates 8; 2 is the number of bedrooms and there is room for 4 accomodate (2x4 = 8) \n"
   ]
  },
  {
   "cell_type": "code",
   "execution_count": null,
   "id": "ebeaa28c-dab8-45e4-b986-6f2f370611cd",
   "metadata": {},
   "outputs": [],
   "source": [
    "prediction = result[\"model\"].predict([[10,2,3,4,98,88,25,4.8,1,1,1,0,1,0,1,0,0,1,1,1,2,8]])\n",
    "print(prediction)"
   ]
  },
  {
   "cell_type": "markdown",
   "id": "4e4c5359-0378-4650-aa57-b5d065a4a68d",
   "metadata": {},
   "source": [
    "We get an Airbnb that should cost around \\\\$272.68 dollars. Let's try another circumstance: \n",
    "\n",
    "1. Skip (1 is inserted for the intercept)\n",
    "2. 1 bedroom\n",
    "3. 2 beds\n",
    "4. 4 accomodates\n",
    "5. 98 host_response_rate\n",
    "6. 88 host_aceptantce_rate\n",
    "7. 25 number of review\n",
    "8. 4.8 review_scores_rating\n",
    "9. 2 num_baths\n",
    "10. Is a superhost. superhost_t = 1 (True)\n",
    "11. host_response_time_within_a_day = 0 (False since responds within hrs)\n",
    "12. host_response_time_within_a_few_hours = 1 (True)\n",
    "13. room_type_Entire_home_apt = 1 (True)\n",
    "14. room_type_Private_room = 0 (False since room type is apt)\n",
    "15. property_type_apt = 0 (False since property type is hotel)\n",
    "16. property_type_hotel = 1 (True)\n",
    "17. property_type_house = 0 (False since property type is hotel)\n",
    "18. instant_bookable_t = 1 (True)\n",
    "19. neighborhood_high = 0 (False)\n",
    "20. bath_type_private = 1 (True)\n",
    "21. bedrooms:num_baths = 6 ; 3 is the number of bedrooms and there is 2 bath (3x2 = 6)\n",
    "22. bedrooms:accommodates = 9 ; 3 is the number of bedrooms and there is room for 3 accomodate (3x3 = 9) "
   ]
  },
  {
   "cell_type": "code",
   "execution_count": null,
   "id": "56258bab-f865-47fb-9683-be545d14a2d0",
   "metadata": {},
   "outputs": [],
   "source": [
    "prediction2 = result[\"model\"].predict([[10,1,2,4,98,88,25,4.8,1,1,0,1,1,0,0,1,0,1,0,1,6,9]])\n",
    "print(prediction2)"
   ]
  },
  {
   "cell_type": "markdown",
   "id": "c4970464-25bc-442e-a9a1-2dd15e07642e",
   "metadata": {},
   "source": [
    "We get an Airbnb that should cost around \\\\$338.04. Let's try another circumstance: \n",
    "\n",
    "1. Skip (1 is inserted for the intercept)\n",
    "2. 1 bedrooms\n",
    "3. 2 beds\n",
    "4. 1 accomodates\n",
    "5. 98 host_response_rate\n",
    "6. 88 host_aceptantce_rate\n",
    "7. 25 number of review\n",
    "8. 4.8 review_scores_rating\n",
    "9. 1 num_baths\n",
    "10. Is a superhost. superhost_t = 1 (True)\n",
    "11. host_response_time_within_a_day = 0 (False since responds within hrs)\n",
    "12. host_response_time_within_a_few_hours = 1 (True)\n",
    "13. room_type_Entire_home_apt = 0 (False)\n",
    "14. room_type_Private_room = 1 (true)\n",
    "15. property_type_apt = 0 (False since property type is hotel)\n",
    "16. property_type_hotel = 1 (True)\n",
    "17. property_type_house = 0 (False since property type is hotel)\n",
    "18. instant_bookable_t = 1 (True)\n",
    "19. neighborhood_high = 0 (False)\n",
    "20. bath_type_private = 1 (True)\n",
    "21. bedrooms:num_baths = 1 ; 1 is the number of bedrooms and there is 1 bath (1x1 = 1)\n",
    "22. bedrooms:accommodates = 1 ; 1 is the number of bedrooms and there is room for 1 accomodate (1x1 = 1) "
   ]
  },
  {
   "cell_type": "code",
   "execution_count": null,
   "id": "79e0aa93-d3ed-4cf7-88bb-cb575bfc1be5",
   "metadata": {},
   "outputs": [],
   "source": [
    "prediction3 = result[\"model\"].predict([[10,1,1,3,98,88,25,4.8,1,1,0,1,0,1,0,1,0,1,0,1,1,3]])\n",
    "print(prediction3)"
   ]
  },
  {
   "attachments": {},
   "cell_type": "markdown",
   "id": "8fe43d07-6f95-4eb7-95af-cc94ec5f3fbd",
   "metadata": {},
   "source": [
    "We get an Airbnb that should cost around \\\\$282.32.\n",
    "\n",
    "The predictions seems to be appropriate. Therefore, our model seems acceptable to use as a means to predict rental listings."
   ]
  }
 ],
 "metadata": {
  "kernelspec": {
   "display_name": "en685648",
   "language": "python",
   "name": "python3"
  },
  "language_info": {
   "codemirror_mode": {
    "name": "ipython",
    "version": 3
   },
   "file_extension": ".py",
   "mimetype": "text/x-python",
   "name": "python",
   "nbconvert_exporter": "python",
   "pygments_lexer": "ipython3",
   "version": "3.10.8"
  }
 },
 "nbformat": 4,
 "nbformat_minor": 5
}
