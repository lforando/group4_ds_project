{
 "cells": [
  {
   "cell_type": "code",
   "execution_count": 15,
   "id": "ea40b68e-49dd-4da8-9f10-0e55f73e2e4e",
   "metadata": {},
   "outputs": [],
   "source": [
    "import numpy as np\n",
    "import pandas as pd\n",
    "import time\n",
    "import seaborn as sns\n",
    "import matplotlib.pyplot as plt\n",
    "import scipy.stats as stats\n",
    "import sys\n",
    "sys.path.append('../utils')\n",
    "import models\n",
    "from scipy.stats import norm\n",
    "\n",
    "sns.set(style=\"whitegrid\")"
   ]
  },
  {
   "cell_type": "code",
   "execution_count": 16,
   "id": "d9fb2b1e-e7e0-4d1f-b805-0a7a785021a6",
   "metadata": {},
   "outputs": [],
   "source": [
    "def freeman_diaconis( data):\n",
    "    quartiles = stats.mstats.mquantiles( data, [0.25, 0.5, 0.75])\n",
    "    iqr = quartiles[2] - quartiles[ 0]\n",
    "    n = len( data)\n",
    "    h = 2.0 * (iqr/n**(1.0/3.0))\n",
    "    return int( h)"
   ]
  },
  {
   "cell_type": "code",
   "execution_count": 17,
   "id": "6f7a95aa-85f7-4918-8ae7-e73933011673",
   "metadata": {},
   "outputs": [],
   "source": [
    "def classify_correlation(r):\n",
    "    r = abs(r)\n",
    "    if r < 0.16:\n",
    "        return \"very weak\"\n",
    "    if r < 0.29:\n",
    "        return \"weak\"\n",
    "    if r < 0.49:\n",
    "        return \"low\"\n",
    "    if r < 0.69:\n",
    "        return \"moderate\"\n",
    "    if r < 0.89:\n",
    "        return \"strong\"\n",
    "    return \"very strong\""
   ]
  },
  {
   "cell_type": "code",
   "execution_count": 18,
   "id": "d65367d5-1477-47b6-890b-c8d743542243",
   "metadata": {},
   "outputs": [],
   "source": [
    "def correlation(data, x, y):\n",
    "    print(\"Correlation coefficients:\")\n",
    "    r = stats.pearsonr(data[x], data[y])[0]\n",
    "    print( \"r   =\", r, f\"({classify_correlation(r)})\")\n",
    "    rho = stats.spearmanr(data[x], data[y])[0]\n",
    "    print( \"rho =\", rho, f\"({classify_correlation(rho)})\")"
   ]
  },
  {
   "cell_type": "code",
   "execution_count": 19,
   "id": "13d1b8ad-68fb-4b91-ada0-d44b8f3992b9",
   "metadata": {},
   "outputs": [],
   "source": [
    "def describe_by_category(data, numeric, categorical, transpose=False):\n",
    "    grouped = data.groupby(categorical)\n",
    "    grouped_y = grouped[numeric].describe()\n",
    "    if transpose:\n",
    "        print(grouped_y.transpose())\n",
    "    else:\n",
    "        print(grouped_y)"
   ]
  },
  {
   "cell_type": "code",
   "execution_count": 20,
   "id": "24a4c264-0364-4110-97ba-bc6eec136c4b",
   "metadata": {},
   "outputs": [],
   "source": [
    "def lowess_scatter(data, x, y, jitter=0.0, skip_lowess=False):\n",
    "\n",
    "    if skip_lowess:\n",
    "        fit = np.polyfit(data[x], data[y], 1)\n",
    "        line_x = np.linspace(data[x].min(), data[x].max(), 10)\n",
    "        line = np.poly1d(fit)\n",
    "        line_y = list(map(line, line_x))\n",
    "    else:\n",
    "        lowess = sm.nonparametric.lowess(data[y], data[x], frac=.3)\n",
    "        line_x = list(zip(*lowess))[0]\n",
    "        line_y = list(zip(*lowess))[1]\n",
    "\n",
    "    figure = plt.figure(figsize=(10, 6))\n",
    "\n",
    "    axes = figure.add_subplot(1, 1, 1)\n",
    "\n",
    "    xs = data[x]\n",
    "    if jitter > 0.0:\n",
    "        xs = data[x] + stats.norm.rvs( 0, 0.5, data[x].size)\n",
    "\n",
    "    axes.scatter(xs, data[y], marker=\"o\", color=\"DimGray\", alpha=0.5)\n",
    "    axes.plot(line_x, line_y, color=\"DarkRed\")\n",
    "\n",
    "    title = \"Plot of {0} v. {1}\".format(x, y)\n",
    "    if not skip_lowess:\n",
    "        title += \" with LOWESS\"\n",
    "    axes.set_title(title)\n",
    "    axes.set_xlabel(x)\n",
    "    axes.set_ylabel(y)\n",
    "\n",
    "    plt.show()\n",
    "    plt.close()"
   ]
  },
  {
   "cell_type": "code",
   "execution_count": 21,
   "id": "c7c6952d-b7c1-4c1e-ad7f-a8b421b83c7f",
   "metadata": {},
   "outputs": [],
   "source": [
    "df = pd.read_csv('../datasets/airbnb_selected_variables.csv', index_col=0)"
   ]
  },
  {
   "cell_type": "code",
   "execution_count": 22,
   "id": "3644e796-2548-45c0-ba14-12179bbdfa18",
   "metadata": {},
   "outputs": [
    {
     "name": "stdout",
     "output_type": "stream",
     "text": [
      "Freeman Diaconis:  11\n"
     ]
    },
    {
     "data": {
      "image/png": "[encoded data removed]",
      "text/plain": [
       "<Figure size 1000x600 with 1 Axes>"
      ]
     },
     "metadata": {},
     "output_type": "display_data"
    }
   ],
   "source": [
    "h = freeman_diaconis(df.price)\n",
    "print(\"Freeman Diaconis: \", h)\n",
    "mn = int(df.price.min())\n",
    "mx = int(df.price.max())\n",
    "bins = [i for i in range( mn, mx, h)]\n",
    "\n",
    "figure = plt.figure(figsize=(10, 6))\n",
    "\n",
    "axes = figure.add_subplot(1, 1, 1)\n",
    "axes.hist(df.price,bins=bins, color=\"darkslategray\")\n",
    "axes.set_title(\"Price Distribution - Freeman Diaconis\")\n",
    "axes.set_xlabel(\"Price\")\n",
    "\n",
    "plt.show()\n",
    "plt.close()"
   ]
  },
  {
   "cell_type": "code",
   "execution_count": 23,
   "id": "0eb68aaa-7d45-43c1-9a8a-ae5fd189bc7f",
   "metadata": {},
   "outputs": [
    {
     "name": "stdout",
     "output_type": "stream",
     "text": [
      "<class 'pandas.core.frame.DataFrame'>\n",
      "Int64Index: 8628 entries, 0 to 8627\n",
      "Data columns (total 17 columns):\n",
      " #   Column                Non-Null Count  Dtype  \n",
      "---  ------                --------------  -----  \n",
      " 0   price                 8628 non-null   float64\n",
      " 1   bedrooms              8628 non-null   int64  \n",
      " 2   beds                  8628 non-null   int64  \n",
      " 3   accommodates          8628 non-null   int64  \n",
      " 4   host_is_superhost     8628 non-null   object \n",
      " 5   host_response_time    8628 non-null   object \n",
      " 6   room_type             8628 non-null   object \n",
      " 7   property_type         8628 non-null   object \n",
      " 8   instant_bookable      8628 non-null   object \n",
      " 9   host_response_rate    8628 non-null   float64\n",
      " 10  host_acceptance_rate  8628 non-null   float64\n",
      " 11  number_of_reviews     8628 non-null   int64  \n",
      " 12  review_scores_rating  8628 non-null   float64\n",
      " 13  reviews_per_month     8628 non-null   float64\n",
      " 14  neighborhood_label    8628 non-null   object \n",
      " 15  bathroom_type         8628 non-null   object \n",
      " 16  num_baths             8628 non-null   float64\n",
      "dtypes: float64(6), int64(4), object(7)\n",
      "memory usage: 1.2+ MB\n"
     ]
    }
   ],
   "source": [
    "df.info()"
   ]
  },
  {
   "cell_type": "code",
   "execution_count": 26,
   "id": "95650373-48d0-440e-a999-cc2793fe0b0a",
   "metadata": {},
   "outputs": [],
   "source": [
    "df = pd.concat([df, pd.get_dummies(df['host_is_superhost'], prefix='sh')], axis=1)\n",
    "df = pd.concat([df, pd.get_dummies(df['room_type'], prefix='room_type')], axis=1)\n",
    "df = pd.concat([df, pd.get_dummies(df['property_type'], prefix='property_type')], axis=1)\n",
    "df = pd.concat([df, pd.get_dummies(df['instant_bookable'], prefix='instant_bookable')], axis=1)"
   ]
  },
  {
   "cell_type": "code",
   "execution_count": null,
   "id": "db32830d-c46a-403f-baed-b7a79f8c210b",
   "metadata": {},
   "outputs": [],
   "source": []
  }
 ],
 "metadata": {
  "kernelspec": {
   "display_name": "Python (en685648)",
   "language": "python",
   "name": "en685648"
  },
  "language_info": {
   "codemirror_mode": {
    "name": "ipython",
    "version": 3
   },
   "file_extension": ".py",
   "mimetype": "text/x-python",
   "name": "python",
   "nbconvert_exporter": "python",
   "pygments_lexer": "ipython3",
   "version": "3.10.8"
  }
 },
 "nbformat": 4,
 "nbformat_minor": 5
}
