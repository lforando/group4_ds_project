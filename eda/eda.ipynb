{
 "cells": [
  {
   "cell_type": "code",
   "execution_count": 2,
   "id": "df659532-43cb-4d44-818e-05f40c76bcd8",
   "metadata": {
    "tags": []
   },
   "outputs": [],
   "source": [
    "%matplotlib inline\n",
    "\n",
    "import warnings\n",
    "warnings.filterwarnings(\"ignore\")"
   ]
  },
  {
   "cell_type": "code",
   "execution_count": 3,
   "id": "d22bb50b-1998-4147-85ea-ee89d0db7f70",
   "metadata": {
    "tags": []
   },
   "outputs": [],
   "source": [
    "import xlrd\n",
    "import os \n",
    "import sqlite3\n",
    "import csv\n",
    "import matplotlib.pyplot as plt\n",
    "import numpy as np\n",
    "import seaborn as sns\n",
    "import pandas as pd\n",
    "from tabulate import tabulate\n",
    "import matplotlib.pyplot as plt\n",
    "import scipy.stats as stats\n",
    "import numpy as np\n",
    "from scipy.stats import norm\n",
    "import statsmodels.api as sm\n",
    "from sklearn.impute import SimpleImputer\n",
    "\n",
    "sns.set(style=\"whitegrid\")"
   ]
  },
  {
   "cell_type": "markdown",
   "id": "3f4e7fee",
   "metadata": {},
   "source": [
    "### Functions:"
   ]
  },
  {
   "cell_type": "code",
   "execution_count": 4,
   "id": "b6d24204",
   "metadata": {},
   "outputs": [],
   "source": [
    "def freeman_diaconis( data):\n",
    "    quartiles = stats.mstats.mquantiles( data, [0.25, 0.5, 0.75])\n",
    "    iqr = quartiles[2] - quartiles[ 0]\n",
    "    n = len( data)\n",
    "    h = 2.0 * (iqr/n**(1.0/3.0))\n",
    "    return int( h)"
   ]
  },
  {
   "cell_type": "code",
   "execution_count": 5,
   "id": "b016673a",
   "metadata": {},
   "outputs": [],
   "source": [
    "def classify_correlation(r):\n",
    "    r = abs(r)\n",
    "    if r < 0.16:\n",
    "        return \"very weak\"\n",
    "    if r < 0.29:\n",
    "        return \"weak\"\n",
    "    if r < 0.49:\n",
    "        return \"low\"\n",
    "    if r < 0.69:\n",
    "        return \"moderate\"\n",
    "    if r < 0.89:\n",
    "        return \"strong\"\n",
    "    return \"very strong\""
   ]
  },
  {
   "cell_type": "code",
   "execution_count": 6,
   "id": "925607a6",
   "metadata": {},
   "outputs": [],
   "source": [
    "def correlation(data, x, y):\n",
    "    print(\"Correlation coefficients:\")\n",
    "    r = stats.pearsonr(data[x], data[y])[0]\n",
    "    print( \"r   =\", r, f\"({classify_correlation(r)})\")\n",
    "    rho = stats.spearmanr(data[x], data[y])[0]\n",
    "    print( \"rho =\", rho, f\"({classify_correlation(rho)})\")"
   ]
  },
  {
   "cell_type": "code",
   "execution_count": 7,
   "id": "00cc27e3",
   "metadata": {},
   "outputs": [],
   "source": [
    "def describe_by_category(data, numeric, categorical, transpose=False):\n",
    "    grouped = data.groupby(categorical)\n",
    "    grouped_y = grouped[numeric].describe()\n",
    "    if transpose:\n",
    "        print(grouped_y.transpose())\n",
    "    else:\n",
    "        print(grouped_y)"
   ]
  },
  {
   "cell_type": "code",
   "execution_count": 8,
   "id": "259cbcd4",
   "metadata": {},
   "outputs": [],
   "source": [
    "def lowess_scatter(data, x, y, jitter=0.0, skip_lowess=False):\n",
    "\n",
    "    if skip_lowess:\n",
    "        fit = np.polyfit(data[x], data[y], 1)\n",
    "        line_x = np.linspace(data[x].min(), data[x].max(), 10)\n",
    "        line = np.poly1d(fit)\n",
    "        line_y = list(map(line, line_x))\n",
    "    else:\n",
    "        lowess = sm.nonparametric.lowess(data[y], data[x], frac=.3)\n",
    "        line_x = list(zip(*lowess))[0]\n",
    "        line_y = list(zip(*lowess))[1]\n",
    "\n",
    "    figure = plt.figure(figsize=(10, 6))\n",
    "\n",
    "    axes = figure.add_subplot(1, 1, 1)\n",
    "\n",
    "    xs = data[x]\n",
    "    if jitter > 0.0:\n",
    "        xs = data[x] + stats.norm.rvs( 0, 0.5, data[x].size)\n",
    "\n",
    "    axes.scatter(xs, data[y], marker=\"o\", color=\"DimGray\", alpha=0.5)\n",
    "    axes.plot(line_x, line_y, color=\"DarkRed\")\n",
    "\n",
    "    title = \"Plot of {0} v. {1}\".format(x, y)\n",
    "    if not skip_lowess:\n",
    "        title += \" with LOWESS\"\n",
    "    axes.set_title(title)\n",
    "    axes.set_xlabel(x)\n",
    "    axes.set_ylabel(y)\n",
    "\n",
    "    plt.show()\n",
    "    plt.close()"
   ]
  },
  {
   "cell_type": "code",
   "execution_count": 9,
   "id": "621e87a6-75b0-4df3-9dc4-f68a0a4199d7",
   "metadata": {},
   "outputs": [],
   "source": [
    "db_path = '../datasets/datawarehouse.db'"
   ]
  },
  {
   "cell_type": "markdown",
   "id": "4afcdf67",
   "metadata": {},
   "source": [
    "#### ETL - Price (for some EDA instances), host_response_rate, and host_acceptance_rate"
   ]
  },
  {
   "cell_type": "markdown",
   "id": "96399eaf",
   "metadata": {},
   "source": [
    "Load the data from the `listings` table:"
   ]
  },
  {
   "cell_type": "code",
   "execution_count": 10,
   "id": "b98d4105",
   "metadata": {},
   "outputs": [],
   "source": [
    "data = pd.read_sql_query(\"SELECT * FROM listings\", sqlite3.connect(db_path))"
   ]
  },
  {
   "cell_type": "code",
   "execution_count": 11,
   "id": "66a5cc7c",
   "metadata": {},
   "outputs": [
    {
     "data": {
      "text/html": [
       "<div>\n",
       "<style scoped>\n",
       "    .dataframe tbody tr th:only-of-type {\n",
       "        vertical-align: middle;\n",
       "    }\n",
       "\n",
       "    .dataframe tbody tr th {\n",
       "        vertical-align: top;\n",
       "    }\n",
       "\n",
       "    .dataframe thead th {\n",
       "        text-align: right;\n",
       "    }\n",
       "</style>\n",
       "<table border=\"1\" class=\"dataframe\">\n",
       "  <thead>\n",
       "    <tr style=\"text-align: right;\">\n",
       "      <th></th>\n",
       "      <th>price</th>\n",
       "      <th>host_response_rate</th>\n",
       "      <th>host_acceptance_rate</th>\n",
       "    </tr>\n",
       "  </thead>\n",
       "  <tbody>\n",
       "    <tr>\n",
       "      <th>0</th>\n",
       "      <td>$20.00</td>\n",
       "      <td>N/A</td>\n",
       "      <td>N/A</td>\n",
       "    </tr>\n",
       "    <tr>\n",
       "      <th>1</th>\n",
       "      <td>$185.00</td>\n",
       "      <td>100%</td>\n",
       "      <td>100%</td>\n",
       "    </tr>\n",
       "    <tr>\n",
       "      <th>2</th>\n",
       "      <td>$221.00</td>\n",
       "      <td>99%</td>\n",
       "      <td>100%</td>\n",
       "    </tr>\n",
       "    <tr>\n",
       "      <th>3</th>\n",
       "      <td>$142.00</td>\n",
       "      <td>100%</td>\n",
       "      <td>100%</td>\n",
       "    </tr>\n",
       "    <tr>\n",
       "      <th>4</th>\n",
       "      <td>$398.00</td>\n",
       "      <td>N/A</td>\n",
       "      <td>N/A</td>\n",
       "    </tr>\n",
       "  </tbody>\n",
       "</table>\n",
       "</div>"
      ],
      "text/plain": [
       "     price host_response_rate host_acceptance_rate\n",
       "0   $20.00                N/A                  N/A\n",
       "1  $185.00               100%                 100%\n",
       "2  $221.00                99%                 100%\n",
       "3  $142.00               100%                 100%\n",
       "4  $398.00                N/A                  N/A"
      ]
     },
     "execution_count": 11,
     "metadata": {},
     "output_type": "execute_result"
    }
   ],
   "source": [
    "eda_dkn = data.loc[:,[\"price\", \"host_response_rate\", \"host_acceptance_rate\"]]\n",
    "eda_dkn.head()"
   ]
  },
  {
   "cell_type": "markdown",
   "id": "717efb0e",
   "metadata": {},
   "source": [
    "We then convert categorical variables `price`, `host_response_rate`, and `host_acceptance_rate` into numerical variables.\n",
    "\n",
    "We first remove `$` and `,` from the column of `price` and `%` from the columns of `host_response_rate` and `host_acceptance_rate`:"
   ]
  },
  {
   "cell_type": "code",
   "execution_count": 12,
   "id": "fa08a91c",
   "metadata": {},
   "outputs": [
    {
     "data": {
      "text/html": [
       "<div>\n",
       "<style scoped>\n",
       "    .dataframe tbody tr th:only-of-type {\n",
       "        vertical-align: middle;\n",
       "    }\n",
       "\n",
       "    .dataframe tbody tr th {\n",
       "        vertical-align: top;\n",
       "    }\n",
       "\n",
       "    .dataframe thead th {\n",
       "        text-align: right;\n",
       "    }\n",
       "</style>\n",
       "<table border=\"1\" class=\"dataframe\">\n",
       "  <thead>\n",
       "    <tr style=\"text-align: right;\">\n",
       "      <th></th>\n",
       "      <th>price</th>\n",
       "      <th>host_response_rate</th>\n",
       "      <th>host_acceptance_rate</th>\n",
       "    </tr>\n",
       "  </thead>\n",
       "  <tbody>\n",
       "    <tr>\n",
       "      <th>0</th>\n",
       "      <td>20.00</td>\n",
       "      <td>N/A</td>\n",
       "      <td>N/A</td>\n",
       "    </tr>\n",
       "    <tr>\n",
       "      <th>1</th>\n",
       "      <td>185.00</td>\n",
       "      <td>100</td>\n",
       "      <td>100</td>\n",
       "    </tr>\n",
       "    <tr>\n",
       "      <th>2</th>\n",
       "      <td>221.00</td>\n",
       "      <td>99</td>\n",
       "      <td>100</td>\n",
       "    </tr>\n",
       "    <tr>\n",
       "      <th>3</th>\n",
       "      <td>142.00</td>\n",
       "      <td>100</td>\n",
       "      <td>100</td>\n",
       "    </tr>\n",
       "    <tr>\n",
       "      <th>4</th>\n",
       "      <td>398.00</td>\n",
       "      <td>N/A</td>\n",
       "      <td>N/A</td>\n",
       "    </tr>\n",
       "  </tbody>\n",
       "</table>\n",
       "</div>"
      ],
      "text/plain": [
       "    price host_response_rate host_acceptance_rate\n",
       "0   20.00                N/A                  N/A\n",
       "1  185.00                100                  100\n",
       "2  221.00                 99                  100\n",
       "3  142.00                100                  100\n",
       "4  398.00                N/A                  N/A"
      ]
     },
     "execution_count": 12,
     "metadata": {},
     "output_type": "execute_result"
    }
   ],
   "source": [
    "eda_dkn['price'] = eda_dkn['price'].str.replace('$', '')\n",
    "eda_dkn['price'] = eda_dkn['price'].str.replace(',', '')\n",
    "eda_dkn['host_response_rate'] = eda_dkn['host_response_rate'].str.replace('%', '')\n",
    "eda_dkn['host_acceptance_rate'] = eda_dkn['host_acceptance_rate'].str.replace('%', '')\n",
    "eda_dkn.head()"
   ]
  },
  {
   "cell_type": "markdown",
   "id": "1a31a4f2",
   "metadata": {},
   "source": [
    "We then look at how many `N/A`s are in these columns:"
   ]
  },
  {
   "cell_type": "code",
   "execution_count": 13,
   "id": "e47b3f30",
   "metadata": {},
   "outputs": [
    {
     "data": {
      "text/plain": [
       "0"
      ]
     },
     "execution_count": 13,
     "metadata": {},
     "output_type": "execute_result"
    }
   ],
   "source": [
    "eda_dkn['price'].str.count('N/A').sum()"
   ]
  },
  {
   "cell_type": "code",
   "execution_count": 14,
   "id": "408bc081",
   "metadata": {},
   "outputs": [
    {
     "data": {
      "text/plain": [
       "1473"
      ]
     },
     "execution_count": 14,
     "metadata": {},
     "output_type": "execute_result"
    }
   ],
   "source": [
    "eda_dkn['host_response_rate'].str.count('N/A').sum()"
   ]
  },
  {
   "cell_type": "code",
   "execution_count": 15,
   "id": "acf0a0b1",
   "metadata": {},
   "outputs": [
    {
     "data": {
      "text/plain": [
       "1073"
      ]
     },
     "execution_count": 15,
     "metadata": {},
     "output_type": "execute_result"
    }
   ],
   "source": [
    "eda_dkn['host_acceptance_rate'].str.count('N/A').sum()"
   ]
  },
  {
   "cell_type": "markdown",
   "id": "dd5898f0",
   "metadata": {},
   "source": [
    "We then convert `host_response_rate` and `host_acceptance_rate` to floats:"
   ]
  },
  {
   "cell_type": "code",
   "execution_count": 16,
   "id": "01dada91",
   "metadata": {},
   "outputs": [
    {
     "data": {
      "text/html": [
       "<div>\n",
       "<style scoped>\n",
       "    .dataframe tbody tr th:only-of-type {\n",
       "        vertical-align: middle;\n",
       "    }\n",
       "\n",
       "    .dataframe tbody tr th {\n",
       "        vertical-align: top;\n",
       "    }\n",
       "\n",
       "    .dataframe thead th {\n",
       "        text-align: right;\n",
       "    }\n",
       "</style>\n",
       "<table border=\"1\" class=\"dataframe\">\n",
       "  <thead>\n",
       "    <tr style=\"text-align: right;\">\n",
       "      <th></th>\n",
       "      <th>price</th>\n",
       "      <th>host_response_rate</th>\n",
       "      <th>host_acceptance_rate</th>\n",
       "    </tr>\n",
       "  </thead>\n",
       "  <tbody>\n",
       "    <tr>\n",
       "      <th>0</th>\n",
       "      <td>20.00</td>\n",
       "      <td></td>\n",
       "      <td></td>\n",
       "    </tr>\n",
       "    <tr>\n",
       "      <th>1</th>\n",
       "      <td>185.00</td>\n",
       "      <td>100</td>\n",
       "      <td>100</td>\n",
       "    </tr>\n",
       "    <tr>\n",
       "      <th>2</th>\n",
       "      <td>221.00</td>\n",
       "      <td>99</td>\n",
       "      <td>100</td>\n",
       "    </tr>\n",
       "    <tr>\n",
       "      <th>3</th>\n",
       "      <td>142.00</td>\n",
       "      <td>100</td>\n",
       "      <td>100</td>\n",
       "    </tr>\n",
       "    <tr>\n",
       "      <th>4</th>\n",
       "      <td>398.00</td>\n",
       "      <td></td>\n",
       "      <td></td>\n",
       "    </tr>\n",
       "  </tbody>\n",
       "</table>\n",
       "</div>"
      ],
      "text/plain": [
       "    price host_response_rate host_acceptance_rate\n",
       "0   20.00                                        \n",
       "1  185.00                100                  100\n",
       "2  221.00                 99                  100\n",
       "3  142.00                100                  100\n",
       "4  398.00                                        "
      ]
     },
     "execution_count": 16,
     "metadata": {},
     "output_type": "execute_result"
    }
   ],
   "source": [
    "eda_dkn['host_response_rate'] = eda_dkn['host_response_rate'].str.replace('N/A', '')\n",
    "eda_dkn['host_acceptance_rate'] = eda_dkn['host_acceptance_rate'].str.replace('N/A', '')\n",
    "eda_dkn.head()"
   ]
  },
  {
   "cell_type": "code",
   "execution_count": 17,
   "id": "8f864bdc",
   "metadata": {},
   "outputs": [],
   "source": [
    "for price in eda_dkn.columns:\n",
    "    eda_dkn[price] = pd.to_numeric(eda_dkn[price], errors='coerce')"
   ]
  },
  {
   "cell_type": "code",
   "execution_count": 18,
   "id": "98082019",
   "metadata": {},
   "outputs": [
    {
     "data": {
      "text/html": [
       "<div>\n",
       "<style scoped>\n",
       "    .dataframe tbody tr th:only-of-type {\n",
       "        vertical-align: middle;\n",
       "    }\n",
       "\n",
       "    .dataframe tbody tr th {\n",
       "        vertical-align: top;\n",
       "    }\n",
       "\n",
       "    .dataframe thead th {\n",
       "        text-align: right;\n",
       "    }\n",
       "</style>\n",
       "<table border=\"1\" class=\"dataframe\">\n",
       "  <thead>\n",
       "    <tr style=\"text-align: right;\">\n",
       "      <th></th>\n",
       "      <th>price</th>\n",
       "      <th>host_response_rate</th>\n",
       "      <th>host_acceptance_rate</th>\n",
       "    </tr>\n",
       "  </thead>\n",
       "  <tbody>\n",
       "    <tr>\n",
       "      <th>0</th>\n",
       "      <td>20.0</td>\n",
       "      <td>96.885774</td>\n",
       "      <td>88.742004</td>\n",
       "    </tr>\n",
       "    <tr>\n",
       "      <th>1</th>\n",
       "      <td>185.0</td>\n",
       "      <td>100.000000</td>\n",
       "      <td>100.000000</td>\n",
       "    </tr>\n",
       "    <tr>\n",
       "      <th>2</th>\n",
       "      <td>221.0</td>\n",
       "      <td>99.000000</td>\n",
       "      <td>100.000000</td>\n",
       "    </tr>\n",
       "    <tr>\n",
       "      <th>3</th>\n",
       "      <td>142.0</td>\n",
       "      <td>100.000000</td>\n",
       "      <td>100.000000</td>\n",
       "    </tr>\n",
       "    <tr>\n",
       "      <th>4</th>\n",
       "      <td>398.0</td>\n",
       "      <td>96.885774</td>\n",
       "      <td>88.742004</td>\n",
       "    </tr>\n",
       "  </tbody>\n",
       "</table>\n",
       "</div>"
      ],
      "text/plain": [
       "   price  host_response_rate  host_acceptance_rate\n",
       "0   20.0           96.885774             88.742004\n",
       "1  185.0          100.000000            100.000000\n",
       "2  221.0           99.000000            100.000000\n",
       "3  142.0          100.000000            100.000000\n",
       "4  398.0           96.885774             88.742004"
      ]
     },
     "execution_count": 18,
     "metadata": {},
     "output_type": "execute_result"
    }
   ],
   "source": [
    "imputer1 = SimpleImputer(strategy='mean', missing_values=np.nan)\n",
    "imputer1 = imputer1.fit(eda_dkn[['host_response_rate']])\n",
    "eda_dkn['host_response_rate'] = imputer1.transform(eda_dkn[['host_response_rate']])\n",
    "\n",
    "imputer2 = imputer1.fit(eda_dkn[['host_acceptance_rate']])\n",
    "eda_dkn['host_acceptance_rate'] = imputer2.transform(eda_dkn[['host_acceptance_rate']])\n",
    "eda_dkn.head()"
   ]
  },
  {
   "cell_type": "markdown",
   "id": "d5f9bfec",
   "metadata": {},
   "source": [
    "Now we will add the categorical variable `host_response_time` to the dataframe:"
   ]
  },
  {
   "cell_type": "code",
   "execution_count": 19,
   "id": "1fe40d7b",
   "metadata": {},
   "outputs": [
    {
     "data": {
      "text/html": [
       "<div>\n",
       "<style scoped>\n",
       "    .dataframe tbody tr th:only-of-type {\n",
       "        vertical-align: middle;\n",
       "    }\n",
       "\n",
       "    .dataframe tbody tr th {\n",
       "        vertical-align: top;\n",
       "    }\n",
       "\n",
       "    .dataframe thead th {\n",
       "        text-align: right;\n",
       "    }\n",
       "</style>\n",
       "<table border=\"1\" class=\"dataframe\">\n",
       "  <thead>\n",
       "    <tr style=\"text-align: right;\">\n",
       "      <th></th>\n",
       "      <th>price</th>\n",
       "      <th>host_response_rate</th>\n",
       "      <th>host_acceptance_rate</th>\n",
       "      <th>host_response_time</th>\n",
       "    </tr>\n",
       "  </thead>\n",
       "  <tbody>\n",
       "    <tr>\n",
       "      <th>0</th>\n",
       "      <td>20.0</td>\n",
       "      <td>96.885774</td>\n",
       "      <td>88.742004</td>\n",
       "      <td>N/A</td>\n",
       "    </tr>\n",
       "    <tr>\n",
       "      <th>1</th>\n",
       "      <td>185.0</td>\n",
       "      <td>100.000000</td>\n",
       "      <td>100.000000</td>\n",
       "      <td>within an hour</td>\n",
       "    </tr>\n",
       "    <tr>\n",
       "      <th>2</th>\n",
       "      <td>221.0</td>\n",
       "      <td>99.000000</td>\n",
       "      <td>100.000000</td>\n",
       "      <td>within an hour</td>\n",
       "    </tr>\n",
       "    <tr>\n",
       "      <th>3</th>\n",
       "      <td>142.0</td>\n",
       "      <td>100.000000</td>\n",
       "      <td>100.000000</td>\n",
       "      <td>within an hour</td>\n",
       "    </tr>\n",
       "    <tr>\n",
       "      <th>4</th>\n",
       "      <td>398.0</td>\n",
       "      <td>96.885774</td>\n",
       "      <td>88.742004</td>\n",
       "      <td>N/A</td>\n",
       "    </tr>\n",
       "  </tbody>\n",
       "</table>\n",
       "</div>"
      ],
      "text/plain": [
       "   price  host_response_rate  host_acceptance_rate host_response_time\n",
       "0   20.0           96.885774             88.742004                N/A\n",
       "1  185.0          100.000000            100.000000     within an hour\n",
       "2  221.0           99.000000            100.000000     within an hour\n",
       "3  142.0          100.000000            100.000000     within an hour\n",
       "4  398.0           96.885774             88.742004                N/A"
      ]
     },
     "execution_count": 19,
     "metadata": {},
     "output_type": "execute_result"
    }
   ],
   "source": [
    "eda_dkn['host_response_time'] = data['host_response_time']\n",
    "eda_dkn.head()"
   ]
  },
  {
   "cell_type": "markdown",
   "id": "9e735c86",
   "metadata": {},
   "source": [
    "Now we will replace missing values in `host_response_time` with the most frequent value:"
   ]
  },
  {
   "cell_type": "code",
   "execution_count": 20,
   "id": "19c75b88",
   "metadata": {},
   "outputs": [
    {
     "data": {
      "text/html": [
       "<div>\n",
       "<style scoped>\n",
       "    .dataframe tbody tr th:only-of-type {\n",
       "        vertical-align: middle;\n",
       "    }\n",
       "\n",
       "    .dataframe tbody tr th {\n",
       "        vertical-align: top;\n",
       "    }\n",
       "\n",
       "    .dataframe thead th {\n",
       "        text-align: right;\n",
       "    }\n",
       "</style>\n",
       "<table border=\"1\" class=\"dataframe\">\n",
       "  <thead>\n",
       "    <tr style=\"text-align: right;\">\n",
       "      <th></th>\n",
       "      <th>price</th>\n",
       "      <th>host_response_rate</th>\n",
       "      <th>host_acceptance_rate</th>\n",
       "      <th>host_response_time</th>\n",
       "    </tr>\n",
       "  </thead>\n",
       "  <tbody>\n",
       "    <tr>\n",
       "      <th>0</th>\n",
       "      <td>20.0</td>\n",
       "      <td>96.885774</td>\n",
       "      <td>88.742004</td>\n",
       "      <td></td>\n",
       "    </tr>\n",
       "    <tr>\n",
       "      <th>1</th>\n",
       "      <td>185.0</td>\n",
       "      <td>100.000000</td>\n",
       "      <td>100.000000</td>\n",
       "      <td>within an hour</td>\n",
       "    </tr>\n",
       "    <tr>\n",
       "      <th>2</th>\n",
       "      <td>221.0</td>\n",
       "      <td>99.000000</td>\n",
       "      <td>100.000000</td>\n",
       "      <td>within an hour</td>\n",
       "    </tr>\n",
       "    <tr>\n",
       "      <th>3</th>\n",
       "      <td>142.0</td>\n",
       "      <td>100.000000</td>\n",
       "      <td>100.000000</td>\n",
       "      <td>within an hour</td>\n",
       "    </tr>\n",
       "    <tr>\n",
       "      <th>4</th>\n",
       "      <td>398.0</td>\n",
       "      <td>96.885774</td>\n",
       "      <td>88.742004</td>\n",
       "      <td></td>\n",
       "    </tr>\n",
       "  </tbody>\n",
       "</table>\n",
       "</div>"
      ],
      "text/plain": [
       "   price  host_response_rate  host_acceptance_rate host_response_time\n",
       "0   20.0           96.885774             88.742004                   \n",
       "1  185.0          100.000000            100.000000     within an hour\n",
       "2  221.0           99.000000            100.000000     within an hour\n",
       "3  142.0          100.000000            100.000000     within an hour\n",
       "4  398.0           96.885774             88.742004                   "
      ]
     },
     "execution_count": 20,
     "metadata": {},
     "output_type": "execute_result"
    }
   ],
   "source": [
    "eda_dkn['host_response_time'] = eda_dkn['host_response_time'].str.replace('N/A', '')\n",
    "eda_dkn.head()"
   ]
  },
  {
   "cell_type": "code",
   "execution_count": 21,
   "id": "d39357b5",
   "metadata": {},
   "outputs": [
    {
     "data": {
      "text/html": [
       "<div>\n",
       "<style scoped>\n",
       "    .dataframe tbody tr th:only-of-type {\n",
       "        vertical-align: middle;\n",
       "    }\n",
       "\n",
       "    .dataframe tbody tr th {\n",
       "        vertical-align: top;\n",
       "    }\n",
       "\n",
       "    .dataframe thead th {\n",
       "        text-align: right;\n",
       "    }\n",
       "</style>\n",
       "<table border=\"1\" class=\"dataframe\">\n",
       "  <thead>\n",
       "    <tr style=\"text-align: right;\">\n",
       "      <th></th>\n",
       "      <th>price</th>\n",
       "      <th>host_response_rate</th>\n",
       "      <th>host_acceptance_rate</th>\n",
       "      <th>host_response_time</th>\n",
       "    </tr>\n",
       "  </thead>\n",
       "  <tbody>\n",
       "    <tr>\n",
       "      <th>0</th>\n",
       "      <td>20.0</td>\n",
       "      <td>96.885774</td>\n",
       "      <td>88.742004</td>\n",
       "      <td></td>\n",
       "    </tr>\n",
       "    <tr>\n",
       "      <th>1</th>\n",
       "      <td>185.0</td>\n",
       "      <td>100.000000</td>\n",
       "      <td>100.000000</td>\n",
       "      <td>within an hour</td>\n",
       "    </tr>\n",
       "    <tr>\n",
       "      <th>2</th>\n",
       "      <td>221.0</td>\n",
       "      <td>99.000000</td>\n",
       "      <td>100.000000</td>\n",
       "      <td>within an hour</td>\n",
       "    </tr>\n",
       "    <tr>\n",
       "      <th>3</th>\n",
       "      <td>142.0</td>\n",
       "      <td>100.000000</td>\n",
       "      <td>100.000000</td>\n",
       "      <td>within an hour</td>\n",
       "    </tr>\n",
       "    <tr>\n",
       "      <th>4</th>\n",
       "      <td>398.0</td>\n",
       "      <td>96.885774</td>\n",
       "      <td>88.742004</td>\n",
       "      <td></td>\n",
       "    </tr>\n",
       "  </tbody>\n",
       "</table>\n",
       "</div>"
      ],
      "text/plain": [
       "   price  host_response_rate  host_acceptance_rate host_response_time\n",
       "0   20.0           96.885774             88.742004                   \n",
       "1  185.0          100.000000            100.000000     within an hour\n",
       "2  221.0           99.000000            100.000000     within an hour\n",
       "3  142.0          100.000000            100.000000     within an hour\n",
       "4  398.0           96.885774             88.742004                   "
      ]
     },
     "execution_count": 21,
     "metadata": {},
     "output_type": "execute_result"
    }
   ],
   "source": [
    "imputer3 = SimpleImputer(missing_values=None, strategy='constant', fill_value='within an hour')\n",
    "imputer3 = imputer3.fit(eda_dkn[['host_response_time']])\n",
    "eda_dkn[['host_response_time']] = imputer3.transform(eda_dkn[['host_response_time']])\n",
    "eda_dkn.head()"
   ]
  },
  {
   "cell_type": "markdown",
   "id": "40dd5b9f",
   "metadata": {},
   "source": [
    "We decided not to fill in the missing values in host_response_time, since it will bring up bias. "
   ]
  },
  {
   "cell_type": "markdown",
   "id": "0abbcbff-51da-4c08-9dd7-dc4e82a444d5",
   "metadata": {},
   "source": [
    "### Target Variable: Price of AirBnB Listing"
   ]
  },
  {
   "cell_type": "code",
   "execution_count": 22,
   "id": "0b2feb81-7edb-41b3-88e0-e71ca1955ec6",
   "metadata": {
    "tags": []
   },
   "outputs": [],
   "source": [
    "con=sqlite3.connect(db_path)\n",
    "cur = con.cursor()\n",
    "\n",
    "query = '''SELECT id, CAST(REPLACE(price, '$', '') AS FLOAT) as avg_price\n",
    "FROM listings;\n",
    "'''\n",
    "\n",
    "cur.execute(query)\n",
    "con.commit()\n",
    "\n",
    "price_arr = cur.fetchall()\n",
    "con.close()"
   ]
  },
  {
   "cell_type": "code",
   "execution_count": 23,
   "id": "7f9487f3-5cb8-4f0b-95f9-9e168a5952a5",
   "metadata": {
    "tags": []
   },
   "outputs": [],
   "source": [
    "cost_arr = []\n",
    "for pairs in price_arr:\n",
    "    cost_arr.append(pairs[1])"
   ]
  },
  {
   "cell_type": "code",
   "execution_count": 24,
   "id": "90ae61b6-7811-4a03-87ac-947926a2cd7d",
   "metadata": {
    "tags": []
   },
   "outputs": [
    {
     "data": {
      "image/png": "[encoded data removed]",
      "text/plain": [
       "<Figure size 1000x600 with 1 Axes>"
      ]
     },
     "metadata": {},
     "output_type": "display_data"
    }
   ],
   "source": [
    "figure = plt.figure(figsize=(10, 6)) # first element is width, second is height.\n",
    "\n",
    "axes = figure.add_subplot(1, 1, 1)\n",
    "axes.hist(cost_arr, color=\"dimgray\", bins=20)\n",
    "axes.set_ylabel( \"Count\")\n",
    "axes.set_xlabel( \"Cost ($)\")\n",
    "axes.set_title( \"Average Cost of an AirBnB Listing in Washington, DC\")\n",
    "\n",
    "plt.show()\n",
    "plt.close()"
   ]
  },
  {
   "cell_type": "markdown",
   "id": "2f07e333",
   "metadata": {},
   "source": [
    "## Single Variable EDA"
   ]
  },
  {
   "cell_type": "markdown",
   "id": "8f9ff1ce-1704-4cd8-83e6-d9f8ccf82bdc",
   "metadata": {},
   "source": [
    "### Neighborhood Groups\n",
    "\n",
    "The neighborhood group variable is a categorical value. In Washington D.C., there are [131 neighborhoods](https://en.wikipedia.org/wiki/Neighborhoods_in_Washington,_D.C.) that are unofficially defined. The AirBnB dataset compiles neighborhood names using the city's defined borders for the neighborhoods, along with the latitude and longitude of the property listing. "
   ]
  },
  {
   "cell_type": "code",
   "execution_count": 25,
   "id": "cc57bcf0-5921-4bf4-bcc6-e20f2cac1807",
   "metadata": {
    "tags": []
   },
   "outputs": [],
   "source": [
    "con=sqlite3.connect(db_path)\n",
    "cur = con.cursor()\n",
    "\n",
    "query = '''SELECT neighbourhood_cleansed, COUNT(*) as neighborhood_count\n",
    "FROM listings\n",
    "GROUP BY neighbourhood_cleansed\n",
    "ORDER BY neighborhood_count DESC;\n",
    "'''\n",
    "\n",
    "cur.execute(query)\n",
    "con.commit()\n",
    "\n",
    "neighborhood = cur.fetchall()\n",
    "con.close()\n",
    "\n",
    "# Convert to DataFrame so Pandas functions can be used for EDA\n",
    "nbhd = []\n",
    "n_count = []\n",
    "for n in neighborhood:\n",
    "    nbhd.append(n[0])\n",
    "    n_count.append(n[1])\n",
    "n_df = pd.DataFrame({'nbhd': nbhd,\n",
    "                    'n_count': n_count})"
   ]
  },
  {
   "cell_type": "code",
   "execution_count": 26,
   "id": "94c32042-156d-492b-a35b-9b665f15c4ca",
   "metadata": {},
   "outputs": [
    {
     "name": "stdout",
     "output_type": "stream",
     "text": [
      "     Count of AirBnB Listings, By Neighborhood\n",
      "╒═════════╤═══════════════════════════════════════════════════════════════════════════════════════════════════╤═════════╕\n",
      "│   Index │ Neighborhood Grouping                                                                             │   Count │\n",
      "╞═════════╪═══════════════════════════════════════════════════════════════════════════════════════════════════╪═════════╡\n",
      "│       0 │ Union Station, Stanton Park, Kingman Park                                                         │     808 │\n",
      "├─────────┼───────────────────────────────────────────────────────────────────────────────────────────────────┼─────────┤\n",
      "│       1 │ Capitol Hill, Lincoln Park                                                                        │     675 │\n",
      "├─────────┼───────────────────────────────────────────────────────────────────────────────────────────────────┼─────────┤\n",
      "│       2 │ Columbia Heights, Mt. Pleasant, Pleasant Plains, Park View                                        │     609 │\n",
      "├─────────┼───────────────────────────────────────────────────────────────────────────────────────────────────┼─────────┤\n",
      "│       3 │ Edgewood, Bloomingdale, Truxton Circle, Eckington                                                 │     603 │\n",
      "├─────────┼───────────────────────────────────────────────────────────────────────────────────────────────────┼─────────┤\n",
      "│       4 │ Dupont Circle, Connecticut Avenue/K Street                                                        │     562 │\n",
      "├─────────┼───────────────────────────────────────────────────────────────────────────────────────────────────┼─────────┤\n",
      "│       5 │ Shaw, Logan Circle                                                                                │     491 │\n",
      "├─────────┼───────────────────────────────────────────────────────────────────────────────────────────────────┼─────────┤\n",
      "│       6 │ Ivy City, Arboretum, Trinidad, Carver Langston                                                    │     426 │\n",
      "├─────────┼───────────────────────────────────────────────────────────────────────────────────────────────────┼─────────┤\n",
      "│       7 │ Brightwood Park, Crestwood, Petworth                                                              │     420 │\n",
      "├─────────┼───────────────────────────────────────────────────────────────────────────────────────────────────┼─────────┤\n",
      "│       8 │ Georgetown, Burleith/Hillandale                                                                   │     402 │\n",
      "├─────────┼───────────────────────────────────────────────────────────────────────────────────────────────────┼─────────┤\n",
      "│       9 │ Downtown, Chinatown, Penn Quarters, Mount Vernon Square, North Capitol Street                     │     314 │\n",
      "├─────────┼───────────────────────────────────────────────────────────────────────────────────────────────────┼─────────┤\n",
      "│      10 │ Howard University, Le Droit Park, Cardozo/Shaw                                                    │     297 │\n",
      "├─────────┼───────────────────────────────────────────────────────────────────────────────────────────────────┼─────────┤\n",
      "│      11 │ West End, Foggy Bottom, GWU                                                                       │     284 │\n",
      "├─────────┼───────────────────────────────────────────────────────────────────────────────────────────────────┼─────────┤\n",
      "│      12 │ Kalorama Heights, Adams Morgan, Lanier Heights                                                    │     245 │\n",
      "├─────────┼───────────────────────────────────────────────────────────────────────────────────────────────────┼─────────┤\n",
      "│      13 │ Takoma, Brightwood, Manor Park                                                                    │     211 │\n",
      "├─────────┼───────────────────────────────────────────────────────────────────────────────────────────────────┼─────────┤\n",
      "│      14 │ Spring Valley, Palisades, Wesley Heights, Foxhall Crescent, Foxhall Village, Georgetown Reservoir │     210 │\n",
      "├─────────┼───────────────────────────────────────────────────────────────────────────────────────────────────┼─────────┤\n",
      "│      15 │ Colonial Village, Shepherd Park, North Portal Estates                                             │     169 │\n",
      "├─────────┼───────────────────────────────────────────────────────────────────────────────────────────────────┼─────────┤\n",
      "│      16 │ Congress Heights, Bellevue, Washington Highlands                                                  │     157 │\n",
      "├─────────┼───────────────────────────────────────────────────────────────────────────────────────────────────┼─────────┤\n",
      "│      17 │ Lamont Riggs, Queens Chapel, Fort Totten, Pleasant Hill                                           │     145 │\n",
      "├─────────┼───────────────────────────────────────────────────────────────────────────────────────────────────┼─────────┤\n",
      "│      18 │ Deanwood, Burrville, Grant Park, Lincoln Heights, Fairmont Heights                                │     143 │\n",
      "├─────────┼───────────────────────────────────────────────────────────────────────────────────────────────────┼─────────┤\n",
      "│      19 │ Brookland, Brentwood, Langdon                                                                     │     138 │\n",
      "├─────────┼───────────────────────────────────────────────────────────────────────────────────────────────────┼─────────┤\n",
      "│      20 │ Southwest Employment Area, Southwest/Waterfront, Fort McNair, Buzzard Point                       │     132 │\n",
      "├─────────┼───────────────────────────────────────────────────────────────────────────────────────────────────┼─────────┤\n",
      "│      21 │ Capitol View, Marshall Heights, Benning Heights                                                   │     120 │\n",
      "├─────────┼───────────────────────────────────────────────────────────────────────────────────────────────────┼─────────┤\n",
      "│      22 │ Twining, Fairlawn, Randle Highlands, Penn Branch, Fort Davis Park, Fort Dupont                    │     113 │\n",
      "├─────────┼───────────────────────────────────────────────────────────────────────────────────────────────────┼─────────┤\n",
      "│      23 │ Friendship Heights, American University Park, Tenleytown                                          │     106 │\n",
      "├─────────┼───────────────────────────────────────────────────────────────────────────────────────────────────┼─────────┤\n",
      "│      24 │ Near Southeast, Navy Yard                                                                         │     104 │\n",
      "├─────────┼───────────────────────────────────────────────────────────────────────────────────────────────────┼─────────┤\n",
      "│      25 │ North Michigan Park, Michigan Park, University Heights                                            │      99 │\n",
      "├─────────┼───────────────────────────────────────────────────────────────────────────────────────────────────┼─────────┤\n",
      "│      26 │ Hawthorne, Barnaby Woods, Chevy Chase                                                             │      75 │\n",
      "├─────────┼───────────────────────────────────────────────────────────────────────────────────────────────────┼─────────┤\n",
      "│      27 │ Cathedral Heights, McLean Gardens, Glover Park                                                    │      74 │\n",
      "├─────────┼───────────────────────────────────────────────────────────────────────────────────────────────────┼─────────┤\n",
      "│      28 │ Woodridge, Fort Lincoln, Gateway                                                                  │      70 │\n",
      "├─────────┼───────────────────────────────────────────────────────────────────────────────────────────────────┼─────────┤\n",
      "│      29 │ Cleveland Park, Woodley Park, Massachusetts Avenue Heights, Woodland-Normanstone Terrace          │      70 │\n",
      "├─────────┼───────────────────────────────────────────────────────────────────────────────────────────────────┼─────────┤\n",
      "│      30 │ River Terrace, Benning, Greenway, Dupont Park                                                     │      66 │\n",
      "├─────────┼───────────────────────────────────────────────────────────────────────────────────────────────────┼─────────┤\n",
      "│      31 │ Historic Anacostia                                                                                │      57 │\n",
      "├─────────┼───────────────────────────────────────────────────────────────────────────────────────────────────┼─────────┤\n",
      "│      32 │ Mayfair, Hillbrook, Mahaning Heights                                                              │      54 │\n",
      "├─────────┼───────────────────────────────────────────────────────────────────────────────────────────────────┼─────────┤\n",
      "│      33 │ Sheridan, Barry Farm, Buena Vista                                                                 │      46 │\n",
      "├─────────┼───────────────────────────────────────────────────────────────────────────────────────────────────┼─────────┤\n",
      "│      34 │ North Cleveland Park, Forest Hills, Van Ness                                                      │      41 │\n",
      "├─────────┼───────────────────────────────────────────────────────────────────────────────────────────────────┼─────────┤\n",
      "│      35 │ Douglas, Shipley Terrace                                                                          │      38 │\n",
      "├─────────┼───────────────────────────────────────────────────────────────────────────────────────────────────┼─────────┤\n",
      "│      36 │ Fairfax Village, Naylor Gardens, Hillcrest, Summit Park                                           │      24 │\n",
      "├─────────┼───────────────────────────────────────────────────────────────────────────────────────────────────┼─────────┤\n",
      "│      37 │ Eastland Gardens, Kenilworth                                                                      │      18 │\n",
      "├─────────┼───────────────────────────────────────────────────────────────────────────────────────────────────┼─────────┤\n",
      "│      38 │ Woodland/Fort Stanton, Garfield Heights, Knox Hill                                                │      12 │\n",
      "╘═════════╧═══════════════════════════════════════════════════════════════════════════════════════════════════╧═════════╛\n",
      "\n",
      "\n"
     ]
    }
   ],
   "source": [
    "n_df.sort_values(by='n_count', ascending=False)\n",
    "t = tabulate(n_df, \n",
    "             headers=('Index', 'Neighborhood Grouping', 'Count'),\n",
    "            tablefmt='fancy_grid')\n",
    "print('     Count of AirBnB Listings, By Neighborhood')\n",
    "print(t)\n",
    "print('\\n')"
   ]
  },
  {
   "cell_type": "markdown",
   "id": "c04a779f-b703-4f5d-95bd-7c67db121ebc",
   "metadata": {},
   "source": [
    "In this dataset, the neighborhoods are grouped based on proximity. There are 39 unique neighborhood groupings, reduced from the 131 individual neighborhoods in Washington, D.C. The neighborhood groupings with the greatest number of listings are: \n",
    "1. Capitol Hill, Union Park (561 listings)\n",
    "2. Union Station, Stanton Park, Kingman Park (550 listings)\n",
    "3. Columbia Heights, Mt. Pleasant, Pleasant Plains, Park View (456 listings)\n",
    "\n",
    "The Captiol Hill neighborhood is one of the most densely populated in Washington D.C $^{[1]}$. The Union Station neighborhood is near Washington Union Station, which is Amtrack's second-busiest station $^{[2]}$. The Columbia Heights and Mt. Pleasant areas are located close to a major University, and contains many restaurants $^{[3]}$.\n",
    "\n",
    "*Sources*\n",
    "1. https://en.wikipedia.org/wiki/Capitol_Hill\n",
    "2. https://en.wikipedia.org/wiki/Washington_Union_Station\n",
    "3. https://en.wikipedia.org/wiki/Columbia_Heights_(Washington,_D.C.)"
   ]
  },
  {
   "cell_type": "markdown",
   "id": "75d57524-97cd-4f44-b0a0-2234247825b1",
   "metadata": {},
   "source": [
    "### Neighborhood Groups - Tax Assessed Property Values Dataset\n",
    "\n",
    "The secondary dataset on tax-assessed property values contains neighborhood names. The same neighborhood grouping were used in both the primary and secondary dataset. "
   ]
  },
  {
   "cell_type": "markdown",
   "id": "4723035d",
   "metadata": {},
   "source": [
    "For the secondary datasource, any properties with a tax-assessed value of greater than 5 million USD, or less than 50 thousand USD, will be excluded. The tax-assessed value can be considered to be similar to the nightly cost of an AirBnB. Comparing the tax-assessed value by neighborhood could indicate which neighborhoods of DC are more expensive, and may also contain more expensive AirBnb listings."
   ]
  },
  {
   "cell_type": "code",
   "execution_count": 27,
   "id": "91079d9c-6111-4f0e-9b2f-c48345fc7c73",
   "metadata": {},
   "outputs": [],
   "source": [
    "con=sqlite3.connect(db_path)\n",
    "cur = con.cursor()\n",
    "\n",
    "query = '''SELECT NBHDNAME, COUNT(*) as neighborhood_count\n",
    "FROM property_info\n",
    "WHERE PROPTYPE LIKE '%Residential%'\n",
    "GROUP BY NBHDNAME\n",
    "ORDER BY neighborhood_count DESC;\n",
    "'''\n",
    "\n",
    "cur.execute(query)\n",
    "con.commit()\n",
    "prop_info = cur.fetchall()"
   ]
  },
  {
   "cell_type": "code",
   "execution_count": 28,
   "id": "71e593d1-aa2d-463b-9f27-e54469431255",
   "metadata": {},
   "outputs": [
    {
     "name": "stdout",
     "output_type": "stream",
     "text": [
      "     Number of Properties In Neighborhoods\n",
      "╒═════════╤═══════════════════════════════════════════════════════════════════════════════════════════════════╤═════════╕\n",
      "│   Index │ Neighborhood Grouping                                                                             │   Count │\n",
      "╞═════════╪═══════════════════════════════════════════════════════════════════════════════════════════════════╪═════════╡\n",
      "│       0 │ Capitol Hill, Lincoln Park                                                                        │   21583 │\n",
      "├─────────┼───────────────────────────────────────────────────────────────────────────────────────────────────┼─────────┤\n",
      "│       1 │ Dupont Circle, Connecticut Avenue/K Street                                                        │   20935 │\n",
      "├─────────┼───────────────────────────────────────────────────────────────────────────────────────────────────┼─────────┤\n",
      "│       2 │ Columbia Heights, Mt. Pleasant, Pleasant Plains, Park View                                        │   17102 │\n",
      "├─────────┼───────────────────────────────────────────────────────────────────────────────────────────────────┼─────────┤\n",
      "│       3 │ Brightwood Park, Crestwood, Petworth                                                              │   15094 │\n",
      "├─────────┼───────────────────────────────────────────────────────────────────────────────────────────────────┼─────────┤\n",
      "│       4 │ Brookland, Brentwood, Langdon                                                                     │    8451 │\n",
      "├─────────┼───────────────────────────────────────────────────────────────────────────────────────────────────┼─────────┤\n",
      "│       5 │ Twining, Fairlawn, Randle Highlands, Penn Branch, Fort Davis Park, Fort Dupont                    │    7609 │\n",
      "├─────────┼───────────────────────────────────────────────────────────────────────────────────────────────────┼─────────┤\n",
      "│       6 │ Hawthorne, Barnaby Woods, Chevy Chase                                                             │    6440 │\n",
      "├─────────┼───────────────────────────────────────────────────────────────────────────────────────────────────┼─────────┤\n",
      "│       7 │ Deanwood, Burrville, Grant Park, Lincoln Heights, Fairmont Heights                                │    6423 │\n",
      "├─────────┼───────────────────────────────────────────────────────────────────────────────────────────────────┼─────────┤\n",
      "│       8 │ Mayfair, Hillbrook, Mahaning Heights                                                              │    6366 │\n",
      "├─────────┼───────────────────────────────────────────────────────────────────────────────────────────────────┼─────────┤\n",
      "│       9 │ Spring Valley, Palisades, Wesley Heights, Foxhall Crescent, Foxhall Village, Georgetown Reservoir │    6293 │\n",
      "├─────────┼───────────────────────────────────────────────────────────────────────────────────────────────────┼─────────┤\n",
      "│      10 │ Congress Heights, Bellevue, Washington Highlands                                                  │    5520 │\n",
      "├─────────┼───────────────────────────────────────────────────────────────────────────────────────────────────┼─────────┤\n",
      "│      11 │ Georgetown, Burleith/Hillandale                                                                   │    5462 │\n",
      "├─────────┼───────────────────────────────────────────────────────────────────────────────────────────────────┼─────────┤\n",
      "│      12 │ Woodridge, Fort Lincoln, Gateway                                                                  │    4145 │\n",
      "├─────────┼───────────────────────────────────────────────────────────────────────────────────────────────────┼─────────┤\n",
      "│      13 │ Fairfax Village, Naylor Gardens, Hillcrest, Summit Park                                           │    4137 │\n",
      "├─────────┼───────────────────────────────────────────────────────────────────────────────────────────────────┼─────────┤\n",
      "│      14 │ North Cleveland Park, Forest Hills, Van Ness                                                      │    4044 │\n",
      "├─────────┼───────────────────────────────────────────────────────────────────────────────────────────────────┼─────────┤\n",
      "│      15 │ Ivy City, Arboretum, Trinidad, Carver Langston                                                    │    3937 │\n",
      "├─────────┼───────────────────────────────────────────────────────────────────────────────────────────────────┼─────────┤\n",
      "│      16 │ Kalorama Heights, Adams Morgan, Lanier Heights                                                    │    3804 │\n",
      "├─────────┼───────────────────────────────────────────────────────────────────────────────────────────────────┼─────────┤\n",
      "│      17 │ Cleveland Park, Woodley Park, Massachusetts Avenue Heights, Woodland-Normanstone Terrace          │    3639 │\n",
      "├─────────┼───────────────────────────────────────────────────────────────────────────────────────────────────┼─────────┤\n",
      "│      18 │ Friendship Heights, American University Park, Tenleytown                                          │    3629 │\n",
      "├─────────┼───────────────────────────────────────────────────────────────────────────────────────────────────┼─────────┤\n",
      "│      19 │ Southwest Employment Area, Southwest/Waterfront, Fort McNair, Buzzard Point                       │    3446 │\n",
      "├─────────┼───────────────────────────────────────────────────────────────────────────────────────────────────┼─────────┤\n",
      "│      20 │ Edgewood, Bloomingdale, Truxton Circle, Eckington                                                 │    3091 │\n",
      "├─────────┼───────────────────────────────────────────────────────────────────────────────────────────────────┼─────────┤\n",
      "│      21 │ Lamont Riggs, Queens Chapel, Fort Totten, Pleasant Hill                                           │    2907 │\n",
      "├─────────┼───────────────────────────────────────────────────────────────────────────────────────────────────┼─────────┤\n",
      "│      22 │ Cathedral Heights, McLean Gardens, Glover Park                                                    │    2734 │\n",
      "├─────────┼───────────────────────────────────────────────────────────────────────────────────────────────────┼─────────┤\n",
      "│      23 │ Historic Anacostia                                                                                │    2125 │\n",
      "├─────────┼───────────────────────────────────────────────────────────────────────────────────────────────────┼─────────┤\n",
      "│      24 │ Capitol View, Marshall Heights, Benning Heights                                                   │    2095 │\n",
      "├─────────┼───────────────────────────────────────────────────────────────────────────────────────────────────┼─────────┤\n",
      "│      25 │ West End, Foggy Bottom, GWU                                                                       │    2020 │\n",
      "├─────────┼───────────────────────────────────────────────────────────────────────────────────────────────────┼─────────┤\n",
      "│      26 │ Howard University, Le Droit Park, Cardozo/Shaw                                                    │    1994 │\n",
      "├─────────┼───────────────────────────────────────────────────────────────────────────────────────────────────┼─────────┤\n",
      "│      27 │ Colonial Village, Shepherd Park, North Portal Estates                                             │    1787 │\n",
      "├─────────┼───────────────────────────────────────────────────────────────────────────────────────────────────┼─────────┤\n",
      "│      28 │ Union Station, Stanton Park, Kingman Park                                                         │    1622 │\n",
      "├─────────┼───────────────────────────────────────────────────────────────────────────────────────────────────┼─────────┤\n",
      "│      29 │ Woodland/Fort Stanton, Garfield Heights, Knox Hill                                                │    1419 │\n",
      "├─────────┼───────────────────────────────────────────────────────────────────────────────────────────────────┼─────────┤\n",
      "│      30 │ North Michigan Park, Michigan Park, University Heights                                            │     914 │\n",
      "├─────────┼───────────────────────────────────────────────────────────────────────────────────────────────────┼─────────┤\n",
      "│      31 │ Sheridan, Barry Farm, Buena Vista                                                                 │     912 │\n",
      "├─────────┼───────────────────────────────────────────────────────────────────────────────────────────────────┼─────────┤\n",
      "│      32 │ Takoma, Brightwood, Manor Park                                                                    │     894 │\n",
      "├─────────┼───────────────────────────────────────────────────────────────────────────────────────────────────┼─────────┤\n",
      "│      33 │ Near Southeast, Navy Yard                                                                         │     153 │\n",
      "╘═════════╧═══════════════════════════════════════════════════════════════════════════════════════════════════╧═════════╛\n",
      "\n",
      "\n"
     ]
    }
   ],
   "source": [
    "nbhd = []\n",
    "count = []\n",
    "for vals in prop_info:\n",
    "    nbhd.append(vals[0])\n",
    "    count.append(vals[1])\n",
    "    \n",
    "prop_df = pd.DataFrame({'nbhd': nbhd,\n",
    "                       'count': count})\n",
    "\n",
    "prop_df.sort_values(by='count', ascending=False)\n",
    "t = tabulate(prop_df, \n",
    "             headers=('Index', 'Neighborhood Grouping', 'Count'),\n",
    "            tablefmt='fancy_grid')\n",
    "print('     Number of Properties In Neighborhoods')\n",
    "print(t)\n",
    "print('\\n')"
   ]
  },
  {
   "cell_type": "markdown",
   "id": "d6b7704f-4a86-43f5-a4c2-d5ab9af3c163",
   "metadata": {},
   "source": [
    "The three neighborhoods with the highest number of residential properties are:\n",
    "1. Capitol Hill, Lincoln Park   \n",
    "2. Dupont Circle, Connecticut Avenue/K Street\n",
    "3. Columbia Heights, Mt. Pleasant, Pleasant Plains, Park View  \n",
    "\n",
    "The \"Capitol Hill, Lincoln Park\" and \"Columbia Heights, Mt. Pleasant, Pleasant Plains, Park View\" neighborhood groupings fall in the top three, based on count of properties, for both datasets. In the property assessed dataset, the \"Union Station, Staton Park, Kingman Park\" grouping ranks 29th by property count, while in the AirBnB data, it ranked second by count. The \"Dupont Circle, Connecticut Avenue/K Street\" grouping has the fourth highest count of AirBnB listings, and ranks second, by count, in the property assessed values.\n",
    "\n",
    "The property assessed values dataset also includes entire apartment buildings. It may be the case that Union Station contains more group living buildings, which would limit the overall count of individual properties in the secondary dataset, since an entire apartment building may only count as one property. "
   ]
  },
  {
   "cell_type": "markdown",
   "id": "2010ce2b-365f-4906-86c7-c736c6bf11fe",
   "metadata": {},
   "source": [
    "### Number of Bathrooms\n",
    "\n",
    "The number of bathrooms in an AirBnB is a categorical value, since AirBnbs can have \"shared\" or \"private\" bathrooms. Additionally, there may be \"half-baths\" as well. "
   ]
  },
  {
   "cell_type": "code",
   "execution_count": 29,
   "id": "a3fea0f2-fce6-49c2-b804-ffcf91b0a050",
   "metadata": {
    "tags": []
   },
   "outputs": [],
   "source": [
    "con=sqlite3.connect(db_path)\n",
    "cur = con.cursor()\n",
    "\n",
    "query = '''SELECT bathrooms_text, COUNT(*) as num_bath\n",
    "FROM listings\n",
    "GROUP BY bathrooms_text\n",
    "ORDER BY num_bath DESC;\n",
    "'''\n",
    "\n",
    "cur.execute(query)\n",
    "con.commit()\n",
    "\n",
    "bathroom = cur.fetchall()\n",
    "con.close()"
   ]
  },
  {
   "cell_type": "code",
   "execution_count": 30,
   "id": "7f646d70-b27f-4c5d-a5ea-68a5266d4549",
   "metadata": {
    "tags": []
   },
   "outputs": [],
   "source": [
    "bath_type = []\n",
    "bath_count = []\n",
    "for vals in bathroom:\n",
    "    bath_type.append(vals[0])\n",
    "    bath_count.append(vals[1])\n",
    "    \n",
    "bath_df = pd.DataFrame({'bath_type': bath_type,\n",
    "                       'count': bath_count})"
   ]
  },
  {
   "cell_type": "code",
   "execution_count": 31,
   "id": "630848c1-2ffd-4061-95ad-96c5aafb3ad7",
   "metadata": {
    "tags": []
   },
   "outputs": [
    {
     "name": "stdout",
     "output_type": "stream",
     "text": [
      "     Counts of Bathroom Types In AirBnb\n",
      "╒═══════════════════╤═════════╕\n",
      "│ Bathroom Type     │   Count │\n",
      "╞═══════════════════╪═════════╡\n",
      "│ 1 bath            │    4684 │\n",
      "├───────────────────┼─────────┤\n",
      "│ 2 baths           │     895 │\n",
      "├───────────────────┼─────────┤\n",
      "│ 1 shared bath     │     642 │\n",
      "├───────────────────┼─────────┤\n",
      "│ 1 private bath    │     558 │\n",
      "├───────────────────┼─────────┤\n",
      "│ 2.5 baths         │     410 │\n",
      "├───────────────────┼─────────┤\n",
      "│ 1.5 baths         │     396 │\n",
      "├───────────────────┼─────────┤\n",
      "│ 0 shared baths    │     186 │\n",
      "├───────────────────┼─────────┤\n",
      "│ 3.5 baths         │     185 │\n",
      "├───────────────────┼─────────┤\n",
      "│ 3 baths           │     160 │\n",
      "├───────────────────┼─────────┤\n",
      "│ 1.5 shared baths  │     139 │\n",
      "├───────────────────┼─────────┤\n",
      "│ 2 shared baths    │     129 │\n",
      "├───────────────────┼─────────┤\n",
      "│ 2.5 shared baths  │      53 │\n",
      "├───────────────────┼─────────┤\n",
      "│ 4 baths           │      51 │\n",
      "├───────────────────┼─────────┤\n",
      "│ 4.5 baths         │      32 │\n",
      "├───────────────────┼─────────┤\n",
      "│ 3 shared baths    │      27 │\n",
      "├───────────────────┼─────────┤\n",
      "│ 3.5 shared baths  │      15 │\n",
      "├───────────────────┼─────────┤\n",
      "│ 6 shared baths    │      11 │\n",
      "├───────────────────┼─────────┤\n",
      "│ 5 baths           │      10 │\n",
      "├───────────────────┼─────────┤\n",
      "│ 4.5 shared baths  │       9 │\n",
      "├───────────────────┼─────────┤\n",
      "│                   │       8 │\n",
      "├───────────────────┼─────────┤\n",
      "│ 5.5 baths         │       6 │\n",
      "├───────────────────┼─────────┤\n",
      "│ 5 shared baths    │       6 │\n",
      "├───────────────────┼─────────┤\n",
      "│ 0 baths           │       3 │\n",
      "├───────────────────┼─────────┤\n",
      "│ 5.5 shared baths  │       2 │\n",
      "├───────────────────┼─────────┤\n",
      "│ 11 shared baths   │       2 │\n",
      "├───────────────────┼─────────┤\n",
      "│ Shared half-bath  │       1 │\n",
      "├───────────────────┼─────────┤\n",
      "│ Private half-bath │       1 │\n",
      "├───────────────────┼─────────┤\n",
      "│ Half-bath         │       1 │\n",
      "├───────────────────┼─────────┤\n",
      "│ 8 shared baths    │       1 │\n",
      "├───────────────────┼─────────┤\n",
      "│ 7.5 baths         │       1 │\n",
      "├───────────────────┼─────────┤\n",
      "│ 7 baths           │       1 │\n",
      "├───────────────────┼─────────┤\n",
      "│ 6 baths           │       1 │\n",
      "├───────────────────┼─────────┤\n",
      "│ 4 shared baths    │       1 │\n",
      "├───────────────────┼─────────┤\n",
      "│ 15 baths          │       1 │\n",
      "╘═══════════════════╧═════════╛\n",
      "\n",
      "\n"
     ]
    }
   ],
   "source": [
    "bath_df.sort_values(by='count', ascending=False)\n",
    "bath_df.set_index('bath_type', inplace=True)\n",
    "t = tabulate(bath_df, \n",
    "             headers=('Bathroom Type', 'Count'),\n",
    "            tablefmt='fancy_grid')\n",
    "print('     Counts of Bathroom Types In AirBnb')\n",
    "print(t)\n",
    "print('\\n')"
   ]
  },
  {
   "cell_type": "markdown",
   "id": "650f7179-931f-428b-a4b6-c0c00645d8e8",
   "metadata": {
    "tags": []
   },
   "source": [
    "The most common bathroom type for Airbnb is \"1 bath\". Some listings don't have bath populated: these can be filled with the most common bathroom type, which is one bath. It may make sense to reduce the number of \"types of bath\" categories. This \"bathroom_dict\" variable can be used later in pairwise analysis."
   ]
  },
  {
   "cell_type": "code",
   "execution_count": null,
   "id": "00cd28f7-4478-41a5-b234-27928a605a3d",
   "metadata": {
    "tags": []
   },
   "outputs": [],
   "source": [
    "'''\n",
    "Limit the number of bath categories\n",
    "'''\n",
    "bathroom_dict = {}\n",
    "bathroom_mapping = {}\n",
    "\n",
    "def getNewBathroomCat(s):\n",
    "    str_elements = s.split(' ')\n",
    "    bath_cat = ''\n",
    "    if str_elements[0] == '':\n",
    "        bath_cat = '1 Private'\n",
    "    elif str_elements[0] == 'Half-bath':\n",
    "        bath_cat = '1 Private'\n",
    "    elif str_elements[0] == '0':\n",
    "        bath_cat = '1 Private'\n",
    "    else:\n",
    "        try:\n",
    "            num_bath = float(str_elements[0])\n",
    "            if num_bath >= 3:\n",
    "                bath_cat = '3+'\n",
    "            elif num_bath >= 2:\n",
    "                bath_cat = '2'\n",
    "            else:\n",
    "                bath_cat = '1'\n",
    "            if str_elements[1] == 'shared':\n",
    "                bath_cat += ' Shared'\n",
    "            else:\n",
    "                bath_cat += ' Private'\n",
    "        except:\n",
    "            if str_elements[0] == 'Private':\n",
    "                bath_cat = '1 Private'\n",
    "            elif str_elements[0] == 'Shared':\n",
    "                bath_cat = '1 Shared'\n",
    "    return bath_cat\n",
    "    \n",
    "for ind in range(0, len(bath_type)):\n",
    "    s = bath_type[ind]\n",
    "    c = bath_count[ind]\n",
    "    \n",
    "    b_type = getNewBathroomCat(s)\n",
    "    bathroom_mapping[s] = b_type\n",
    "\n",
    "    if b_type not in bathroom_dict:\n",
    "        bathroom_dict[b_type] = c\n",
    "    else:\n",
    "        bathroom_dict[b_type] +=c"
   ]
  },
  {
   "cell_type": "code",
   "execution_count": null,
   "id": "f37b4ce7-f90f-4738-aa0e-3d0b2d3082e3",
   "metadata": {
    "tags": []
   },
   "outputs": [],
   "source": [
    "lim_bath_df = pd.DataFrame({'bath_type': bathroom_dict.keys(), 'count': bathroom_dict.values()})\n",
    "\n",
    "lim_bath_df.sort_values(by='count', ascending=False)\n",
    "lim_bath_df.set_index('bath_type', inplace=True)\n",
    "t = tabulate(lim_bath_df, \n",
    "             headers=('Bathroom Type', 'Count'),\n",
    "            tablefmt='fancy_grid')\n",
    "print('     Counts of Bathroom Types In AirBnb')\n",
    "print(t)\n",
    "print('\\n')"
   ]
  },
  {
   "cell_type": "markdown",
   "id": "6bbbc812-8575-4acc-96b2-eac172780d77",
   "metadata": {},
   "source": [
    "### \"Is Superhost\" query\n",
    "\n",
    "Some hosts on AirBnB are marked as Superhosts. This is a specific Airbnb program that \"celebrates and rewards Airbnb's top-rated and most experienced hosts\". These hosts must meet the following critera:\n",
    "- 4.8+ overall rating\n",
    "- 10+ stays\n",
    "- <1% cancellation rate\n",
    "- 90% response rate\n",
    "\n",
    "This is a categorical, boolean value, with the host either being labeled as a superhost, or not being labeled as a superhost.\n",
    "\n",
    "*Sources:*\n",
    "1. https://www.airbnb.com/d/superhost"
   ]
  },
  {
   "cell_type": "code",
   "execution_count": null,
   "id": "d64c067f-be90-4630-8a6f-79ec7867d96e",
   "metadata": {
    "tags": []
   },
   "outputs": [],
   "source": [
    "con=sqlite3.connect(db_path)\n",
    "cur = con.cursor()\n",
    "\n",
    "query = '''SELECT host_is_superhost, COUNT(*) as num_superhosts\n",
    "FROM listings\n",
    "GROUP BY host_is_superhost\n",
    "ORDER BY num_superhosts DESC;\n",
    "'''\n",
    "\n",
    "cur.execute(query)\n",
    "con.commit()\n",
    "\n",
    "superhost = cur.fetchall()\n",
    "\n",
    "con.close()"
   ]
  },
  {
   "cell_type": "code",
   "execution_count": null,
   "id": "e8e35d30-3f3d-4268-85e9-c662ce2a9601",
   "metadata": {},
   "outputs": [],
   "source": [
    "s_status = []\n",
    "count = []\n",
    "for vals in superhost:\n",
    "    s_status.append(vals[0])\n",
    "    count.append(vals[1])\n",
    "    \n",
    "super_df = pd.DataFrame({'s_status': s_status,\n",
    "                       'count': count})\n",
    "\n",
    "super_df.set_index('s_status', inplace=True)\n",
    "t = tabulate(super_df, \n",
    "             headers=('Is Superhost', 'Count'),\n",
    "            tablefmt='fancy_grid')\n",
    "print('     Number of Properties In Neighborhoods')\n",
    "print(t)\n",
    "print('\\n')"
   ]
  },
  {
   "cell_type": "markdown",
   "id": "329c7836-d272-4100-82db-4892bc23ff53",
   "metadata": {},
   "source": [
    "In the AirBnB listings, 4496 of the listings have hosts that are not superhosts. This is about 70% of all listings. The other 30%, or 1972 listings, are labeled as superhosts. Five of the points in the dataset are not labeled, and thuse should be treated as `is_superhost=False`."
   ]
  },
  {
   "cell_type": "markdown",
   "id": "00da1b07",
   "metadata": {},
   "source": [
    "### Bedrooms\n",
    "The bedrooms variable is a numerical integer value. The `beds` variable represents the number of beds in the AirBnb. More beds generally corresponds to a higher capacity for overnight guests."
   ]
  },
  {
   "cell_type": "code",
   "execution_count": null,
   "id": "e2f2cc40",
   "metadata": {},
   "outputs": [],
   "source": [
    "con=sqlite3.connect(db_path)\n",
    "cur = con.cursor()\n",
    "\n",
    "query = '''SELECT id, CAST(bedrooms AS INT), CAST(beds AS INT), CAST(accommodates AS INT), CAST(REPLACE(price, '$', '') AS FLOAT)\n",
    "FROM listings;'''\n",
    "\n",
    "cur.execute(query)\n",
    "con.commit()\n",
    "\n",
    "b_arr = cur.fetchall()"
   ]
  },
  {
   "cell_type": "code",
   "execution_count": null,
   "id": "6c220328",
   "metadata": {},
   "outputs": [],
   "source": [
    "b_arr[0]"
   ]
  },
  {
   "cell_type": "markdown",
   "id": "3edbfc9b",
   "metadata": {},
   "source": [
    "The SQL query returns a list of tuple objects, with:\n",
    "- `b_arr[0]`: listing_id\n",
    "- `b_arr[1]`: bedrooms\n",
    "- `b_arr[2]`: beds\n",
    "- `b_arr[3]`: accommodates\n",
    "- `b_arr[4]`: price"
   ]
  },
  {
   "cell_type": "code",
   "execution_count": null,
   "id": "2bd91e48",
   "metadata": {},
   "outputs": [],
   "source": [
    "listing_id = []\n",
    "bedrooms = []\n",
    "beds = []\n",
    "accommodates = []\n",
    "price = []\n",
    "for b in b_arr:\n",
    "    listing_id.append(b[0])\n",
    "    bedrooms.append(b[1])\n",
    "    beds.append(b[2])\n",
    "    accommodates.append(b[3])\n",
    "    price.append(b[4])\n",
    "    \n",
    "b_df = pd.DataFrame({'listing_id': listing_id,\n",
    "                    'bedrooms': bedrooms,\n",
    "                    'beds': beds,\n",
    "                    'accommodates': accommodates,\n",
    "                    'price': price})\n",
    "\n",
    "b_df.info()"
   ]
  },
  {
   "cell_type": "markdown",
   "id": "d2d00df3",
   "metadata": {},
   "source": [
    "The variables `beds`, `bedrooms`, and `accommodates` are all integer values. The `price` variable is a float value. "
   ]
  },
  {
   "cell_type": "code",
   "execution_count": null,
   "id": "921fec1e",
   "metadata": {},
   "outputs": [],
   "source": [
    "b_df.beds.describe()"
   ]
  },
  {
   "cell_type": "markdown",
   "id": "47149862",
   "metadata": {},
   "source": [
    "75% of AirBnB listings in the DC area contain two or fewer bedrooms. There is one AirBnB that has a maximum number of bedrooms of 15. "
   ]
  },
  {
   "cell_type": "code",
   "execution_count": null,
   "id": "a988742c",
   "metadata": {},
   "outputs": [],
   "source": [
    "h=1\n",
    "mn = int(b_df[\"bedrooms\"].min())\n",
    "mx = int(b_df[\"bedrooms\"].max())\n",
    "bins = [i for i in range( mn, mx, h)]\n",
    "\n",
    "figure = plt.figure(figsize=(10, 6))\n",
    "\n",
    "axes = figure.add_subplot(1, 1, 1)\n",
    "axes.hist(b_df[\"bedrooms\"],bins=bins, histtype='bar', color=\"DimGray\", ec='black')\n",
    "axes.set_title(\"Bedrooms distribution\")\n",
    "axes.set_xlabel(\"Number of Bedrooms\")\n",
    "\n",
    "plt.show()\n",
    "plt.close()"
   ]
  },
  {
   "cell_type": "markdown",
   "id": "d877e13b",
   "metadata": {},
   "source": [
    "The distribution of the number of bedrooms appears to be right-skewed. This makes sense, as one or two bedrooms may be common for most homes, with 3 or more bedrooms being less commons in homes, especially in a densely-populated area."
   ]
  },
  {
   "cell_type": "markdown",
   "id": "4a5ff68b",
   "metadata": {},
   "source": [
    "### Accommodates\n",
    "The `accommodates` variable is a numerical integer value. The `accommodates` variable represents the number of beds in the AirBnb. More beds generally corresponds to a higher capacity for overnight guests."
   ]
  },
  {
   "cell_type": "code",
   "execution_count": null,
   "id": "fabc8473",
   "metadata": {},
   "outputs": [],
   "source": [
    "b_df.accommodates.describe()"
   ]
  },
  {
   "cell_type": "markdown",
   "id": "682c1c77",
   "metadata": {},
   "source": [
    "75% of AirBnB listings in the DC area are capable of accomodating 4 people. This unsurprisingly folows a similar pattern to both the `beds` and `bedroom` variables."
   ]
  },
  {
   "cell_type": "code",
   "execution_count": null,
   "id": "5fec990e",
   "metadata": {},
   "outputs": [],
   "source": [
    "h=1\n",
    "mn = int(b_df[\"accommodates\"].min())\n",
    "mx = int(b_df[\"accommodates\"].max())\n",
    "bins = [i for i in range( mn, mx, h)]\n",
    "\n",
    "figure = plt.figure(figsize=(10, 6))\n",
    "\n",
    "axes = figure.add_subplot(1, 1, 1)\n",
    "axes.hist(b_df[\"accommodates\"],bins=bins, histtype='bar', color=\"DimGray\", ec='black')\n",
    "axes.set_title(\"Accommodation distribution\")\n",
    "axes.set_xlabel(\"Number of Guests Accommodated\")\n",
    "\n",
    "plt.show()\n",
    "plt.close()"
   ]
  },
  {
   "cell_type": "markdown",
   "id": "e075d771",
   "metadata": {},
   "source": [
    "The data are once again right-skewed. Even number `accommodates` values are more common, which makes sense given that one bed is often counted as accommodating 2 guests."
   ]
  },
  {
   "cell_type": "markdown",
   "id": "2c9d0742",
   "metadata": {},
   "source": [
    "### Host Response Time\n",
    "\n",
    "`host_response_time` is a categorical variable. More specifically, it is a variable that takes values of a few days or more, within a day, within a few hours, and within an hour. We can get a distribution of its values using `value_counts()`:"
   ]
  },
  {
   "cell_type": "code",
   "execution_count": null,
   "id": "821896c5",
   "metadata": {},
   "outputs": [],
   "source": [
    "eda_dkn[\"host_response_time\"].value_counts().sort_index()"
   ]
  },
  {
   "cell_type": "markdown",
   "id": "db3db606",
   "metadata": {},
   "source": [
    "Interestingly, the dataset has the highest number of within an hour, the second highest number of within a few hours, the 3rd highest number of with a day and the lowest as a few days or more. This suggests that the host tends to respond quickly in order to rent out their houses."
   ]
  },
  {
   "cell_type": "markdown",
   "id": "b643c538",
   "metadata": {},
   "source": [
    "### Host Response Rate\n",
    "\n",
    "`host_response_rate` is a numerical variable that measures the percentages that the host will respond. We would expect that the price of the Airbnb will increase with the increase of the host_response_rate. Let's get a sense of the range of this variable by looking at the summary statistics:"
   ]
  },
  {
   "cell_type": "code",
   "execution_count": null,
   "id": "938fde19",
   "metadata": {},
   "outputs": [],
   "source": [
    "eda_dkn[\"host_response_rate\"].describe()"
   ]
  },
  {
   "cell_type": "markdown",
   "id": "fafb1db4",
   "metadata": {},
   "source": [
    "The minimum `host_response_rate` is 0 which means that the host never responded and the maximum is 100%. This is a big range which tells me that the variable is definitely skewed. The mean is 96.9 and the median is 100 which suggests a left skewness. Recall that when the mean < median, this suggest a left- skewed distribution. Let's plot a histogram of the data using Freeman Diaconis bins. The use of Freeman Diaconis bins allows us to select the width of the bins to be used in a histogram. "
   ]
  },
  {
   "cell_type": "code",
   "execution_count": null,
   "id": "f76bdf18",
   "metadata": {},
   "outputs": [],
   "source": [
    "# Ref: Fundamentals\n",
    "mn = int(eda_dkn.host_response_rate.min())\n",
    "mx = int(eda_dkn.host_response_rate.max())\n",
    "bins = [i for i in range( mn, mx, 1)]\n",
    "\n",
    "figure = plt.figure(figsize=(10, 6))\n",
    "\n",
    "axes = figure.add_subplot(1, 1, 1)\n",
    "axes.hist(eda_dkn.host_response_rate,bins=bins, color=\"DimGray\", edgecolor = \"white\")\n",
    "axes.set_title(\"host_response_rate distribution\")\n",
    "axes.set_xlabel(\"host_response_rate\")\n",
    "axes.grid()\n",
    "\n",
    "plt.show()\n",
    "plt.close()"
   ]
  },
  {
   "cell_type": "markdown",
   "id": "fcea08f2",
   "metadata": {},
   "source": [
    "The distribution of the data looks very much skewed left which makes some sense given if the host responds more, the price will go up."
   ]
  },
  {
   "cell_type": "markdown",
   "id": "26449fc6",
   "metadata": {},
   "source": [
    "### Host Acceptance Rate\n",
    "\n",
    "`host_acceptance_rate` is a numerical variable that measures percentages of host accepts the requests. Similarly, we should expect that the price would go up with the increase of the host_acceptance_rate. Let's get a sense of the range of this variable by looking at the summary statistics:"
   ]
  },
  {
   "cell_type": "code",
   "execution_count": null,
   "id": "3b825431",
   "metadata": {},
   "outputs": [],
   "source": [
    "eda_dkn[\"host_acceptance_rate\"].describe()"
   ]
  },
  {
   "cell_type": "markdown",
   "id": "a17205b7",
   "metadata": {},
   "source": [
    "The variable is definitely skewed left. The mean is 88.7% and the median is 97.0%. The 1st quartile is the same as the mean while the 3rd quartile is 100%. Let's plot a histogram of the data using Freeman Diaconis bins: "
   ]
  },
  {
   "cell_type": "code",
   "execution_count": null,
   "id": "5ffdc128",
   "metadata": {},
   "outputs": [],
   "source": [
    "h = freeman_diaconis(eda_dkn[\"host_acceptance_rate\"])\n",
    "print(\"Freeman Diaconis: \", h)\n",
    "mn = int(eda_dkn[\"host_acceptance_rate\"].min())\n",
    "mx = int(eda_dkn[\"host_acceptance_rate\"].max())\n",
    "bins = [i for i in range( mn, mx, h)]\n",
    "\n",
    "figure = plt.figure(figsize=(10, 6))\n",
    "\n",
    "axes = figure.add_subplot(1, 1, 1)\n",
    "axes.hist(eda_dkn[\"host_acceptance_rate\"],bins=bins, histtype='bar', color=\"DimGray\", ec='black')\n",
    "axes.set_title(\"host_acceptance_rate distribution - Freeman Diaconis\")\n",
    "axes.set_xlabel(\"host_acceptance_rate\")\n",
    "\n",
    "plt.show()\n",
    "plt.close()"
   ]
  },
  {
   "cell_type": "markdown",
   "id": "ef724801",
   "metadata": {},
   "source": [
    "The distribution of the data is skewed left. Similarly, if we assume that the price will depend on the increase of host_acceptance_rate, it created this skewness. "
   ]
  },
  {
   "cell_type": "code",
   "execution_count": null,
   "id": "a4543ef7",
   "metadata": {},
   "outputs": [],
   "source": [
    "con=sqlite3.connect(db_path)\n",
    "cur = con.cursor()\n",
    "\n",
    "query = '''SELECT id, AVG(number_of_reviews) as avg_rev\n",
    "FROM listings\n",
    "GROUP BY id;\n",
    "'''\n",
    "\n",
    "cur.execute(query)\n",
    "con.commit()\n",
    "\n",
    "number_of_reviews = cur.fetchall()\n",
    "\n",
    "con.close()"
   ]
  },
  {
   "cell_type": "code",
   "execution_count": null,
   "id": "92eef3cd",
   "metadata": {},
   "outputs": [],
   "source": [
    "number_of_reviews = pd.DataFrame(number_of_reviews, columns=['ID', 'Average # of Reviews'])\n",
    "number_of_reviews"
   ]
  },
  {
   "cell_type": "code",
   "execution_count": null,
   "id": "38a341ee",
   "metadata": {},
   "outputs": [],
   "source": [
    "number_of_reviews['Average # of Reviews'].describe()"
   ]
  },
  {
   "cell_type": "code",
   "execution_count": null,
   "id": "fe17ad9d",
   "metadata": {},
   "outputs": [],
   "source": [
    "h = freeman_diaconis(number_of_reviews ['Average # of Reviews'])\n",
    "print('Freeman Diaconis: ', h)\n",
    "mn = int(number_of_reviews['Average # of Reviews'].min())\n",
    "mx = int(number_of_reviews['Average # of Reviews'].max())\n",
    "bins = [i for i in range( mn, mx, h)]\n",
    "\n",
    "figure = plt.figure(figsize=(10, 6))\n",
    "\n",
    "axes = figure.add_subplot(1, 1, 1)\n",
    "axes.hist(number_of_reviews['Average # of Reviews'],bins=bins, color='gray')\n",
    "axes.set_title('Average # of Reviews distribution - Freeman Diaconis')\n",
    "axes.set_xlabel('Charge')\n",
    "\n",
    "plt.show()\n",
    "plt.close()"
   ]
  },
  {
   "cell_type": "code",
   "execution_count": null,
   "id": "50ff9f94",
   "metadata": {},
   "outputs": [],
   "source": [
    "figure = plt.figure(figsize=(10, 6)) # first element is width, second is height.\n",
    "\n",
    "axes = figure.add_subplot(1, 1, 1)\n",
    "\n",
    "axes.hist(number_of_reviews['Average # of Reviews'], color='gray', bins=20)\n",
    "axes.set_ylabel('Count')\n",
    "axes.set_xlabel('Reviews')\n",
    "axes.set_title('Average Number of Reviews of an AirBnB Listing in Washington, DC')\n",
    "\n",
    "plt.show()\n",
    "plt.close()"
   ]
  },
  {
   "cell_type": "markdown",
   "id": "74e3e3f9",
   "metadata": {},
   "source": [
    "### Review Scores Rating"
   ]
  },
  {
   "cell_type": "code",
   "execution_count": null,
   "id": "e6b5e4d4",
   "metadata": {},
   "outputs": [],
   "source": [
    "con=sqlite3.connect(db_path)\n",
    "cur = con.cursor()\n",
    "\n",
    "query = '''SELECT id, AVG(review_scores_rating) AS FLOAT\n",
    "FROM listings\n",
    "GROUP BY id;\n",
    "'''\n",
    "\n",
    "cur.execute(query)\n",
    "con.commit()\n",
    "\n",
    "review_scores_rating = cur.fetchall()\n",
    "\n",
    "con.close()"
   ]
  },
  {
   "cell_type": "code",
   "execution_count": null,
   "id": "29269377",
   "metadata": {},
   "outputs": [],
   "source": [
    "review_scores_rating = pd.DataFrame(review_scores_rating, columns=['ID', 'Average Review Scores'])\n",
    "review_scores_rating"
   ]
  },
  {
   "cell_type": "code",
   "execution_count": null,
   "id": "6a89feec",
   "metadata": {},
   "outputs": [],
   "source": [
    "review_scores_rating['Average Review Scores'].describe()"
   ]
  },
  {
   "cell_type": "code",
   "execution_count": null,
   "id": "3cad788f",
   "metadata": {},
   "outputs": [],
   "source": [
    "figure = plt.figure(figsize=(10, 6)) # first element is width, second is height.\n",
    "\n",
    "axes = figure.add_subplot(1, 1, 1)\n",
    "\n",
    "axes.hist(review_scores_rating['Average Review Scores'], color='dimgray', bins=20)\n",
    "axes.set_ylabel('Count')\n",
    "axes.set_xlabel('Review Scores')\n",
    "axes.set_title('Average Review Scores of AirBnB Listings in Washington, DC')\n",
    "\n",
    "plt.show()\n",
    "plt.close()"
   ]
  },
  {
   "cell_type": "markdown",
   "id": "ba44bd25",
   "metadata": {},
   "source": [
    "### Reviews Per Month"
   ]
  },
  {
   "cell_type": "code",
   "execution_count": null,
   "id": "2a080e47",
   "metadata": {},
   "outputs": [],
   "source": [
    "con=sqlite3.connect(db_path)\n",
    "cur = con.cursor()\n",
    "\n",
    "query = '''SELECT id, AVG(reviews_per_month) AS FLOAT\n",
    "FROM listings\n",
    "GROUP BY id;\n",
    "'''\n",
    "\n",
    "cur.execute(query)\n",
    "con.commit()\n",
    "\n",
    "reviews_per_month = cur.fetchall()\n",
    "\n",
    "con.close()"
   ]
  },
  {
   "cell_type": "code",
   "execution_count": null,
   "id": "108b2c1e",
   "metadata": {},
   "outputs": [],
   "source": [
    "reviews_per_month = pd.DataFrame(reviews_per_month, columns=['ID', 'Average Reviews Per Month'])\n",
    "reviews_per_month"
   ]
  },
  {
   "cell_type": "code",
   "execution_count": null,
   "id": "ee27c0d4",
   "metadata": {},
   "outputs": [],
   "source": [
    "reviews_per_month['Average Reviews Per Month'].describe()"
   ]
  },
  {
   "cell_type": "markdown",
   "id": "935a622d",
   "metadata": {},
   "source": [
    "### Room Type\n",
    "\n",
    "room_type is orginally a text variable, but will be used as a categorical variable in our analysis.\n",
    "\n",
    "All homes are grouped into the following three room types: Entire place, Private room, and Shared room."
   ]
  },
  {
   "cell_type": "code",
   "execution_count": null,
   "id": "19a03d42",
   "metadata": {},
   "outputs": [],
   "source": [
    "con=sqlite3.connect(db_path)\n",
    "cur = con.cursor()\n",
    "\n",
    "sql_query = pd.read_sql_query('''SELECT room_type, property_type, instant_bookable, price\n",
    "FROM listings''', con)\n",
    "\n",
    "df = pd.DataFrame(sql_query, columns = ['room_type', 'price', 'instant_bookable', 'property_type'])\n",
    "df"
   ]
  },
  {
   "cell_type": "code",
   "execution_count": null,
   "id": "0274c4d2",
   "metadata": {},
   "outputs": [],
   "source": [
    "# this changes price from currency to a float\n",
    "df[\"price\"] = df[\"price\"].replace(\"[$,]\", \"\", regex=True).astype(float)\n",
    "df.loc[df[\"room_type\"].str.contains('hotel'), \"room_type\"] = \"Private room\""
   ]
  },
  {
   "cell_type": "code",
   "execution_count": null,
   "id": "c53818ce",
   "metadata": {},
   "outputs": [],
   "source": [
    "df.room_type.value_counts()"
   ]
  },
  {
   "cell_type": "markdown",
   "id": "f3824a11",
   "metadata": {},
   "source": [
    "Roughly 74.8% of the listings are categorized as entire home or apartment, 23.5% of listings are categorized as a private room, 1.4% of listings are categorized as a shared room, and less than 1% is categorized as a hotel room."
   ]
  },
  {
   "cell_type": "markdown",
   "id": "f72a6525",
   "metadata": {},
   "source": [
    "### Instant Bookable\n",
    "\n",
    "instant_bookable is a binary categorical variable which tells us if a listing is available for instant booking (true) or not (false)."
   ]
  },
  {
   "cell_type": "code",
   "execution_count": null,
   "id": "afadb725",
   "metadata": {},
   "outputs": [],
   "source": [
    "df.instant_bookable.value_counts()"
   ]
  },
  {
   "cell_type": "markdown",
   "id": "6044756a",
   "metadata": {},
   "source": [
    "Approximately 69% of the observed listings are not available to instantly book, whereas 31% of listings are available to be instantly booked."
   ]
  },
  {
   "cell_type": "markdown",
   "id": "edc41204",
   "metadata": {},
   "source": [
    "### Property Type\n",
    "\n",
    "property_type is a unique text variable, but for this analysis will be used as a categorical variable."
   ]
  },
  {
   "cell_type": "code",
   "execution_count": null,
   "id": "a35932a2",
   "metadata": {},
   "outputs": [],
   "source": [
    "df.property_type.value_counts()"
   ]
  },
  {
   "cell_type": "markdown",
   "id": "d7efde5c",
   "metadata": {},
   "source": [
    "While this is a categorical variable, it seems some of the listing property types have unique names/titles that only relate to one or a few listings, causing a large number of buckets/options."
   ]
  },
  {
   "cell_type": "markdown",
   "id": "eeef2288",
   "metadata": {},
   "source": [
    "## Pairwise Variable EDA"
   ]
  },
  {
   "cell_type": "markdown",
   "id": "1d86140e-1383-4791-9c08-8bf3620ba0ca",
   "metadata": {},
   "source": [
    "### Price vs. Bathroom Type\n",
    "\n",
    "Comparing the AirBnb listing price means that a numerical value (price) will be compared to a categorical variable (bathroom type). "
   ]
  },
  {
   "cell_type": "code",
   "execution_count": null,
   "id": "2961f634-61bb-4e77-a38f-40dcdcbd40dd",
   "metadata": {},
   "outputs": [],
   "source": [
    "con=sqlite3.connect(db_path)\n",
    "cur = con.cursor()\n",
    "\n",
    "query = '''SELECT id, CAST(REPLACE(price, '$', '') AS FLOAT), bathrooms_text FROM listings'''\n",
    "\n",
    "cur.execute(query)\n",
    "con.commit()\n",
    "\n",
    "price_bathroom = cur.fetchall()\n",
    "con.close()"
   ]
  },
  {
   "cell_type": "code",
   "execution_count": null,
   "id": "6ed7882e-a1a8-45b6-873f-51ab057e8b0a",
   "metadata": {},
   "outputs": [],
   "source": [
    "listing_id = []\n",
    "price = []\n",
    "bath = []\n",
    "\n",
    "for pb in price_bathroom:\n",
    "    listing_id.append(pb[0])\n",
    "    price.append(pb[1])\n",
    "    bath.append(bathroom_mapping[pb[2]])\n",
    "price_bath_df = pd.DataFrame({'listing_id': listing_id,\n",
    "                             'price': price,\n",
    "                             'bath': bath})\n",
    "\n",
    "grouped_price_bath = price_bath_df.groupby('bath')\n",
    "grouped_price_bath = grouped_price_bath['price'].describe()\n",
    "\n",
    "t = tabulate(grouped_price_bath, \n",
    "             headers=('Bathroom Type', 'Count', 'Mean', 'Stdev', 'Min', '25%', '50%', '75%', 'Max'),\n",
    "            tablefmt='fancy_grid')\n",
    "print(t)\n",
    "print('\\n')"
   ]
  },
  {
   "cell_type": "markdown",
   "id": "ae8341b7-30a5-448d-ae7e-649131de9415",
   "metadata": {},
   "source": [
    "The IQR differs between the bathroom types available in the listings. AirBnB listings with shared bathrooms have similar nightly prices, with median values ranging from 52-58 USD per night. For listings that have private bathrooms, there is a significant difference in the meidan values. The median nightly cost of an AirBnB listing with 1 private bathroom is 120 USD per night. For listings with two private bathrooms, the nightly cost jumps to 225 USD. The median for listings with three or more private bathrooms is 300 USD per night. "
   ]
  },
  {
   "cell_type": "code",
   "execution_count": null,
   "id": "7d09dbe7-48ed-4282-bd38-11866fd7bea3",
   "metadata": {},
   "outputs": [],
   "source": [
    "figure = plt.figure(figsize=(10, 6))\n",
    "axes = figure.add_subplot(1, 1, 1)\n",
    "grouped_price_bath = price_bath_df.groupby('bath')\n",
    "price_data = [grouped_price_bath.get_group(bath)['price'] for bath in grouped_price_bath.groups]\n",
    "\n",
    "patch = axes.boxplot(price_data, labels=grouped_price_bath.groups.keys(), patch_artist=True, zorder=1)\n",
    "\n",
    "for i, bath in enumerate(grouped_price_bath.groups.keys()):\n",
    "    subdata = grouped_price_bath.get_group(bath)['price']\n",
    "    x = np.random.normal(i + 1, 0.01, size=len(subdata))\n",
    "    axes.plot(x, subdata, 'o', alpha=0.4, color=\"DimGray\", zorder=2)\n",
    "\n",
    "axes.set_xlabel('Bath')\n",
    "axes.set_ylabel('Price')\n",
    "axes.set_title('Distribution of Price, Grouped by Bath')\n",
    "plt.show()\n",
    "plt.close()"
   ]
  },
  {
   "cell_type": "markdown",
   "id": "9c64aed6-444c-4844-86d5-988acf43db8c",
   "metadata": {},
   "source": [
    "For listings with private bathrooms, the prices tend to increase with more bathrooms. Listings that have shared bathrooms appear to have the same values, regardless of how many shared baths are available."
   ]
  },
  {
   "cell_type": "markdown",
   "id": "b3e56f07-3dec-4e7a-9af7-f160b830fc67",
   "metadata": {
    "tags": []
   },
   "source": [
    "### Price vs. Neighborhood Group\n",
    "\n",
    "To compare the listing price to the neighborhood group, the IQR needs to be calculated for each of the 39 neighborhood groupings."
   ]
  },
  {
   "cell_type": "code",
   "execution_count": null,
   "id": "37189f29-f480-4f20-be32-ce8b76346dca",
   "metadata": {},
   "outputs": [],
   "source": [
    "con=sqlite3.connect(db_path)\n",
    "cur = con.cursor()\n",
    "\n",
    "query = '''SELECT id, CAST(REPLACE(price, '$', '') AS FLOAT), neighbourhood_cleansed FROM listings'''\n",
    "\n",
    "cur.execute(query)\n",
    "con.commit()\n",
    "\n",
    "nbh_price = cur.fetchall()\n",
    "con.close()"
   ]
  },
  {
   "cell_type": "code",
   "execution_count": null,
   "id": "97eb74df-2827-4838-9ff3-f64937bc9680",
   "metadata": {},
   "outputs": [],
   "source": [
    "listing_id = []\n",
    "price = []\n",
    "nbhd = []\n",
    "\n",
    "for pb in nbh_price:\n",
    "    listing_id.append(pb[0])\n",
    "    price.append(pb[1])\n",
    "    nbhd.append(pb[2])\n",
    "    \n",
    "nbhd_df = pd.DataFrame({'listing_id': listing_id,\n",
    "                             'price': price,\n",
    "                             'nbhd': nbhd})\n",
    "\n",
    "nbhd_grouped = nbhd_df.groupby('nbhd')\n",
    "nbhd_grouped = nbhd_grouped['price'].describe()\n",
    "nbhd_grouped= nbhd_grouped.sort_values('count', ascending=False)\n",
    "\n",
    "print(nbhd_grouped)"
   ]
  },
  {
   "cell_type": "markdown",
   "id": "c45bd873-d950-4277-9f2a-157c1fe8e101",
   "metadata": {},
   "source": [
    "The IQR differs between the bathroom types available in the listings. AirBnB listings with shared bathrooms have similar nightly prices, with median values ranging from 52-58 USD per night. For listings that have private bathrooms, there is a significant difference in the meidan values. The median nightly cost of an AirBnB listing with 1 private bathroom is 120 USD per night. For listings with two private bathrooms, the nightly cost jumps to 225 USD. The median for listings with three or more private bathrooms is 300 USD per night. "
   ]
  },
  {
   "cell_type": "markdown",
   "id": "4bed5620-cdc7-49b8-aa25-981cb43fd480",
   "metadata": {},
   "source": [
    "Some neighborhoods tend to have higher median AirBnb Listing prices. Limiting the comparison to the neighborhoods that have at least 300 AirBnB listings:"
   ]
  },
  {
   "cell_type": "code",
   "execution_count": null,
   "id": "0a2727f2-b62a-4b52-b014-d03cfe060afd",
   "metadata": {},
   "outputs": [],
   "source": [
    "nbhd_grouped = nbhd_grouped[nbhd_grouped['count']>300]\n",
    "print(nbhd_grouped)"
   ]
  },
  {
   "cell_type": "markdown",
   "id": "c97bdd83-1481-4541-b305-28d506593b03",
   "metadata": {},
   "source": [
    "The \"Brightwood Park, Crestwood, Petworth\" neighborhoods appear to have lower nightly costs of AirbnB listings. In contrast, the \"Georgetown, Burleith/Hillandale\" area appears to have the highest nightly costs for AirBnbs."
   ]
  },
  {
   "cell_type": "code",
   "execution_count": null,
   "id": "babf1f21-0d59-447f-9a3e-72af4a00769e",
   "metadata": {},
   "outputs": [],
   "source": [
    "nbhd_groups = nbhd_grouped.index"
   ]
  },
  {
   "cell_type": "code",
   "execution_count": null,
   "id": "3d154c91-510c-4256-9f9a-bef44ac7ae6f",
   "metadata": {},
   "outputs": [],
   "source": [
    "figure = plt.figure(figsize=(10, 6))\n",
    "\n",
    "axes = figure.add_subplot(1, 1, 1)\n",
    "\n",
    "n_list = nbhd_grouped.index.unique()\n",
    "nbhd_df.loc[~nbhd_df['nbhd'].isin(nbhd_groups), 'nbhd'] = 'Other'\n",
    "\n",
    "labels = pd.unique(nbhd_df['nbhd'].values)\n",
    "grouped_data = [nbhd_df[\"price\"].loc[nbhd_df['nbhd'] == k] for k in labels]\n",
    "patch = axes.boxplot(grouped_data, labels=labels, patch_artist=True, zorder=1)\n",
    "\n",
    "for i, k in enumerate(labels):\n",
    "    subdata = nbhd_df[\"price\"].loc[nbhd_df['nbhd'] == k]\n",
    "    x = np.random.normal(i + 1, 0.01, size=len(subdata))\n",
    "    axes.plot(x, subdata, 'o', alpha=0.4, color=\"DimGray\", zorder=2)\n",
    "\n",
    "axes.set_xlabel(\"Neighborhood\")\n",
    "axes.set_ylabel(\"Price\")\n",
    "axes.set_title(\"Distribution of Price, Grouped By Neighborhood\")\n",
    "axes.set_xticklabels(labels, rotation=90)\n",
    "plt.show()\n",
    "plt.close()"
   ]
  },
  {
   "cell_type": "markdown",
   "id": "a8070b44-1c20-4fd3-9143-447f1678b02d",
   "metadata": {},
   "source": [
    "The IQR of the pricing by neighborhood suggests that there is not a massive difference in prices of AirBnb listings depending on neighborhood. It does appear that the \"Brightwood Park, Crestwood, Petworth\" neighborhoods have an overall lower nightly cost."
   ]
  },
  {
   "cell_type": "markdown",
   "id": "3a37784c-a960-42d2-ad82-a30251910d3b",
   "metadata": {},
   "source": [
    "### Price vs. Superhost Status\n",
    "\n",
    "Around 30% of the AirBnB listings have hosts who also possess the superhost status. This status is advertised as AirBnb as being a factor in providing hosts with more success in bookings. This could mean that the hosts are able to list properties at a higher price."
   ]
  },
  {
   "cell_type": "code",
   "execution_count": null,
   "id": "9891ec02-a7d1-4b91-9406-70ec251a88b6",
   "metadata": {},
   "outputs": [],
   "source": [
    "con=sqlite3.connect(db_path)\n",
    "cur = con.cursor()\n",
    "\n",
    "query = '''SELECT id, CAST(REPLACE(price, '$', '') AS FLOAT), host_is_superhost\n",
    "FROM listings;\n",
    "'''\n",
    "\n",
    "cur.execute(query)\n",
    "con.commit()\n",
    "\n",
    "super_price = cur.fetchall()\n",
    "con.close()"
   ]
  },
  {
   "cell_type": "code",
   "execution_count": null,
   "id": "42d0e3d4-4b61-4a01-ab05-aa8316b21eb3",
   "metadata": {},
   "outputs": [],
   "source": [
    "listing_id = []\n",
    "superhost = []\n",
    "price = []\n",
    "\n",
    "for pb in super_price:\n",
    "    listing_id.append(pb[0])\n",
    "    price.append(pb[1])\n",
    "    if pb[2] == '':\n",
    "        superhost.append('f')\n",
    "    else:\n",
    "        superhost.append(pb[2])\n",
    "super_df = pd.DataFrame({'listing_id': listing_id,\n",
    "                             'price': price,\n",
    "                             'superhost': superhost})\n",
    "\n",
    "super_df['superhost'] = super_df['superhost'].replace({'t': 'Superhost',\n",
    "                                                    'f': 'Not Superhost'})\n",
    "\n",
    "grouped_super = super_df.groupby('superhost')\n",
    "grouped_super = grouped_super['price'].describe()\n",
    "\n",
    "t = tabulate(grouped_super, \n",
    "             headers=('Is Superhost?', 'Count', 'Mean', 'Stdev', 'Min', '25%', '50%', '75%', 'Max'),\n",
    "            tablefmt='fancy_grid')\n",
    "print(t)\n",
    "print('\\n')"
   ]
  },
  {
   "cell_type": "markdown",
   "id": "ce4df479-b186-4d76-85f6-a471dfdab993",
   "metadata": {},
   "source": [
    "The IQR values for superhosts and regular hosts are similar, with some minor variations. There does not to appear a significant difference between the price of a listing and the host's \"superhost\" status."
   ]
  },
  {
   "cell_type": "markdown",
   "id": "61d6bf27-a8fd-4844-887b-1f1c5db82b4a",
   "metadata": {},
   "source": [
    "### Number of Bedrooms vs. Price"
   ]
  },
  {
   "cell_type": "code",
   "execution_count": null,
   "id": "a9a9f9cf-4f42-4adb-ae02-6cd4aba55e2c",
   "metadata": {},
   "outputs": [],
   "source": [
    "lowess = sm.nonparametric.lowess(b_df[\"price\"], b_df[\"bedrooms\"], frac=.3)\n",
    "lowess_x = list(zip(*lowess))[0]\n",
    "lowess_y = list(zip(*lowess))[1]\n",
    "\n",
    "figure = plt.figure(figsize=(10, 6))\n",
    "\n",
    "axes = figure.add_subplot(1, 1, 1)\n",
    "axes.scatter( b_df[ \"bedrooms\"], b_df[\"price\"], marker=\"o\", color=\"DimGray\")\n",
    "axes.plot(lowess_x, lowess_y, color=\"DarkRed\")\n",
    "\n",
    "axes.set_title(\"Plot of Bedrooms v. Price with LOWESS\")\n",
    "axes.set_xlabel( \"Bedrooms\")\n",
    "axes.set_ylabel( \"Price\")\n",
    "\n",
    "plt.show()\n",
    "plt.close()"
   ]
  },
  {
   "cell_type": "code",
   "execution_count": null,
   "id": "535f8e51-249e-4189-bcc8-f01038a26d2b",
   "metadata": {},
   "outputs": [],
   "source": [
    "correlation(b_df, 'bedrooms', 'price')"
   ]
  },
  {
   "cell_type": "markdown",
   "id": "3f1ae354-0f84-47bd-95c9-8fdc701ab6fa",
   "metadata": {},
   "source": [
    "### Beds v. Price with LOWESS"
   ]
  },
  {
   "cell_type": "code",
   "execution_count": null,
   "id": "4608a1d3-f5ef-4413-9f6c-ba6ff356da53",
   "metadata": {},
   "outputs": [],
   "source": [
    "lowess = sm.nonparametric.lowess(b_df[\"price\"], b_df[\"beds\"], frac=.3)\n",
    "lowess_x = list(zip(*lowess))[0]\n",
    "lowess_y = list(zip(*lowess))[1]\n",
    "\n",
    "figure = plt.figure(figsize=(10, 6))\n",
    "\n",
    "axes = figure.add_subplot(1, 1, 1)\n",
    "axes.scatter( b_df[ \"beds\"], b_df[\"price\"], marker=\"o\", color=\"DimGray\")\n",
    "axes.plot(lowess_x, lowess_y, color=\"DarkRed\")\n",
    "\n",
    "axes.set_title(\"Plot of Beds v. Price with LOWESS\")\n",
    "axes.set_xlabel( \"Beds\")\n",
    "axes.set_ylabel( \"Price\")\n",
    "\n",
    "plt.show()\n",
    "plt.close()"
   ]
  },
  {
   "cell_type": "code",
   "execution_count": null,
   "id": "e4f15c19-aeb9-41c1-9abb-a233d622f669",
   "metadata": {},
   "outputs": [],
   "source": [
    "correlation(b_df, 'beds', 'price')"
   ]
  },
  {
   "cell_type": "markdown",
   "id": "879a5667-6c9e-4ebb-a1b4-4b9a65052bdf",
   "metadata": {},
   "source": [
    "### Accommodates v. Price with LOWESS"
   ]
  },
  {
   "cell_type": "code",
   "execution_count": null,
   "id": "51eb5d86-49ea-43d4-8e98-b6ffabc746ed",
   "metadata": {},
   "outputs": [],
   "source": [
    "lowess = sm.nonparametric.lowess(b_df[\"price\"], b_df[\"accommodates\"], frac=.3)\n",
    "lowess_x = list(zip(*lowess))[0]\n",
    "lowess_y = list(zip(*lowess))[1]\n",
    "\n",
    "figure = plt.figure(figsize=(10, 6))\n",
    "\n",
    "axes = figure.add_subplot(1, 1, 1)\n",
    "axes.scatter( b_df[ \"accommodates\"], b_df[\"price\"], marker=\"o\", color=\"DimGray\")\n",
    "axes.plot(lowess_x, lowess_y, color=\"DarkRed\")\n",
    "\n",
    "axes.set_title(\"Plot of Accommodates v. Price with LOWESS\")\n",
    "axes.set_xlabel( \"Accommodates\")\n",
    "axes.set_ylabel( \"Price\")\n",
    "\n",
    "plt.show()\n",
    "plt.close()"
   ]
  },
  {
   "cell_type": "code",
   "execution_count": null,
   "id": "56ba6af4-2ded-4afb-bfda-4a249007a6e7",
   "metadata": {},
   "outputs": [],
   "source": [
    "correlation(b_df, 'accommodates', 'price')"
   ]
  },
  {
   "cell_type": "markdown",
   "id": "b1bfffeb-5388-476f-9d9b-841a36b15301",
   "metadata": {},
   "source": [
    "### Price vs Host Response Rate\n",
    "\n",
    "We can definitely expect to see the higher the host_response_rate, the higher the price is. Since this pairwise comparison is between two numerical variables, we can start by seeing the correlation of the two variables. "
   ]
  },
  {
   "cell_type": "code",
   "execution_count": null,
   "id": "3550613d-68d8-467e-812d-7cb56faf1bd9",
   "metadata": {},
   "outputs": [],
   "source": [
    "correlation(eda_dkn, \"host_response_rate\", \"price\")"
   ]
  },
  {
   "cell_type": "markdown",
   "id": "5d51b384-09fb-4070-8ef1-48fdcc6a4e2f",
   "metadata": {},
   "source": [
    "Pearson's correlation coefficient, $r$, is only 0.003 which indicates a very weak positive relationship. Spearman's is at 0.032 which might indicate a very weak monotonic relationship. Let's plot the data using Lowess. That is by using locally weighted smoothing (LOWESS), this method of regression analysis creates a smooth line through a scatterplot in order to see the trend between both variables. "
   ]
  },
  {
   "cell_type": "code",
   "execution_count": null,
   "id": "1c8f5c14-1719-416f-9273-28e645b38227",
   "metadata": {},
   "outputs": [],
   "source": [
    "lowess = sm.nonparametric.lowess(eda_dkn[\"price\"], eda_dkn[\"host_response_rate\"], frac=.3)\n",
    "lowess_x = list(zip(*lowess))[0]\n",
    "lowess_y = list(zip(*lowess))[1]\n",
    "\n",
    "figure = plt.figure(figsize=(10, 6))\n",
    "\n",
    "axes = figure.add_subplot(1, 1, 1)\n",
    "axes.scatter( eda_dkn[\"host_response_rate\"], eda_dkn[\"price\"], marker=\"o\", color=\"DimGray\")\n",
    "axes.plot(lowess_x, lowess_y, color=\"DarkRed\")\n",
    "\n",
    "axes.set_title(\"Plot of host_response_rate v. price with LOWESS\")\n",
    "axes.set_xlabel( \"host_response_rate\")\n",
    "axes.set_ylabel( \"price\")\n",
    "\n",
    "plt.show()\n",
    "plt.close()"
   ]
  },
  {
   "cell_type": "markdown",
   "id": "5ba3f8dd-8fdc-4e04-9f1c-c4165ec49627",
   "metadata": {},
   "source": [
    "Through this scatterplot and the lowess line, we can see that there is a very weak postive linear relationship between host_response_rate and price. "
   ]
  },
  {
   "cell_type": "markdown",
   "id": "d06cd91c-1381-483d-9089-a95ac785289e",
   "metadata": {},
   "source": [
    "### Price vs Host Acceptance Rate\n",
    "\n",
    "We can expect to see the higher the host_acceptance_rate, the higher the price is. Since this pairwise comparison is between two numerical variables, we can start by seeing the correlation of the two variables. "
   ]
  },
  {
   "cell_type": "code",
   "execution_count": null,
   "id": "6f843dfd-2b39-402e-a693-62424724aba5",
   "metadata": {},
   "outputs": [],
   "source": [
    "correlation(eda_dkn, \"host_acceptance_rate\", \"price\")"
   ]
  },
  {
   "cell_type": "markdown",
   "id": "18957daf-ad02-4fbf-a765-3d94e2cd2d0f",
   "metadata": {},
   "source": [
    "Pearson's correlation coefficient, $r$, is only 0.088 which indicates a very weak positive relationship. Spearman's is at 0.144 which might indicate a very weak monotonic relationship. Let's plot the data using Lowess. That is by using locally weighted smoothing (LOWESS), this method of regression analysis creates a smooth line through a scatterplot in order to see the trend between both variables. "
   ]
  },
  {
   "cell_type": "code",
   "execution_count": null,
   "id": "86a4152b-ce76-4e35-8c73-29ef60bc16ee",
   "metadata": {},
   "outputs": [],
   "source": [
    "import statsmodels.api as sm\n",
    "\n",
    "lowess = sm.nonparametric.lowess(eda_dkn[\"price\"], eda_dkn[\"host_acceptance_rate\"], frac=.3)\n",
    "lowess_x = list(zip(*lowess))[0]\n",
    "lowess_y = list(zip(*lowess))[1]\n",
    "\n",
    "figure = plt.figure(figsize=(10, 6))\n",
    "\n",
    "axes = figure.add_subplot(1, 1, 1)\n",
    "axes.scatter( eda_dkn[\"host_acceptance_rate\"], eda_dkn[\"price\"], marker=\"o\", color=\"DimGray\")\n",
    "axes.plot(lowess_x, lowess_y, color=\"DarkRed\")\n",
    "\n",
    "axes.set_title(\"Plot of host_acceptance_rate v. price with LOWESS\")\n",
    "axes.set_xlabel( \"host_acceptance_rate\")\n",
    "axes.set_ylabel( \"price\")\n",
    "\n",
    "plt.show()\n",
    "plt.close()"
   ]
  },
  {
   "cell_type": "markdown",
   "id": "cbd1fa59-364b-4602-927a-8d2bcd8810b6",
   "metadata": {},
   "source": [
    "Through this scatterplot and the lowess line, we can see that there is a very weak postive linear relationship between host_response_rate and price. "
   ]
  },
  {
   "cell_type": "markdown",
   "id": "7700fee1-ec71-4eca-8f75-4f3c68295dea",
   "metadata": {
    "tags": []
   },
   "source": [
    "### Price vs Host Response Time\n",
    "\n",
    "It is possible that the host_response_time has a negative correlation with the price since when the not hearing from the host, most people just start to look for a new ad. Because this pairwise correlation is marked by a categorical variable and a numerical variable, using summary statistics in relation to each other gives us the perspective we are looking for:"
   ]
  },
  {
   "cell_type": "code",
   "execution_count": null,
   "id": "e6095347-6667-4812-a6d7-c64522465b75",
   "metadata": {
    "tags": []
   },
   "outputs": [],
   "source": [
    "# describe_by_category(eda_dkn, \"price\", \"host_response_time\", transpose=True)\n",
    "\n",
    "grouped_hot_response_rate = eda_dkn[['host_response_time', 'price']].groupby('host_response_time')\n",
    "grouped_hot_response_rate_stats = grouped_hot_response_rate['price'].describe()\n",
    "grouped_hot_response_rate_stats"
   ]
  },
  {
   "cell_type": "markdown",
   "id": "50affd56-a823-415c-b70a-c6a92d80ec9d",
   "metadata": {
    "tags": []
   },
   "source": [
    "### Number of Reviews vs. Review Scores Rating"
   ]
  },
  {
   "cell_type": "code",
   "execution_count": null,
   "id": "f01db18f-2a55-472b-8d3f-db8f93dccc78",
   "metadata": {},
   "outputs": [],
   "source": [
    "print('r   = ', stats.pearsonr(number_of_reviews['Average # of Reviews'], review_scores_rating['Average Review Scores'])[0])\n",
    "print('rho = ', stats.spearmanr(number_of_reviews['Average # of Reviews'], review_scores_rating['Average Review Scores'])[0])"
   ]
  },
  {
   "cell_type": "code",
   "execution_count": null,
   "id": "6dc13246-d944-400a-92b1-d8c1fd2af904",
   "metadata": {},
   "outputs": [],
   "source": [
    "figure = plt.figure(figsize=(10, 6))\n",
    "\n",
    "axes = figure.add_subplot(1, 1, 1)\n",
    "axes.scatter(review_scores_rating['Average Review Scores'], number_of_reviews['Average # of Reviews'], marker='o', color='gray')\n",
    "\n",
    "axes.set_ylabel('# of Reviews')\n",
    "axes.set_xlabel('Review Scores')\n",
    "axes.set_title('Scatter Plot of # of Reviews vs. Review Scores')\n",
    "\n",
    "plt.show()\n",
    "plt.close()"
   ]
  },
  {
   "cell_type": "code",
   "execution_count": null,
   "id": "052a406a-c7e7-4181-a710-837a75575374",
   "metadata": {},
   "outputs": [],
   "source": [
    "figure = plt.figure(figsize=(10, 10))\n",
    "\n",
    "axes = figure.add_subplot(2, 1, 1)\n",
    "axes.hist(number_of_reviews['Average # of Reviews'],bins=bins,color=\"gray\")\n",
    "axes.set_title(\"Average # of Reviews distribution - Freeman Diaconis\")\n",
    "axes.set_xlabel(\"Average # of Reviews\")\n",
    "\n",
    "axes = figure.add_subplot(2, 1, 2)\n",
    "axes.scatter(number_of_reviews['Average # of Reviews'], review_scores_rating['Average Review Scores'], marker=\"o\", color=\"gray\")\n",
    "\n",
    "axes.set_ylabel(\"Average Review Scores\")\n",
    "axes.set_xlabel(\"Average # of Reviews\")\n",
    "axes.set_title(\"Scatter Plot of Average # of Reviews vs. Average Review Scores\")\n",
    "\n",
    "plt.show()\n",
    "plt.close()"
   ]
  },
  {
   "cell_type": "markdown",
   "id": "1986a0c0-a6dc-4e4c-91cb-7d5b08ef2ba5",
   "metadata": {
    "tags": []
   },
   "source": [
    "### Number of Reviews vs. Reviews Per Month"
   ]
  },
  {
   "cell_type": "code",
   "execution_count": null,
   "id": "1ff5621f-9e7d-4c18-acc5-83b5841b1e88",
   "metadata": {},
   "outputs": [],
   "source": [
    "print('r   = ', stats.pearsonr(number_of_reviews['Average # of Reviews'], reviews_per_month['Average Reviews Per Month'])[0])\n",
    "print('rho = ', stats.spearmanr(number_of_reviews['Average # of Reviews'], reviews_per_month['Average Reviews Per Month'])[0])"
   ]
  },
  {
   "cell_type": "code",
   "execution_count": null,
   "id": "4078c787-cb3c-46df-b6c0-b0470c932669",
   "metadata": {},
   "outputs": [],
   "source": [
    "figure = plt.figure(figsize=(10, 6))\n",
    "\n",
    "axes = figure.add_subplot(1, 1, 1)\n",
    "axes.scatter(reviews_per_month['Average Reviews Per Month'], number_of_reviews['Average # of Reviews'], marker='o', color='gray')\n",
    "\n",
    "axes.set_ylabel('# of Reviews')\n",
    "axes.set_xlabel('Reviews Per Month')\n",
    "axes.set_title('Scatter Plot of # of Reviews vs. Reviews Per Month')\n",
    "\n",
    "plt.show()\n",
    "plt.close()"
   ]
  },
  {
   "cell_type": "code",
   "execution_count": null,
   "id": "e336455e-ca7c-4810-9660-d7edbebe5c78",
   "metadata": {
    "tags": []
   },
   "outputs": [],
   "source": [
    "figure = plt.figure(figsize=(10, 10))\n",
    "\n",
    "axes = figure.add_subplot(2, 1, 1)\n",
    "axes.hist(number_of_reviews['Average # of Reviews'],bins=bins,color=\"gray\")\n",
    "axes.set_title(\"Average # of Reviews distribution - Freeman Diaconis\")\n",
    "axes.set_xlabel(\"Average # of Reviews\")\n",
    "\n",
    "axes = figure.add_subplot(2, 1, 2)\n",
    "axes.scatter(number_of_reviews['Average # of Reviews'], reviews_per_month['Average Reviews Per Month'], marker=\"o\", color=\"gray\")\n",
    "\n",
    "axes.set_ylabel(\"Average Reviews Per Month\")\n",
    "axes.set_xlabel(\"Average # of Reviews\")\n",
    "axes.set_title(\"Scatter Plot of Average # of Reviews vs. Average Reviews Per Month\")\n",
    "\n",
    "plt.show()\n",
    "plt.close()"
   ]
  },
  {
   "cell_type": "markdown",
   "id": "faaf8c47-ddc5-4bc2-a945-a082f8afd565",
   "metadata": {
    "tags": []
   },
   "source": [
    "### Review Scores Rating vs. Reviews Per Month"
   ]
  },
  {
   "cell_type": "code",
   "execution_count": null,
   "id": "47b605ed-c28f-487d-a866-90d11b5e37a5",
   "metadata": {
    "tags": []
   },
   "outputs": [],
   "source": [
    "print('r   = ', stats.pearsonr(review_scores_rating['Average Review Scores'], reviews_per_month['Average Reviews Per Month'])[0])\n",
    "print('rho = ', stats.spearmanr(review_scores_rating['Average Review Scores'], reviews_per_month['Average Reviews Per Month'])[0])"
   ]
  },
  {
   "cell_type": "code",
   "execution_count": null,
   "id": "7fb90775-30d0-4475-b355-20d5429871ac",
   "metadata": {
    "tags": []
   },
   "outputs": [],
   "source": [
    "figure = plt.figure(figsize=(10, 6))\n",
    "\n",
    "axes = figure.add_subplot(1, 1, 1)\n",
    "axes.scatter(reviews_per_month['Average Reviews Per Month'], review_scores_rating['Average Review Scores'], marker='o', color='gray')\n",
    "\n",
    "axes.set_ylabel('Average Review Scores')\n",
    "axes.set_xlabel('Reviews Per Month')\n",
    "axes.set_title('Scatter Plot of Average Review Scores vs. Reviews Per Month')\n",
    "\n",
    "plt.show()\n",
    "plt.close()"
   ]
  },
  {
   "cell_type": "code",
   "execution_count": null,
   "id": "1590ff44-ae99-4de1-872c-b41d3b559685",
   "metadata": {
    "tags": []
   },
   "outputs": [],
   "source": [
    "figure = plt.figure(figsize=(10, 10))\n",
    "\n",
    "axes = figure.add_subplot(2, 1, 1)\n",
    "axes.hist(review_scores_rating['Average Review Scores'], color='gray', bins=20)\n",
    "axes.set_ylabel('Count')\n",
    "axes.set_xlabel('Average Review Scores')\n",
    "axes.set_title('Average Review Scores distribution')\n",
    "\n",
    "axes = figure.add_subplot(2, 1, 2)\n",
    "axes.scatter(review_scores_rating['Average Review Scores'], reviews_per_month['Average Reviews Per Month'], marker=\"o\", color=\"gray\")\n",
    "\n",
    "axes.set_ylabel(\"Average Reviews Per Month\")\n",
    "axes.set_xlabel(\"Average Review Scores\")\n",
    "axes.set_title(\"Scatter Plot of Average Review Scores vs. Average Reviews Per Month\")\n",
    "\n",
    "plt.show()\n",
    "plt.close()"
   ]
  },
  {
   "cell_type": "markdown",
   "id": "ed23e0ad-719b-4e6b-847f-d3adac772544",
   "metadata": {},
   "source": [
    "While this is a categorical variable, it seems some of the listing property types have unique names/titles that only relate to one or a few listings, causing a large number of buckets/options."
   ]
  },
  {
   "cell_type": "markdown",
   "id": "585d9de3-436a-40f7-91cb-5b59a7d52dcd",
   "metadata": {},
   "source": [
    "### Price vs Room Type"
   ]
  },
  {
   "cell_type": "code",
   "execution_count": null,
   "id": "5f5de35b",
   "metadata": {},
   "outputs": [],
   "source": [
    "con=sqlite3.connect(db_path)\n",
    "cur = con.cursor()\n",
    "\n",
    "sql_query = pd.read_sql_query('''SELECT room_type, property_type, instant_bookable, price\n",
    "FROM listings''', con)\n",
    "\n",
    "df = pd.DataFrame(sql_query, columns = ['room_type', 'price', 'instant_bookable', 'property_type'])\n",
    "df\n",
    "\n",
    "df[\"price\"] = df[\"price\"].replace(\"[$,]\", \"\", regex=True).astype(float)"
   ]
  },
  {
   "cell_type": "code",
   "execution_count": null,
   "id": "6474bd58-1ea8-44db-8d8e-2cad7789338a",
   "metadata": {},
   "outputs": [],
   "source": [
    "grouped_price_room_type = df[['room_type', 'price']].groupby('room_type')\n",
    "grouped_price_room_type_stats = grouped_price_room_type['price'].describe()\n",
    "grouped_price_room_type_stats\n",
    "\n",
    "\n",
    "table = tabulate(grouped_price_room_type_stats, \n",
    "             headers=('Room Type', 'Count', 'Mean', 'Stdev', 'Min', '25%', '50%', '75%', 'Max'),\n",
    "            tablefmt='fancy_grid')\n",
    "print(table)\n",
    "print('\\n')"
   ]
  },
  {
   "cell_type": "markdown",
   "id": "5330f70d-a9dc-46b1-8526-187c2d3c38b5",
   "metadata": {},
   "source": [
    "Entire homes/apartments are on average the most expensive (202.20), followed by a private room (123.78). The least expensive stay is a shared room (54.02). The range for entire home/apartments is significantly larger/wider than the other options, ranging from 10 to 7500. This difference tells us that there are surely some extreme values in our dataset.  \n"
   ]
  },
  {
   "cell_type": "markdown",
   "id": "584383b2-7684-494d-ab91-e3cc557e1e2d",
   "metadata": {},
   "source": [
    "### Price vs Instant Bookable"
   ]
  },
  {
   "cell_type": "code",
   "execution_count": null,
   "id": "829459c7-ec41-4963-aa82-37feae9b34db",
   "metadata": {},
   "outputs": [],
   "source": [
    "grouped_price_instant_bookable = df[['instant_bookable', 'price']].groupby('instant_bookable')\n",
    "grouped_price_instant_bookable_stats = grouped_price_instant_bookable['price'].describe()\n",
    "grouped_price_instant_bookable_stats\n",
    "\n",
    "\n",
    "table2 = tabulate(grouped_price_instant_bookable_stats, \n",
    "            headers=('Instant Bookable', 'Count', 'Mean', 'Stdev', 'Min', '25%', '50%', '75%', 'Max'),\n",
    "            tablefmt='fancy_grid')\n",
    "print(table2)\n",
    "print('\\n')"
   ]
  },
  {
   "cell_type": "markdown",
   "id": "1cc15457-81d7-445d-ae1d-6934eb4b3c9d",
   "metadata": {},
   "source": [
    "The average price of an Air BnB listing is higher for those that are instantly bookable (191.53) compared to listings that are not instantly bookable (176.21). Interestingly, the minimum price for a instantly bookable stay is 16, whereas the non-instantly bookable stays do not have a minimum.  \n"
   ]
  },
  {
   "cell_type": "markdown",
   "id": "bb5599f6-cbfc-4176-a472-b576f705469c",
   "metadata": {},
   "source": [
    "### Price vs Property Type"
   ]
  },
  {
   "cell_type": "code",
   "execution_count": null,
   "id": "155d04d3-b85a-42c6-a5b0-b255c354c08d",
   "metadata": {},
   "outputs": [],
   "source": [
    "property_type_df = df[['property_type','price']]\n",
    "#property_type_df"
   ]
  },
  {
   "cell_type": "code",
   "execution_count": null,
   "id": "9e44a088-f89a-4732-92ac-aa140a7d075f",
   "metadata": {},
   "outputs": [],
   "source": [
    "df_2 = pd.DataFrame(property_type_df)\n",
    "df_2['property_type_2'] = '0'\n",
    "\n",
    "df_2.loc[df_2[\"property_type\"].str.contains('condo|loft'), \"property_type_2\"] = \"Condo\"\n",
    "df_2.loc[df_2[\"property_type\"].str.contains('apartment'), \"property_type_2\"] = \"Apartment\"\n",
    "df_2.loc[df_2[\"property_type\"].str.contains('townhouse'), \"property_type_2\"] = \"Townhouse\"\n",
    "df_2.loc[df_2[\"property_type\"].str.contains('home|place'), \"property_type_2\"] = \"Home\"\n",
    "df_2.loc[df_2[\"property_type\"].str.contains('guest suite|guesthouse'), \"property_type_2\"] = \"Guest Suite/Guesthouse\"\n",
    "df_2.loc[df_2[\"property_type\"].str.contains('rental'), \"property_type_2\"] = \"Rental Unit\"\n",
    "df_2.loc[df_2[\"property_type\"].str.contains('hotel|resort'), \"property_type_2\"] = \"Hotel Room\"\n",
    "df_2.loc[df_2[\"property_type\"].str.contains('hostel'), \"property_type_2\"] = \"Hostel\"\n",
    "df_2.loc[df_2[\"property_type\"].str.contains('villa|bungalow'), \"property_type_2\"] = \"Villa/Bungalow\"\n",
    "df_2.loc[df_2[\"property_type\"].str.contains('Cottage|cottage|Boat|Camper/RV|Campsite|Castle|Floor|Houseboat|Tent|Tower'), \"property_type_2\"] = \"Unique Stay\"\n",
    "df_2.loc[df_2[\"property_type\"].str.contains('Tiny|tiny'), \"property_type_2\"] = \"Tiny Home\"\n",
    "df_2.loc[df_2[\"property_type\"].str.contains('Breakfast|breakfast'), \"property_type_2\"] = \"Bed & Breakfast\"\n",
    "df_2.loc[df_2[\"property_type\"].str.contains('particular|aparthotel'), \"property_type_2\"] = \"Other\"\n",
    "df_2.loc[df_2[\"property_type_2\"].str.contains('0'), \"property_type_2\"] = \"Other\"\n",
    "\n",
    "df_2.loc[df_2[\"property_type\"].str.contains('Entire'), \"property_type\"] = \"Entire Space\"\n",
    "df_2.loc[df_2[\"property_type\"].str.contains('Private|private|apartment|breakfast'), \"property_type\"] = \"Private Room\"\n",
    "df_2.loc[df_2[\"property_type\"].str.contains('Shared|shared'), \"property_type\"] = \"Shared Room\"\n",
    "df_2.loc[df_2[\"property_type\"].str.contains('Hotel|hotel'), \"property_type\"] = \"Hotel\"\n",
    "df_2.loc[df_2[\"property_type\"].str.contains('Hostel|hostel'), \"property_type\"] = \"Hostel\"\n",
    "df_2.loc[df_2[\"property_type\"].str.contains('Boat|Camper/RV|Campsite|Casa particular|Castle|Floor|Houseboat|Tent|Tiny home|Tower'), \"property_type\"] = \"Unique Stay\"\n",
    "#df_2"
   ]
  },
  {
   "cell_type": "code",
   "execution_count": null,
   "id": "a23cf121-0d90-4611-b9f4-edff827ae5d7",
   "metadata": {},
   "outputs": [],
   "source": [
    "grouped_price_property_type = df_2[['property_type', 'price', 'property_type_2']].groupby('property_type')\n",
    "grouped_price_property_type_stats = grouped_price_property_type['price'].describe().reset_index()\n",
    "#grouped_price_property_type_stats"
   ]
  },
  {
   "cell_type": "code",
   "execution_count": null,
   "id": "64e2ddb7-1db8-49a5-8a7d-74db84b267a5",
   "metadata": {},
   "outputs": [],
   "source": [
    "grouped_price_property_type_2 = df_2[['property_type', 'price', 'property_type_2']].groupby('property_type_2')\n",
    "grouped_price_property_type_stats_2 = grouped_price_property_type_2['price'].describe().reset_index()\n",
    "grouped_price_property_type_stats_2"
   ]
  },
  {
   "cell_type": "markdown",
   "id": "b0d7a3d2-ec06-4f15-8889-9905f259382d",
   "metadata": {},
   "source": [
    "We grouped the different property types into overall categories (for example: \"Apartment\" includes rentals that are the entire apartment, private room of an apartment, and shared room in an apartment). There were originally 53 different categories, and we were able to pair that down to about 12 groups. Unique stays include boats, boathouse, campsite, castle, tent, camper/rv, cottage, tower, and a few other listing types. Based on the analysis results, the highest average cost is actually for hotel rooms (382.43) and the least expensive stay is a hostel (84.76). Interestingly, the price range for a home stay (10, 7500) and townhouse stay (20, 4357) seem fairly extreme, leading us to believe that there are some extreme values in our dataset. It is worth looking further into this variable and how it interacts with other variables such as number of rooms and location to see how those variables may influence the overall price of a listing. "
   ]
  }
 ],
 "metadata": {
  "kernelspec": {
   "display_name": "Python 3 (ipykernel)",
   "language": "python",
   "name": "python3"
  },
  "language_info": {
   "codemirror_mode": {
    "name": "ipython",
    "version": 3
   },
   "file_extension": ".py",
   "mimetype": "text/x-python",
   "name": "python",
   "nbconvert_exporter": "python",
   "pygments_lexer": "ipython3",
   "version": "3.10.8"
  }
 },
 "nbformat": 4,
 "nbformat_minor": 5
}
