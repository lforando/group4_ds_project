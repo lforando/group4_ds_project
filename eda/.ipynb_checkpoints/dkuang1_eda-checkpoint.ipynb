{
 "cells": [
  {
   "cell_type": "code",
   "execution_count": 1,
   "id": "d80076b6",
   "metadata": {},
   "outputs": [],
   "source": [
    "import pandas as pd\n",
    "import matplotlib.pyplot as plt\n",
    "import scipy.stats as stats\n",
    "import numpy as np\n",
    "from scipy.stats import norm\n",
    "from tabulate import tabulate\n",
    "import sqlite3\n",
    "from sklearn.impute import SimpleImputer\n",
    "\n",
    "import warnings\n",
    "warnings.filterwarnings('ignore')"
   ]
  },
  {
   "cell_type": "markdown",
   "id": "6d474e4f",
   "metadata": {},
   "source": [
    "The first step is to load the data from the `listings` table:"
   ]
  },
  {
   "cell_type": "code",
   "execution_count": 2,
   "id": "8d3fc8c5",
   "metadata": {},
   "outputs": [],
   "source": [
    "data = pd.read_sql_query(\"SELECT * FROM listings\", sqlite3.connect('../data/datawarehouse.db'))"
   ]
  },
  {
   "cell_type": "code",
   "execution_count": 3,
   "id": "6592279f",
   "metadata": {},
   "outputs": [
    {
     "name": "stdout",
     "output_type": "stream",
     "text": [
      "<class 'pandas.core.frame.DataFrame'>\n",
      "RangeIndex: 8628 entries, 0 to 8627\n",
      "Data columns (total 74 columns):\n",
      " #   Column                                        Non-Null Count  Dtype  \n",
      "---  ------                                        --------------  -----  \n",
      " 0   id                                            8628 non-null   int64  \n",
      " 1   listing_url                                   8628 non-null   object \n",
      " 2   scrape_id                                     8628 non-null   int64  \n",
      " 3   last_scraped                                  8628 non-null   object \n",
      " 4   name                                          8628 non-null   object \n",
      " 5   description                                   8628 non-null   object \n",
      " 6   neighborhood_overview                         8628 non-null   object \n",
      " 7   picture_url                                   8628 non-null   object \n",
      " 8   host_id                                       8628 non-null   int64  \n",
      " 9   host_url                                      8628 non-null   object \n",
      " 10  host_name                                     8628 non-null   object \n",
      " 11  host_since                                    8628 non-null   object \n",
      " 12  host_location                                 8628 non-null   object \n",
      " 13  host_about                                    8628 non-null   object \n",
      " 14  host_response_time                            8628 non-null   object \n",
      " 15  host_response_rate                            8628 non-null   object \n",
      " 16  host_acceptance_rate                          8628 non-null   object \n",
      " 17  host_is_superhost                             8628 non-null   object \n",
      " 18  host_thumbnail_url                            8628 non-null   object \n",
      " 19  host_picture_url                              8628 non-null   object \n",
      " 20  host_neighbourhood                            8628 non-null   object \n",
      " 21  host_listings_count                           8628 non-null   object \n",
      " 22  host_total_listings_count                     8628 non-null   object \n",
      " 23  host_verifications                            8628 non-null   object \n",
      " 24  host_has_profile_pic                          8628 non-null   object \n",
      " 25  host_identity_verified                        8628 non-null   object \n",
      " 26  neighbourhood                                 8628 non-null   object \n",
      " 27  neighbourhood_cleansed                        8628 non-null   object \n",
      " 28  neighbourhood_group_cleansed                  8628 non-null   object \n",
      " 29  latitude                                      8628 non-null   float64\n",
      " 30  longitude                                     8628 non-null   float64\n",
      " 31  property_type                                 8628 non-null   object \n",
      " 32  room_type                                     8628 non-null   object \n",
      " 33  accommodates                                  8628 non-null   int64  \n",
      " 34  bathrooms                                     8628 non-null   object \n",
      " 35  bathrooms_text                                8628 non-null   object \n",
      " 36  bedrooms                                      8628 non-null   object \n",
      " 37  beds                                          8628 non-null   object \n",
      " 38  amenities                                     8628 non-null   object \n",
      " 39  price                                         8628 non-null   object \n",
      " 40  minimum_nights                                8628 non-null   int64  \n",
      " 41  maximum_nights                                8628 non-null   int64  \n",
      " 42  minimum_minimum_nights                        8628 non-null   object \n",
      " 43  maximum_minimum_nights                        8628 non-null   object \n",
      " 44  minimum_maximum_nights                        8628 non-null   object \n",
      " 45  maximum_maximum_nights                        8628 non-null   object \n",
      " 46  minimum_nights_avg_ntm                        8628 non-null   object \n",
      " 47  maximum_nights_avg_ntm                        8628 non-null   object \n",
      " 48  calendar_updated                              8628 non-null   object \n",
      " 49  has_availability                              8628 non-null   object \n",
      " 50  availability_30                               8628 non-null   int64  \n",
      " 51  availability_60                               8628 non-null   int64  \n",
      " 52  availability_90                               8628 non-null   int64  \n",
      " 53  availability_365                              8628 non-null   int64  \n",
      " 54  calendar_last_scraped                         8628 non-null   object \n",
      " 55  number_of_reviews                             8628 non-null   int64  \n",
      " 56  number_of_reviews_ltm                         8628 non-null   int64  \n",
      " 57  number_of_reviews_l30d                        8628 non-null   int64  \n",
      " 58  first_review                                  8628 non-null   object \n",
      " 59  last_review                                   8628 non-null   object \n",
      " 60  review_scores_rating                          8628 non-null   object \n",
      " 61  review_scores_accuracy                        8628 non-null   object \n",
      " 62  review_scores_cleanliness                     8628 non-null   object \n",
      " 63  review_scores_checkin                         8628 non-null   object \n",
      " 64  review_scores_communication                   8628 non-null   object \n",
      " 65  review_scores_location                        8628 non-null   object \n",
      " 66  review_scores_value                           8628 non-null   object \n",
      " 67  license                                       8628 non-null   object \n",
      " 68  instant_bookable                              8628 non-null   object \n",
      " 69  calculated_host_listings_count                8628 non-null   int64  \n",
      " 70  calculated_host_listings_count_entire_homes   8628 non-null   int64  \n",
      " 71  calculated_host_listings_count_private_rooms  8628 non-null   int64  \n",
      " 72  calculated_host_listings_count_shared_rooms   8628 non-null   int64  \n",
      " 73  reviews_per_month                             8628 non-null   object \n",
      "dtypes: float64(2), int64(17), object(55)\n",
      "memory usage: 4.9+ MB\n"
     ]
    }
   ],
   "source": [
    "data.info()"
   ]
  },
  {
   "cell_type": "markdown",
   "id": "150e14d1",
   "metadata": {},
   "source": [
    "There are 8,628 records in the `listings` table. There are missing values in the data although they were filled with N/A.\n",
    "\n",
    "Let's see a sampling of the data:"
   ]
  },
  {
   "cell_type": "code",
   "execution_count": 4,
   "id": "c08b14af",
   "metadata": {
    "scrolled": true
   },
   "outputs": [
    {
     "data": {
      "text/html": [
       "<div>\n",
       "<style scoped>\n",
       "    .dataframe tbody tr th:only-of-type {\n",
       "        vertical-align: middle;\n",
       "    }\n",
       "\n",
       "    .dataframe tbody tr th {\n",
       "        vertical-align: top;\n",
       "    }\n",
       "\n",
       "    .dataframe thead th {\n",
       "        text-align: right;\n",
       "    }\n",
       "</style>\n",
       "<table border=\"1\" class=\"dataframe\">\n",
       "  <thead>\n",
       "    <tr style=\"text-align: right;\">\n",
       "      <th></th>\n",
       "      <th>id</th>\n",
       "      <th>listing_url</th>\n",
       "      <th>scrape_id</th>\n",
       "      <th>last_scraped</th>\n",
       "      <th>name</th>\n",
       "      <th>description</th>\n",
       "      <th>neighborhood_overview</th>\n",
       "      <th>picture_url</th>\n",
       "      <th>host_id</th>\n",
       "      <th>host_url</th>\n",
       "      <th>...</th>\n",
       "      <th>review_scores_communication</th>\n",
       "      <th>review_scores_location</th>\n",
       "      <th>review_scores_value</th>\n",
       "      <th>license</th>\n",
       "      <th>instant_bookable</th>\n",
       "      <th>calculated_host_listings_count</th>\n",
       "      <th>calculated_host_listings_count_entire_homes</th>\n",
       "      <th>calculated_host_listings_count_private_rooms</th>\n",
       "      <th>calculated_host_listings_count_shared_rooms</th>\n",
       "      <th>reviews_per_month</th>\n",
       "    </tr>\n",
       "  </thead>\n",
       "  <tbody>\n",
       "    <tr>\n",
       "      <th>0</th>\n",
       "      <td>22229408</td>\n",
       "      <td>https://www.airbnb.com/rooms/22229408</td>\n",
       "      <td>20230319041206</td>\n",
       "      <td>2023-03-19</td>\n",
       "      <td>Explorer's Paradise: Near Train, Bus &amp; Bike Share</td>\n",
       "      <td>Welcome to your perfect urban escape in the Na...</td>\n",
       "      <td>My home is located in the Edgewood neighborhoo...</td>\n",
       "      <td>https://a0.muscache.com/pictures/8e49b7bc-a851...</td>\n",
       "      <td>120875011</td>\n",
       "      <td>https://www.airbnb.com/users/show/120875011</td>\n",
       "      <td>...</td>\n",
       "      <td>4.85</td>\n",
       "      <td>4.75</td>\n",
       "      <td>4.75</td>\n",
       "      <td></td>\n",
       "      <td>f</td>\n",
       "      <td>1</td>\n",
       "      <td>0</td>\n",
       "      <td>1</td>\n",
       "      <td>0</td>\n",
       "      <td>0.32</td>\n",
       "    </tr>\n",
       "    <tr>\n",
       "      <th>1</th>\n",
       "      <td>46951758</td>\n",
       "      <td>https://www.airbnb.com/rooms/46951758</td>\n",
       "      <td>20230319041206</td>\n",
       "      <td>2023-03-19</td>\n",
       "      <td>Boutique Style Home - Rooftop w/Breathtaking V...</td>\n",
       "      <td>Explore or get settled in this artsy modern ro...</td>\n",
       "      <td>Food &amp; Drinks: Starbucks, Mama's Pizza, Busboy...</td>\n",
       "      <td>https://a0.muscache.com/pictures/miso/Hosting-...</td>\n",
       "      <td>55133178</td>\n",
       "      <td>https://www.airbnb.com/users/show/55133178</td>\n",
       "      <td>...</td>\n",
       "      <td>4.82</td>\n",
       "      <td>4.51</td>\n",
       "      <td>4.8</td>\n",
       "      <td>Hosted License: 5007242201002380\\nUnhosted Lic...</td>\n",
       "      <td>f</td>\n",
       "      <td>1</td>\n",
       "      <td>1</td>\n",
       "      <td>0</td>\n",
       "      <td>0</td>\n",
       "      <td>1.87</td>\n",
       "    </tr>\n",
       "    <tr>\n",
       "      <th>2</th>\n",
       "      <td>580379638076900630</td>\n",
       "      <td>https://www.airbnb.com/rooms/580379638076900630</td>\n",
       "      <td>20230319041206</td>\n",
       "      <td>2023-03-19</td>\n",
       "      <td>Sojourn | Penthouse | Private Outdoor Space | ...</td>\n",
       "      <td>Boutique building in one of DC's best neighbor...</td>\n",
       "      <td>Dupont Circle stands out as a cosmopolitan jew...</td>\n",
       "      <td>https://a0.muscache.com/pictures/prohost-api/H...</td>\n",
       "      <td>39930655</td>\n",
       "      <td>https://www.airbnb.com/users/show/39930655</td>\n",
       "      <td>...</td>\n",
       "      <td></td>\n",
       "      <td></td>\n",
       "      <td></td>\n",
       "      <td></td>\n",
       "      <td>f</td>\n",
       "      <td>173</td>\n",
       "      <td>154</td>\n",
       "      <td>13</td>\n",
       "      <td>5</td>\n",
       "      <td></td>\n",
       "    </tr>\n",
       "    <tr>\n",
       "      <th>3</th>\n",
       "      <td>594971943284098653</td>\n",
       "      <td>https://www.airbnb.com/rooms/594971943284098653</td>\n",
       "      <td>20230319041206</td>\n",
       "      <td>2023-03-19</td>\n",
       "      <td>Quaint 1-bedroom apartment with outdoor Patio</td>\n",
       "      <td>Welcome to the center of DC. Half-way between ...</td>\n",
       "      <td></td>\n",
       "      <td>https://a0.muscache.com/pictures/5746a258-d2f7...</td>\n",
       "      <td>351398058</td>\n",
       "      <td>https://www.airbnb.com/users/show/351398058</td>\n",
       "      <td>...</td>\n",
       "      <td>5.0</td>\n",
       "      <td>4.73</td>\n",
       "      <td>4.73</td>\n",
       "      <td>Hosted License: 5007242201002106\\nUnhosted Lic...</td>\n",
       "      <td>t</td>\n",
       "      <td>3</td>\n",
       "      <td>2</td>\n",
       "      <td>1</td>\n",
       "      <td>0</td>\n",
       "      <td>1.2</td>\n",
       "    </tr>\n",
       "    <tr>\n",
       "      <th>4</th>\n",
       "      <td>54371126</td>\n",
       "      <td>https://www.airbnb.com/rooms/54371126</td>\n",
       "      <td>20230319041206</td>\n",
       "      <td>2023-03-19</td>\n",
       "      <td>Waterfront Two Bedroom Apartment In a Brand Ne...</td>\n",
       "      <td>Located in Washington in the District of Colum...</td>\n",
       "      <td></td>\n",
       "      <td>https://a0.muscache.com/pictures/prohost-api/H...</td>\n",
       "      <td>395672427</td>\n",
       "      <td>https://www.airbnb.com/users/show/395672427</td>\n",
       "      <td>...</td>\n",
       "      <td>5.0</td>\n",
       "      <td>5.0</td>\n",
       "      <td>5.0</td>\n",
       "      <td>Unhosted License: 5007242100000024</td>\n",
       "      <td>t</td>\n",
       "      <td>7</td>\n",
       "      <td>7</td>\n",
       "      <td>0</td>\n",
       "      <td>0</td>\n",
       "      <td>0.48</td>\n",
       "    </tr>\n",
       "  </tbody>\n",
       "</table>\n",
       "<p>5 rows × 74 columns</p>\n",
       "</div>"
      ],
      "text/plain": [
       "                   id                                      listing_url  \\\n",
       "0            22229408            https://www.airbnb.com/rooms/22229408   \n",
       "1            46951758            https://www.airbnb.com/rooms/46951758   \n",
       "2  580379638076900630  https://www.airbnb.com/rooms/580379638076900630   \n",
       "3  594971943284098653  https://www.airbnb.com/rooms/594971943284098653   \n",
       "4            54371126            https://www.airbnb.com/rooms/54371126   \n",
       "\n",
       "        scrape_id last_scraped  \\\n",
       "0  20230319041206   2023-03-19   \n",
       "1  20230319041206   2023-03-19   \n",
       "2  20230319041206   2023-03-19   \n",
       "3  20230319041206   2023-03-19   \n",
       "4  20230319041206   2023-03-19   \n",
       "\n",
       "                                                name  \\\n",
       "0  Explorer's Paradise: Near Train, Bus & Bike Share   \n",
       "1  Boutique Style Home - Rooftop w/Breathtaking V...   \n",
       "2  Sojourn | Penthouse | Private Outdoor Space | ...   \n",
       "3      Quaint 1-bedroom apartment with outdoor Patio   \n",
       "4  Waterfront Two Bedroom Apartment In a Brand Ne...   \n",
       "\n",
       "                                         description  \\\n",
       "0  Welcome to your perfect urban escape in the Na...   \n",
       "1  Explore or get settled in this artsy modern ro...   \n",
       "2  Boutique building in one of DC's best neighbor...   \n",
       "3  Welcome to the center of DC. Half-way between ...   \n",
       "4  Located in Washington in the District of Colum...   \n",
       "\n",
       "                               neighborhood_overview  \\\n",
       "0  My home is located in the Edgewood neighborhoo...   \n",
       "1  Food & Drinks: Starbucks, Mama's Pizza, Busboy...   \n",
       "2  Dupont Circle stands out as a cosmopolitan jew...   \n",
       "3                                                      \n",
       "4                                                      \n",
       "\n",
       "                                         picture_url    host_id  \\\n",
       "0  https://a0.muscache.com/pictures/8e49b7bc-a851...  120875011   \n",
       "1  https://a0.muscache.com/pictures/miso/Hosting-...   55133178   \n",
       "2  https://a0.muscache.com/pictures/prohost-api/H...   39930655   \n",
       "3  https://a0.muscache.com/pictures/5746a258-d2f7...  351398058   \n",
       "4  https://a0.muscache.com/pictures/prohost-api/H...  395672427   \n",
       "\n",
       "                                      host_url  ...  \\\n",
       "0  https://www.airbnb.com/users/show/120875011  ...   \n",
       "1   https://www.airbnb.com/users/show/55133178  ...   \n",
       "2   https://www.airbnb.com/users/show/39930655  ...   \n",
       "3  https://www.airbnb.com/users/show/351398058  ...   \n",
       "4  https://www.airbnb.com/users/show/395672427  ...   \n",
       "\n",
       "  review_scores_communication review_scores_location review_scores_value  \\\n",
       "0                        4.85                   4.75                4.75   \n",
       "1                        4.82                   4.51                 4.8   \n",
       "2                                                                          \n",
       "3                         5.0                   4.73                4.73   \n",
       "4                         5.0                    5.0                 5.0   \n",
       "\n",
       "                                             license instant_bookable  \\\n",
       "0                                                                   f   \n",
       "1  Hosted License: 5007242201002380\\nUnhosted Lic...                f   \n",
       "2                                                                   f   \n",
       "3  Hosted License: 5007242201002106\\nUnhosted Lic...                t   \n",
       "4                 Unhosted License: 5007242100000024                t   \n",
       "\n",
       "  calculated_host_listings_count calculated_host_listings_count_entire_homes  \\\n",
       "0                              1                                           0   \n",
       "1                              1                                           1   \n",
       "2                            173                                         154   \n",
       "3                              3                                           2   \n",
       "4                              7                                           7   \n",
       "\n",
       "  calculated_host_listings_count_private_rooms  \\\n",
       "0                                            1   \n",
       "1                                            0   \n",
       "2                                           13   \n",
       "3                                            1   \n",
       "4                                            0   \n",
       "\n",
       "  calculated_host_listings_count_shared_rooms reviews_per_month  \n",
       "0                                           0              0.32  \n",
       "1                                           0              1.87  \n",
       "2                                           5                    \n",
       "3                                           0               1.2  \n",
       "4                                           0              0.48  \n",
       "\n",
       "[5 rows x 74 columns]"
      ]
     },
     "execution_count": 4,
     "metadata": {},
     "output_type": "execute_result"
    }
   ],
   "source": [
    "data.head()"
   ]
  },
  {
   "cell_type": "code",
   "execution_count": 5,
   "id": "92133f75",
   "metadata": {
    "scrolled": true
   },
   "outputs": [
    {
     "data": {
      "text/html": [
       "<div>\n",
       "<style scoped>\n",
       "    .dataframe tbody tr th:only-of-type {\n",
       "        vertical-align: middle;\n",
       "    }\n",
       "\n",
       "    .dataframe tbody tr th {\n",
       "        vertical-align: top;\n",
       "    }\n",
       "\n",
       "    .dataframe thead th {\n",
       "        text-align: right;\n",
       "    }\n",
       "</style>\n",
       "<table border=\"1\" class=\"dataframe\">\n",
       "  <thead>\n",
       "    <tr style=\"text-align: right;\">\n",
       "      <th></th>\n",
       "      <th>price</th>\n",
       "      <th>host_response_rate</th>\n",
       "      <th>host_acceptance_rate</th>\n",
       "    </tr>\n",
       "  </thead>\n",
       "  <tbody>\n",
       "    <tr>\n",
       "      <th>0</th>\n",
       "      <td>$20.00</td>\n",
       "      <td>N/A</td>\n",
       "      <td>N/A</td>\n",
       "    </tr>\n",
       "    <tr>\n",
       "      <th>1</th>\n",
       "      <td>$185.00</td>\n",
       "      <td>100%</td>\n",
       "      <td>100%</td>\n",
       "    </tr>\n",
       "    <tr>\n",
       "      <th>2</th>\n",
       "      <td>$221.00</td>\n",
       "      <td>99%</td>\n",
       "      <td>100%</td>\n",
       "    </tr>\n",
       "    <tr>\n",
       "      <th>3</th>\n",
       "      <td>$142.00</td>\n",
       "      <td>100%</td>\n",
       "      <td>100%</td>\n",
       "    </tr>\n",
       "    <tr>\n",
       "      <th>4</th>\n",
       "      <td>$398.00</td>\n",
       "      <td>N/A</td>\n",
       "      <td>N/A</td>\n",
       "    </tr>\n",
       "  </tbody>\n",
       "</table>\n",
       "</div>"
      ],
      "text/plain": [
       "     price host_response_rate host_acceptance_rate\n",
       "0   $20.00                N/A                  N/A\n",
       "1  $185.00               100%                 100%\n",
       "2  $221.00                99%                 100%\n",
       "3  $142.00               100%                 100%\n",
       "4  $398.00                N/A                  N/A"
      ]
     },
     "execution_count": 5,
     "metadata": {},
     "output_type": "execute_result"
    }
   ],
   "source": [
    "eda_dkn = data.loc[:,[\"price\", \"host_response_rate\", \"host_acceptance_rate\"]]\n",
    "eda_dkn.head()"
   ]
  },
  {
   "cell_type": "code",
   "execution_count": 6,
   "id": "e927f4eb",
   "metadata": {},
   "outputs": [
    {
     "name": "stdout",
     "output_type": "stream",
     "text": [
      "<class 'pandas.core.frame.DataFrame'>\n",
      "RangeIndex: 8628 entries, 0 to 8627\n",
      "Data columns (total 3 columns):\n",
      " #   Column                Non-Null Count  Dtype \n",
      "---  ------                --------------  ----- \n",
      " 0   price                 8628 non-null   object\n",
      " 1   host_response_rate    8628 non-null   object\n",
      " 2   host_acceptance_rate  8628 non-null   object\n",
      "dtypes: object(3)\n",
      "memory usage: 202.3+ KB\n"
     ]
    }
   ],
   "source": [
    "eda_dkn.info()"
   ]
  },
  {
   "cell_type": "markdown",
   "id": "849a54ab",
   "metadata": {},
   "source": [
    "We then convert categorical variables `price`, `host_response_rate`, and `host_acceptance_rate` into numerical variables."
   ]
  },
  {
   "cell_type": "markdown",
   "id": "dbf72909",
   "metadata": {},
   "source": [
    "We first remove `$` and `,` from the column of `price` and `%` from the columns of `host_response_rate` and `host_acceptance_rate`:"
   ]
  },
  {
   "cell_type": "code",
   "execution_count": 7,
   "id": "c5a6ad68",
   "metadata": {
    "scrolled": true
   },
   "outputs": [
    {
     "data": {
      "text/html": [
       "<div>\n",
       "<style scoped>\n",
       "    .dataframe tbody tr th:only-of-type {\n",
       "        vertical-align: middle;\n",
       "    }\n",
       "\n",
       "    .dataframe tbody tr th {\n",
       "        vertical-align: top;\n",
       "    }\n",
       "\n",
       "    .dataframe thead th {\n",
       "        text-align: right;\n",
       "    }\n",
       "</style>\n",
       "<table border=\"1\" class=\"dataframe\">\n",
       "  <thead>\n",
       "    <tr style=\"text-align: right;\">\n",
       "      <th></th>\n",
       "      <th>price</th>\n",
       "      <th>host_response_rate</th>\n",
       "      <th>host_acceptance_rate</th>\n",
       "    </tr>\n",
       "  </thead>\n",
       "  <tbody>\n",
       "    <tr>\n",
       "      <th>0</th>\n",
       "      <td>20.00</td>\n",
       "      <td>N/A</td>\n",
       "      <td>N/A</td>\n",
       "    </tr>\n",
       "    <tr>\n",
       "      <th>1</th>\n",
       "      <td>185.00</td>\n",
       "      <td>100</td>\n",
       "      <td>100</td>\n",
       "    </tr>\n",
       "    <tr>\n",
       "      <th>2</th>\n",
       "      <td>221.00</td>\n",
       "      <td>99</td>\n",
       "      <td>100</td>\n",
       "    </tr>\n",
       "    <tr>\n",
       "      <th>3</th>\n",
       "      <td>142.00</td>\n",
       "      <td>100</td>\n",
       "      <td>100</td>\n",
       "    </tr>\n",
       "    <tr>\n",
       "      <th>4</th>\n",
       "      <td>398.00</td>\n",
       "      <td>N/A</td>\n",
       "      <td>N/A</td>\n",
       "    </tr>\n",
       "  </tbody>\n",
       "</table>\n",
       "</div>"
      ],
      "text/plain": [
       "    price host_response_rate host_acceptance_rate\n",
       "0   20.00                N/A                  N/A\n",
       "1  185.00                100                  100\n",
       "2  221.00                 99                  100\n",
       "3  142.00                100                  100\n",
       "4  398.00                N/A                  N/A"
      ]
     },
     "execution_count": 7,
     "metadata": {},
     "output_type": "execute_result"
    }
   ],
   "source": [
    "eda_dkn['price'] = eda_dkn['price'].str.replace('$', '')\n",
    "eda_dkn['price'] = eda_dkn['price'].str.replace(',', '')\n",
    "eda_dkn['host_response_rate'] = eda_dkn['host_response_rate'].str.replace('%', '')\n",
    "eda_dkn['host_acceptance_rate'] = eda_dkn['host_acceptance_rate'].str.replace('%', '')\n",
    "eda_dkn.head()"
   ]
  },
  {
   "cell_type": "markdown",
   "id": "2bd89929",
   "metadata": {},
   "source": [
    "We then look at how many `N/A`s are in these columns:"
   ]
  },
  {
   "cell_type": "code",
   "execution_count": 8,
   "id": "01445c4d",
   "metadata": {},
   "outputs": [
    {
     "data": {
      "text/plain": [
       "0"
      ]
     },
     "execution_count": 8,
     "metadata": {},
     "output_type": "execute_result"
    }
   ],
   "source": [
    "eda_dkn['price'].str.count('N/A').sum()"
   ]
  },
  {
   "cell_type": "code",
   "execution_count": 9,
   "id": "ec620751",
   "metadata": {},
   "outputs": [
    {
     "data": {
      "text/plain": [
       "1473"
      ]
     },
     "execution_count": 9,
     "metadata": {},
     "output_type": "execute_result"
    }
   ],
   "source": [
    "eda_dkn['host_response_rate'].str.count('N/A').sum()"
   ]
  },
  {
   "cell_type": "code",
   "execution_count": 10,
   "id": "3d71d810",
   "metadata": {},
   "outputs": [
    {
     "data": {
      "text/plain": [
       "1073"
      ]
     },
     "execution_count": 10,
     "metadata": {},
     "output_type": "execute_result"
    }
   ],
   "source": [
    "eda_dkn['host_acceptance_rate'].str.count('N/A').sum()"
   ]
  },
  {
   "cell_type": "markdown",
   "id": "74d64fe7",
   "metadata": {},
   "source": [
    "We then convert `price`, `host_response_rate`, and `host_acceptance_rate` to floats:"
   ]
  },
  {
   "cell_type": "code",
   "execution_count": 11,
   "id": "e1c00153",
   "metadata": {
    "scrolled": true
   },
   "outputs": [
    {
     "data": {
      "text/html": [
       "<div>\n",
       "<style scoped>\n",
       "    .dataframe tbody tr th:only-of-type {\n",
       "        vertical-align: middle;\n",
       "    }\n",
       "\n",
       "    .dataframe tbody tr th {\n",
       "        vertical-align: top;\n",
       "    }\n",
       "\n",
       "    .dataframe thead th {\n",
       "        text-align: right;\n",
       "    }\n",
       "</style>\n",
       "<table border=\"1\" class=\"dataframe\">\n",
       "  <thead>\n",
       "    <tr style=\"text-align: right;\">\n",
       "      <th></th>\n",
       "      <th>price</th>\n",
       "      <th>host_response_rate</th>\n",
       "      <th>host_acceptance_rate</th>\n",
       "    </tr>\n",
       "  </thead>\n",
       "  <tbody>\n",
       "    <tr>\n",
       "      <th>0</th>\n",
       "      <td>20.00</td>\n",
       "      <td></td>\n",
       "      <td></td>\n",
       "    </tr>\n",
       "    <tr>\n",
       "      <th>1</th>\n",
       "      <td>185.00</td>\n",
       "      <td>100</td>\n",
       "      <td>100</td>\n",
       "    </tr>\n",
       "    <tr>\n",
       "      <th>2</th>\n",
       "      <td>221.00</td>\n",
       "      <td>99</td>\n",
       "      <td>100</td>\n",
       "    </tr>\n",
       "    <tr>\n",
       "      <th>3</th>\n",
       "      <td>142.00</td>\n",
       "      <td>100</td>\n",
       "      <td>100</td>\n",
       "    </tr>\n",
       "    <tr>\n",
       "      <th>4</th>\n",
       "      <td>398.00</td>\n",
       "      <td></td>\n",
       "      <td></td>\n",
       "    </tr>\n",
       "  </tbody>\n",
       "</table>\n",
       "</div>"
      ],
      "text/plain": [
       "    price host_response_rate host_acceptance_rate\n",
       "0   20.00                                        \n",
       "1  185.00                100                  100\n",
       "2  221.00                 99                  100\n",
       "3  142.00                100                  100\n",
       "4  398.00                                        "
      ]
     },
     "execution_count": 11,
     "metadata": {},
     "output_type": "execute_result"
    }
   ],
   "source": [
    "eda_dkn['host_response_rate'] = eda_dkn['host_response_rate'].str.replace('N/A', '')\n",
    "eda_dkn['host_acceptance_rate'] = eda_dkn['host_acceptance_rate'].str.replace('N/A', '')\n",
    "eda_dkn.head()"
   ]
  },
  {
   "cell_type": "code",
   "execution_count": 12,
   "id": "01ceab29",
   "metadata": {},
   "outputs": [
    {
     "name": "stdout",
     "output_type": "stream",
     "text": [
      "<class 'pandas.core.frame.DataFrame'>\n",
      "RangeIndex: 8628 entries, 0 to 8627\n",
      "Data columns (total 3 columns):\n",
      " #   Column                Non-Null Count  Dtype  \n",
      "---  ------                --------------  -----  \n",
      " 0   price                 8628 non-null   float64\n",
      " 1   host_response_rate    7135 non-null   float64\n",
      " 2   host_acceptance_rate  7535 non-null   float64\n",
      "dtypes: float64(3)\n",
      "memory usage: 202.3 KB\n"
     ]
    }
   ],
   "source": [
    "for price in eda_dkn.columns:\n",
    "    eda_dkn[price] = pd.to_numeric(eda_dkn[price], errors='coerce')\n",
    "\n",
    "eda_dkn.info()"
   ]
  },
  {
   "cell_type": "code",
   "execution_count": 13,
   "id": "9f5fbdf9",
   "metadata": {
    "scrolled": true
   },
   "outputs": [
    {
     "data": {
      "text/html": [
       "<div>\n",
       "<style scoped>\n",
       "    .dataframe tbody tr th:only-of-type {\n",
       "        vertical-align: middle;\n",
       "    }\n",
       "\n",
       "    .dataframe tbody tr th {\n",
       "        vertical-align: top;\n",
       "    }\n",
       "\n",
       "    .dataframe thead th {\n",
       "        text-align: right;\n",
       "    }\n",
       "</style>\n",
       "<table border=\"1\" class=\"dataframe\">\n",
       "  <thead>\n",
       "    <tr style=\"text-align: right;\">\n",
       "      <th></th>\n",
       "      <th>price</th>\n",
       "      <th>host_response_rate</th>\n",
       "      <th>host_acceptance_rate</th>\n",
       "    </tr>\n",
       "  </thead>\n",
       "  <tbody>\n",
       "    <tr>\n",
       "      <th>0</th>\n",
       "      <td>20.0</td>\n",
       "      <td>96.885774</td>\n",
       "      <td>88.742004</td>\n",
       "    </tr>\n",
       "    <tr>\n",
       "      <th>1</th>\n",
       "      <td>185.0</td>\n",
       "      <td>100.000000</td>\n",
       "      <td>100.000000</td>\n",
       "    </tr>\n",
       "    <tr>\n",
       "      <th>2</th>\n",
       "      <td>221.0</td>\n",
       "      <td>99.000000</td>\n",
       "      <td>100.000000</td>\n",
       "    </tr>\n",
       "    <tr>\n",
       "      <th>3</th>\n",
       "      <td>142.0</td>\n",
       "      <td>100.000000</td>\n",
       "      <td>100.000000</td>\n",
       "    </tr>\n",
       "    <tr>\n",
       "      <th>4</th>\n",
       "      <td>398.0</td>\n",
       "      <td>96.885774</td>\n",
       "      <td>88.742004</td>\n",
       "    </tr>\n",
       "  </tbody>\n",
       "</table>\n",
       "</div>"
      ],
      "text/plain": [
       "   price  host_response_rate  host_acceptance_rate\n",
       "0   20.0           96.885774             88.742004\n",
       "1  185.0          100.000000            100.000000\n",
       "2  221.0           99.000000            100.000000\n",
       "3  142.0          100.000000            100.000000\n",
       "4  398.0           96.885774             88.742004"
      ]
     },
     "execution_count": 13,
     "metadata": {},
     "output_type": "execute_result"
    }
   ],
   "source": [
    "imputer1 = SimpleImputer(strategy='mean', missing_values=np.nan)\n",
    "imputer1 = imputer1.fit(eda_dkn[['host_response_rate']])\n",
    "eda_dkn['host_response_rate'] = imputer1.transform(eda_dkn[['host_response_rate']])\n",
    "\n",
    "imputer2 = imputer1.fit(eda_dkn[['host_acceptance_rate']])\n",
    "eda_dkn['host_acceptance_rate'] = imputer2.transform(eda_dkn[['host_acceptance_rate']])\n",
    "eda_dkn.head()"
   ]
  },
  {
   "cell_type": "markdown",
   "id": "19ca3fc0",
   "metadata": {},
   "source": [
    "Now we will add the categorical variable `host_response_time` to the dataframe:"
   ]
  },
  {
   "cell_type": "code",
   "execution_count": 14,
   "id": "d597a67d",
   "metadata": {
    "scrolled": true
   },
   "outputs": [
    {
     "data": {
      "text/html": [
       "<div>\n",
       "<style scoped>\n",
       "    .dataframe tbody tr th:only-of-type {\n",
       "        vertical-align: middle;\n",
       "    }\n",
       "\n",
       "    .dataframe tbody tr th {\n",
       "        vertical-align: top;\n",
       "    }\n",
       "\n",
       "    .dataframe thead th {\n",
       "        text-align: right;\n",
       "    }\n",
       "</style>\n",
       "<table border=\"1\" class=\"dataframe\">\n",
       "  <thead>\n",
       "    <tr style=\"text-align: right;\">\n",
       "      <th></th>\n",
       "      <th>price</th>\n",
       "      <th>host_response_rate</th>\n",
       "      <th>host_acceptance_rate</th>\n",
       "      <th>host_response_time</th>\n",
       "    </tr>\n",
       "  </thead>\n",
       "  <tbody>\n",
       "    <tr>\n",
       "      <th>0</th>\n",
       "      <td>20.0</td>\n",
       "      <td>96.885774</td>\n",
       "      <td>88.742004</td>\n",
       "      <td>N/A</td>\n",
       "    </tr>\n",
       "    <tr>\n",
       "      <th>1</th>\n",
       "      <td>185.0</td>\n",
       "      <td>100.000000</td>\n",
       "      <td>100.000000</td>\n",
       "      <td>within an hour</td>\n",
       "    </tr>\n",
       "    <tr>\n",
       "      <th>2</th>\n",
       "      <td>221.0</td>\n",
       "      <td>99.000000</td>\n",
       "      <td>100.000000</td>\n",
       "      <td>within an hour</td>\n",
       "    </tr>\n",
       "    <tr>\n",
       "      <th>3</th>\n",
       "      <td>142.0</td>\n",
       "      <td>100.000000</td>\n",
       "      <td>100.000000</td>\n",
       "      <td>within an hour</td>\n",
       "    </tr>\n",
       "    <tr>\n",
       "      <th>4</th>\n",
       "      <td>398.0</td>\n",
       "      <td>96.885774</td>\n",
       "      <td>88.742004</td>\n",
       "      <td>N/A</td>\n",
       "    </tr>\n",
       "  </tbody>\n",
       "</table>\n",
       "</div>"
      ],
      "text/plain": [
       "   price  host_response_rate  host_acceptance_rate host_response_time\n",
       "0   20.0           96.885774             88.742004                N/A\n",
       "1  185.0          100.000000            100.000000     within an hour\n",
       "2  221.0           99.000000            100.000000     within an hour\n",
       "3  142.0          100.000000            100.000000     within an hour\n",
       "4  398.0           96.885774             88.742004                N/A"
      ]
     },
     "execution_count": 14,
     "metadata": {},
     "output_type": "execute_result"
    }
   ],
   "source": [
    "eda_dkn['host_response_time'] = data['host_response_time']\n",
    "eda_dkn.head()"
   ]
  },
  {
   "cell_type": "code",
   "execution_count": 15,
   "id": "ae33e98b",
   "metadata": {},
   "outputs": [
    {
     "name": "stdout",
     "output_type": "stream",
     "text": [
      "<class 'pandas.core.frame.DataFrame'>\n",
      "RangeIndex: 8628 entries, 0 to 8627\n",
      "Data columns (total 4 columns):\n",
      " #   Column                Non-Null Count  Dtype  \n",
      "---  ------                --------------  -----  \n",
      " 0   price                 8628 non-null   float64\n",
      " 1   host_response_rate    8628 non-null   float64\n",
      " 2   host_acceptance_rate  8628 non-null   float64\n",
      " 3   host_response_time    8628 non-null   object \n",
      "dtypes: float64(3), object(1)\n",
      "memory usage: 269.8+ KB\n"
     ]
    }
   ],
   "source": [
    "eda_dkn.info()"
   ]
  },
  {
   "cell_type": "markdown",
   "id": "216972ae",
   "metadata": {},
   "source": [
    "Now we will replace missing values in `host_response_time` with the most frequent value:"
   ]
  },
  {
   "cell_type": "code",
   "execution_count": 16,
   "id": "b93f4dd2",
   "metadata": {},
   "outputs": [
    {
     "data": {
      "text/html": [
       "<div>\n",
       "<style scoped>\n",
       "    .dataframe tbody tr th:only-of-type {\n",
       "        vertical-align: middle;\n",
       "    }\n",
       "\n",
       "    .dataframe tbody tr th {\n",
       "        vertical-align: top;\n",
       "    }\n",
       "\n",
       "    .dataframe thead th {\n",
       "        text-align: right;\n",
       "    }\n",
       "</style>\n",
       "<table border=\"1\" class=\"dataframe\">\n",
       "  <thead>\n",
       "    <tr style=\"text-align: right;\">\n",
       "      <th></th>\n",
       "      <th>price</th>\n",
       "      <th>host_response_rate</th>\n",
       "      <th>host_acceptance_rate</th>\n",
       "      <th>host_response_time</th>\n",
       "    </tr>\n",
       "  </thead>\n",
       "  <tbody>\n",
       "    <tr>\n",
       "      <th>0</th>\n",
       "      <td>20.0</td>\n",
       "      <td>96.885774</td>\n",
       "      <td>88.742004</td>\n",
       "      <td></td>\n",
       "    </tr>\n",
       "    <tr>\n",
       "      <th>1</th>\n",
       "      <td>185.0</td>\n",
       "      <td>100.000000</td>\n",
       "      <td>100.000000</td>\n",
       "      <td>within an hour</td>\n",
       "    </tr>\n",
       "    <tr>\n",
       "      <th>2</th>\n",
       "      <td>221.0</td>\n",
       "      <td>99.000000</td>\n",
       "      <td>100.000000</td>\n",
       "      <td>within an hour</td>\n",
       "    </tr>\n",
       "    <tr>\n",
       "      <th>3</th>\n",
       "      <td>142.0</td>\n",
       "      <td>100.000000</td>\n",
       "      <td>100.000000</td>\n",
       "      <td>within an hour</td>\n",
       "    </tr>\n",
       "    <tr>\n",
       "      <th>4</th>\n",
       "      <td>398.0</td>\n",
       "      <td>96.885774</td>\n",
       "      <td>88.742004</td>\n",
       "      <td></td>\n",
       "    </tr>\n",
       "  </tbody>\n",
       "</table>\n",
       "</div>"
      ],
      "text/plain": [
       "   price  host_response_rate  host_acceptance_rate host_response_time\n",
       "0   20.0           96.885774             88.742004                   \n",
       "1  185.0          100.000000            100.000000     within an hour\n",
       "2  221.0           99.000000            100.000000     within an hour\n",
       "3  142.0          100.000000            100.000000     within an hour\n",
       "4  398.0           96.885774             88.742004                   "
      ]
     },
     "execution_count": 16,
     "metadata": {},
     "output_type": "execute_result"
    }
   ],
   "source": [
    "eda_dkn['host_response_time'] = eda_dkn['host_response_time'].str.replace('N/A', '')\n",
    "eda_dkn.head()"
   ]
  },
  {
   "cell_type": "code",
   "execution_count": 17,
   "id": "e8c27241",
   "metadata": {},
   "outputs": [
    {
     "data": {
      "text/html": [
       "<div>\n",
       "<style scoped>\n",
       "    .dataframe tbody tr th:only-of-type {\n",
       "        vertical-align: middle;\n",
       "    }\n",
       "\n",
       "    .dataframe tbody tr th {\n",
       "        vertical-align: top;\n",
       "    }\n",
       "\n",
       "    .dataframe thead th {\n",
       "        text-align: right;\n",
       "    }\n",
       "</style>\n",
       "<table border=\"1\" class=\"dataframe\">\n",
       "  <thead>\n",
       "    <tr style=\"text-align: right;\">\n",
       "      <th></th>\n",
       "      <th>price</th>\n",
       "      <th>host_response_rate</th>\n",
       "      <th>host_acceptance_rate</th>\n",
       "      <th>host_response_time</th>\n",
       "    </tr>\n",
       "  </thead>\n",
       "  <tbody>\n",
       "    <tr>\n",
       "      <th>0</th>\n",
       "      <td>20.0</td>\n",
       "      <td>96.885774</td>\n",
       "      <td>88.742004</td>\n",
       "      <td></td>\n",
       "    </tr>\n",
       "    <tr>\n",
       "      <th>1</th>\n",
       "      <td>185.0</td>\n",
       "      <td>100.000000</td>\n",
       "      <td>100.000000</td>\n",
       "      <td>within an hour</td>\n",
       "    </tr>\n",
       "    <tr>\n",
       "      <th>2</th>\n",
       "      <td>221.0</td>\n",
       "      <td>99.000000</td>\n",
       "      <td>100.000000</td>\n",
       "      <td>within an hour</td>\n",
       "    </tr>\n",
       "    <tr>\n",
       "      <th>3</th>\n",
       "      <td>142.0</td>\n",
       "      <td>100.000000</td>\n",
       "      <td>100.000000</td>\n",
       "      <td>within an hour</td>\n",
       "    </tr>\n",
       "    <tr>\n",
       "      <th>4</th>\n",
       "      <td>398.0</td>\n",
       "      <td>96.885774</td>\n",
       "      <td>88.742004</td>\n",
       "      <td></td>\n",
       "    </tr>\n",
       "  </tbody>\n",
       "</table>\n",
       "</div>"
      ],
      "text/plain": [
       "   price  host_response_rate  host_acceptance_rate host_response_time\n",
       "0   20.0           96.885774             88.742004                   \n",
       "1  185.0          100.000000            100.000000     within an hour\n",
       "2  221.0           99.000000            100.000000     within an hour\n",
       "3  142.0          100.000000            100.000000     within an hour\n",
       "4  398.0           96.885774             88.742004                   "
      ]
     },
     "execution_count": 17,
     "metadata": {},
     "output_type": "execute_result"
    }
   ],
   "source": [
    "imputer3 = SimpleImputer(missing_values=None, strategy='constant', fill_value='within an hour')\n",
    "imputer3 = imputer3.fit(eda_dkn[['host_response_time']])\n",
    "eda_dkn[['host_response_time']] = imputer3.transform(eda_dkn[['host_response_time']])\n",
    "eda_dkn.head()"
   ]
  },
  {
   "cell_type": "markdown",
   "id": "73fd7277",
   "metadata": {},
   "source": [
    "We decided not to fill in the missing values in host_response_time, since it will bring up bias. \n",
    "  \n",
    "Now we will conduct EDA:"
   ]
  },
  {
   "cell_type": "markdown",
   "id": "4df9ad78",
   "metadata": {
    "tags": []
   },
   "source": [
    "### Single Variables \n",
    "\n",
    "We will start with the single variable EDA of all features provided in the data. "
   ]
  },
  {
   "cell_type": "markdown",
   "id": "b5861477",
   "metadata": {},
   "source": [
    "#### price\n",
    "\n",
    "`price` is a numerical variable that measures the rent that the host listed. Let's get a sense of the range of this variable by looking at the summary statistics:"
   ]
  },
  {
   "cell_type": "code",
   "execution_count": 18,
   "id": "609a47a1",
   "metadata": {},
   "outputs": [
    {
     "data": {
      "text/plain": [
       "count    8628.000000\n",
       "mean      181.288711\n",
       "std       224.678136\n",
       "min         0.000000\n",
       "25%        85.000000\n",
       "50%       131.000000\n",
       "75%       207.000000\n",
       "max      7500.000000\n",
       "Name: price, dtype: float64"
      ]
     },
     "execution_count": 18,
     "metadata": {},
     "output_type": "execute_result"
    }
   ],
   "source": [
    "eda_dkn[\"price\"].describe()"
   ]
  },
  {
   "cell_type": "markdown",
   "id": "e02f985c",
   "metadata": {},
   "source": [
    "The variable is definitely skewed right. The mean is 181.3 and the median is 131.0. The 1st quartile is85 while the 3rd quartile is 207. Let's plot a histogram of the data using Freeman Diaconis bins: "
   ]
  },
  {
   "cell_type": "code",
   "execution_count": 19,
   "id": "1349b1b5",
   "metadata": {},
   "outputs": [],
   "source": [
    "def freeman_diaconis( data):\n",
    "    quartiles = stats.mstats.mquantiles( data, [0.25, 0.5, 0.75])\n",
    "    iqr = quartiles[2] - quartiles[ 0]\n",
    "    n = len( data)\n",
    "    h = 2.0 * (iqr/n**(1.0/3.0))\n",
    "    return int( h)"
   ]
  },
  {
   "cell_type": "code",
   "execution_count": 20,
   "id": "d38bdce6",
   "metadata": {},
   "outputs": [
    {
     "name": "stdout",
     "output_type": "stream",
     "text": [
      "Freeman Diaconis:  11\n"
     ]
    },
    {
     "data": {
      "image/png": "[encoded data removed]",
      "text/plain": [
       "<Figure size 1000x600 with 1 Axes>"
      ]
     },
     "metadata": {},
     "output_type": "display_data"
    }
   ],
   "source": [
    "h = freeman_diaconis(eda_dkn[\"price\"])\n",
    "print(\"Freeman Diaconis: \", h)\n",
    "mn = int(eda_dkn[\"price\"].min())\n",
    "mx = int(eda_dkn[\"price\"].max())\n",
    "bins = [i for i in range( mn, mx, h)]\n",
    "\n",
    "figure = plt.figure(figsize=(10, 6))\n",
    "\n",
    "axes = figure.add_subplot(1, 1, 1)\n",
    "axes.hist(eda_dkn[\"price\"],bins=bins, histtype='bar', color=\"DimGray\", ec='black')\n",
    "axes.set_title(\"price distribution - Freeman Diaconis\")\n",
    "axes.set_xlabel(\"price\")\n",
    "\n",
    "plt.show()\n",
    "plt.close()"
   ]
  },
  {
   "cell_type": "markdown",
   "id": "5eee37f0",
   "metadata": {},
   "source": [
    "The distribution of the data is skewed right. This suggests that in this database, the price of the Airbnb is mostly at the lower end which is cheaper. And it created this skewness. \n",
    "\n",
    "<a href=\"#EDA\">^ EDA</a>"
   ]
  },
  {
   "cell_type": "markdown",
   "id": "deabd1f8",
   "metadata": {},
   "source": [
    "#### host_response_time\n",
    "\n",
    "`host_response_time` is a categorical variable. More specifically, it is a variable that takes values of a few days or more, within a day, within a few hours, and within an hour. We can get a distribution of its values using `value_counts()`:"
   ]
  },
  {
   "cell_type": "code",
   "execution_count": 21,
   "id": "103ec63d",
   "metadata": {},
   "outputs": [
    {
     "data": {
      "text/plain": [
       "                      1493\n",
       "a few days or more      91\n",
       "within a day           562\n",
       "within a few hours    1099\n",
       "within an hour        5383\n",
       "Name: host_response_time, dtype: int64"
      ]
     },
     "execution_count": 21,
     "metadata": {},
     "output_type": "execute_result"
    }
   ],
   "source": [
    "eda_dkn[\"host_response_time\"].value_counts().sort_index()"
   ]
  },
  {
   "cell_type": "markdown",
   "id": "298f6e0d",
   "metadata": {},
   "source": [
    "Interestingly, the dataset has the highest number of within an hour, the second highest number of within a few hours, the 3rd highest number of with a day and the lowest as a few days or more. This suggests that the host tends to respond quickly in order to rent out their houses."
   ]
  },
  {
   "cell_type": "markdown",
   "id": "c56daca7",
   "metadata": {},
   "source": [
    "#### host_response_rate\n",
    "\n",
    "`host_response_rate` is a numerical variable that measures the percentages that the host will respond. We would expect that the price of the Airbnb will increase with the increase of the host_response_rate. Let's get a sense of the range of this variable by looking at the summary statistics:"
   ]
  },
  {
   "cell_type": "code",
   "execution_count": 22,
   "id": "31738791",
   "metadata": {},
   "outputs": [
    {
     "data": {
      "text/plain": [
       "count    8628.000000\n",
       "mean       96.885774\n",
       "std        10.176818\n",
       "min         0.000000\n",
       "25%        96.885774\n",
       "50%       100.000000\n",
       "75%       100.000000\n",
       "max       100.000000\n",
       "Name: host_response_rate, dtype: float64"
      ]
     },
     "execution_count": 22,
     "metadata": {},
     "output_type": "execute_result"
    }
   ],
   "source": [
    "eda_dkn[\"host_response_rate\"].describe()"
   ]
  },
  {
   "cell_type": "markdown",
   "id": "3bf47f7e",
   "metadata": {},
   "source": [
    "The minimum `host_response_rate` is 0 which means that the host never responded and the maximum is 100%. This is a big range which tells me that the variable is definitely skewed. The mean is 96.9 and the median is 100 which suggests a left skewness. Recall that when the mean < median, this suggest a left- skewed distribution. Let's plot a histogram of the data using Freeman Diaconis bins. The use of Freeman Diaconis bins allows us to select the width of the bins to be used in a histogram. "
   ]
  },
  {
   "cell_type": "code",
   "execution_count": 23,
   "id": "cf53195f",
   "metadata": {},
   "outputs": [
    {
     "name": "stdout",
     "output_type": "stream",
     "text": [
      "Freeman Diaconis:  0\n"
     ]
    }
   ],
   "source": [
    "h1 = freeman_diaconis(eda_dkn.host_response_rate)\n",
    "print(\"Freeman Diaconis: \", h1)"
   ]
  },
  {
   "cell_type": "markdown",
   "id": "91c2baec",
   "metadata": {},
   "source": [
    "Since the Freeman Diaconis width of bins is 0, we can not use it to make a histogram. Instead, we will use a different number for the bin sizes to look at the histograms of Rings data."
   ]
  },
  {
   "cell_type": "code",
   "execution_count": 24,
   "id": "fbc7936d",
   "metadata": {},
   "outputs": [
    {
     "data": {
      "image/png": "[encoded data removed]",
      "text/plain": [
       "<Figure size 1000x600 with 1 Axes>"
      ]
     },
     "metadata": {},
     "output_type": "display_data"
    }
   ],
   "source": [
    "# Ref: Fundamentals\n",
    "mn = int(eda_dkn.host_response_rate.min())\n",
    "mx = int(eda_dkn.host_response_rate.max())\n",
    "bins = [i for i in range( mn, mx, 1)]\n",
    "\n",
    "figure = plt.figure(figsize=(10, 6))\n",
    "\n",
    "axes = figure.add_subplot(1, 1, 1)\n",
    "axes.hist(eda_dkn.host_response_rate,bins=bins, color=\"DimGray\", edgecolor = \"white\")\n",
    "axes.set_title(\"host_response_rate distribution\")\n",
    "axes.set_xlabel(\"host_response_rate\")\n",
    "axes.grid()\n",
    "\n",
    "plt.show()\n",
    "plt.close()"
   ]
  },
  {
   "cell_type": "markdown",
   "id": "080254a4",
   "metadata": {},
   "source": [
    "The distribution of the data looks very much skewed left which makes some sense given if the host responds more, the price will go up.\n",
    "\n",
    "<a href=\"#EDA\">^ EDA</a>"
   ]
  },
  {
   "cell_type": "markdown",
   "id": "d98c807c",
   "metadata": {},
   "source": [
    "#### host_acceptance_rate\n",
    "\n",
    "`host_acceptance_rate` is a numerical variable that measures percentages of host accepts the requests. Similarly, we should expect that the price would go up with the increase of the host_acceptance_rate. Let's get a sense of the range of this variable by looking at the summary statistics:"
   ]
  },
  {
   "cell_type": "code",
   "execution_count": 25,
   "id": "62426134",
   "metadata": {},
   "outputs": [
    {
     "data": {
      "text/plain": [
       "count    8628.000000\n",
       "mean       88.742004\n",
       "std        18.887827\n",
       "min         0.000000\n",
       "25%        88.742004\n",
       "50%        97.000000\n",
       "75%       100.000000\n",
       "max       100.000000\n",
       "Name: host_acceptance_rate, dtype: float64"
      ]
     },
     "execution_count": 25,
     "metadata": {},
     "output_type": "execute_result"
    }
   ],
   "source": [
    "eda_dkn[\"host_acceptance_rate\"].describe()"
   ]
  },
  {
   "cell_type": "markdown",
   "id": "b382961d",
   "metadata": {},
   "source": [
    "The variable is definitely skewed left. The mean is 88.7% and the median is 97.0%. The 1st quartile is the same as the mean while the 3rd quartile is 100%. Let's plot a histogram of the data using Freeman Diaconis bins: "
   ]
  },
  {
   "cell_type": "code",
   "execution_count": 26,
   "id": "79061ad3",
   "metadata": {},
   "outputs": [
    {
     "name": "stdout",
     "output_type": "stream",
     "text": [
      "Freeman Diaconis:  1\n"
     ]
    },
    {
     "data": {
      "image/png": "[encoded data removed]",
      "text/plain": [
       "<Figure size 1000x600 with 1 Axes>"
      ]
     },
     "metadata": {},
     "output_type": "display_data"
    }
   ],
   "source": [
    "h = freeman_diaconis(eda_dkn[\"host_acceptance_rate\"])\n",
    "print(\"Freeman Diaconis: \", h)\n",
    "mn = int(eda_dkn[\"host_acceptance_rate\"].min())\n",
    "mx = int(eda_dkn[\"host_acceptance_rate\"].max())\n",
    "bins = [i for i in range( mn, mx, h)]\n",
    "\n",
    "figure = plt.figure(figsize=(10, 6))\n",
    "\n",
    "axes = figure.add_subplot(1, 1, 1)\n",
    "axes.hist(eda_dkn[\"host_acceptance_rate\"],bins=bins, histtype='bar', color=\"DimGray\", ec='black')\n",
    "axes.set_title(\"host_acceptance_rate distribution - Freeman Diaconis\")\n",
    "axes.set_xlabel(\"host_acceptance_rate\")\n",
    "\n",
    "plt.show()\n",
    "plt.close()"
   ]
  },
  {
   "cell_type": "markdown",
   "id": "c3888dac",
   "metadata": {},
   "source": [
    "The distribution of the data is skewed left. Similarly, if we assume that the price will depend on the increase of host_acceptance_rate, it created this skewness. \n",
    "\n",
    "<a href=\"#EDA\">^ EDA</a>"
   ]
  },
  {
   "cell_type": "markdown",
   "id": "ac0dc853",
   "metadata": {
    "tags": []
   },
   "source": [
    "### Pairwise Variable EDA\n",
    "\n",
    "Given our guidance, we'll look at these 3 variables in relation to `price`. Along the way, questions may be suggested and answered within. In addition, the following are some helper functions for our EDA problem. \n",
    "\n",
    "<a href=\"#EDA\">^ EDA</a>"
   ]
  },
  {
   "cell_type": "code",
   "execution_count": 27,
   "id": "0725fa96",
   "metadata": {},
   "outputs": [],
   "source": [
    "def classify_correlation(r):\n",
    "    r = abs(r)\n",
    "    if r < 0.16:\n",
    "        return \"very weak\"\n",
    "    if r < 0.29:\n",
    "        return \"weak\"\n",
    "    if r < 0.49:\n",
    "        return \"low\"\n",
    "    if r < 0.69:\n",
    "        return \"moderate\"\n",
    "    if r < 0.89:\n",
    "        return \"strong\"\n",
    "    return \"very strong\""
   ]
  },
  {
   "cell_type": "code",
   "execution_count": 28,
   "id": "b307e7b0",
   "metadata": {},
   "outputs": [],
   "source": [
    "def correlation(data, x, y):\n",
    "    print(\"Correlation coefficients:\")\n",
    "    r = stats.pearsonr(data[x], data[y])[0]\n",
    "    print( \"r   =\", r, f\"({classify_correlation(r)})\")\n",
    "    rho = stats.spearmanr(data[x], data[y])[0]\n",
    "    print( \"rho =\", rho, f\"({classify_correlation(rho)})\")"
   ]
  },
  {
   "cell_type": "code",
   "execution_count": 29,
   "id": "d9b4193d",
   "metadata": {},
   "outputs": [],
   "source": [
    "def describe_by_category(data, numeric, categorical, transpose=False):\n",
    "    grouped = data.groupby(categorical)\n",
    "    grouped_y = grouped[numeric].describe()\n",
    "    if transpose:\n",
    "        print(grouped_y.transpose())\n",
    "    else:\n",
    "        print(grouped_y)"
   ]
  },
  {
   "cell_type": "code",
   "execution_count": 30,
   "id": "de042d10",
   "metadata": {},
   "outputs": [],
   "source": [
    "def lowess_scatter(data, x, y, jitter=0.0, skip_lowess=False):\n",
    "\n",
    "    if skip_lowess:\n",
    "        fit = np.polyfit(data[x], data[y], 1)\n",
    "        line_x = np.linspace(data[x].min(), data[x].max(), 10)\n",
    "        line = np.poly1d(fit)\n",
    "        line_y = list(map(line, line_x))\n",
    "    else:\n",
    "        lowess = sm.nonparametric.lowess(data[y], data[x], frac=.3)\n",
    "        line_x = list(zip(*lowess))[0]\n",
    "        line_y = list(zip(*lowess))[1]\n",
    "\n",
    "    figure = plt.figure(figsize=(10, 6))\n",
    "\n",
    "    axes = figure.add_subplot(1, 1, 1)\n",
    "\n",
    "    xs = data[x]\n",
    "    if jitter > 0.0:\n",
    "        xs = data[x] + stats.norm.rvs( 0, 0.5, data[x].size)\n",
    "\n",
    "    axes.scatter(xs, data[y], marker=\"o\", color=\"DimGray\", alpha=0.5)\n",
    "    axes.plot(line_x, line_y, color=\"DarkRed\")\n",
    "\n",
    "    title = \"Plot of {0} v. {1}\".format(x, y)\n",
    "    if not skip_lowess:\n",
    "        title += \" with LOWESS\"\n",
    "    axes.set_title(title)\n",
    "    axes.set_xlabel(x)\n",
    "    axes.set_ylabel(y)\n",
    "\n",
    "    plt.show()\n",
    "    plt.close()"
   ]
  },
  {
   "cell_type": "markdown",
   "id": "7f61dda1",
   "metadata": {},
   "source": [
    "As we have just seen, the price data has a very normal distribution with right (positive) skewness on it. Generally, this is a result of the mixture of processes that are creating distinct subgroups or population in the data. The question is where we can identify these subgroups using the data we have."
   ]
  },
  {
   "cell_type": "markdown",
   "id": "b6acd234",
   "metadata": {},
   "source": [
    "#### price vs host_response_rate\n",
    "\n",
    "We can definitely expect to see the higher the host_response_rate, the higher the price is. Since this pairwise comparison is between two numerical variables, we can start by seeing the correlation of the two variables. "
   ]
  },
  {
   "cell_type": "code",
   "execution_count": 31,
   "id": "4d0572bf",
   "metadata": {},
   "outputs": [
    {
     "name": "stdout",
     "output_type": "stream",
     "text": [
      "Correlation coefficients:\n",
      "r   = 0.0034642167787886885 (very weak)\n",
      "rho = 0.03179421676325014 (very weak)\n"
     ]
    }
   ],
   "source": [
    "correlation(eda_dkn, \"host_response_rate\", \"price\")"
   ]
  },
  {
   "cell_type": "markdown",
   "id": "5b86706e",
   "metadata": {},
   "source": [
    "Pearson's correlation coefficient, $r$, is only 0.003 which indicates a very weak positive relationship. Spearman's is at 0.032 which might indicate a very weak monotonic relationship. Let's plot the data using Lowess. That is by using locally weighted smoothing (LOWESS), this method of regression analysis creates a smooth line through a scatterplot in order to see the trend between both variables. "
   ]
  },
  {
   "cell_type": "code",
   "execution_count": 32,
   "id": "6db20e8d",
   "metadata": {},
   "outputs": [
    {
     "data": {
      "image/png": "[encoded data removed]",
      "text/plain": [
       "<Figure size 1000x600 with 1 Axes>"
      ]
     },
     "metadata": {},
     "output_type": "display_data"
    }
   ],
   "source": [
    "import statsmodels.api as sm\n",
    "\n",
    "lowess = sm.nonparametric.lowess(eda_dkn[\"price\"], eda_dkn[\"host_response_rate\"], frac=.3)\n",
    "lowess_x = list(zip(*lowess))[0]\n",
    "lowess_y = list(zip(*lowess))[1]\n",
    "\n",
    "figure = plt.figure(figsize=(10, 6))\n",
    "\n",
    "axes = figure.add_subplot(1, 1, 1)\n",
    "axes.scatter( eda_dkn[\"host_response_rate\"], eda_dkn[\"price\"], marker=\"o\", color=\"DimGray\")\n",
    "axes.plot(lowess_x, lowess_y, color=\"DarkRed\")\n",
    "\n",
    "axes.set_title(\"Plot of host_response_rate v. price with LOWESS\")\n",
    "axes.set_xlabel( \"host_response_rate\")\n",
    "axes.set_ylabel( \"price\")\n",
    "\n",
    "plt.show()\n",
    "plt.close()"
   ]
  },
  {
   "cell_type": "markdown",
   "id": "3f020c70",
   "metadata": {},
   "source": [
    "Through this scatterplot and the lowess line, we can see that there is a very weak postive linear relationship between host_response_rate and price. "
   ]
  },
  {
   "cell_type": "markdown",
   "id": "fe38f4a8",
   "metadata": {},
   "source": [
    "#### price vs host_acceptance_rate\n",
    "\n",
    "We can expect to see the higher the host_acceptance_rate, the higher the price is. Since this pairwise comparison is between two numerical variables, we can start by seeing the correlation of the two variables. "
   ]
  },
  {
   "cell_type": "code",
   "execution_count": 33,
   "id": "dffa669a",
   "metadata": {},
   "outputs": [
    {
     "name": "stdout",
     "output_type": "stream",
     "text": [
      "Correlation coefficients:\n",
      "r   = 0.08805895808423946 (very weak)\n",
      "rho = 0.14416708640135498 (very weak)\n"
     ]
    }
   ],
   "source": [
    "correlation(eda_dkn, \"host_acceptance_rate\", \"price\")"
   ]
  },
  {
   "cell_type": "markdown",
   "id": "f61bd2d2",
   "metadata": {},
   "source": [
    "Pearson's correlation coefficient, $r$, is only 0.088 which indicates a very weak positive relationship. Spearman's is at 0.144 which might indicate a very weak monotonic relationship. Let's plot the data using Lowess. That is by using locally weighted smoothing (LOWESS), this method of regression analysis creates a smooth line through a scatterplot in order to see the trend between both variables. "
   ]
  },
  {
   "cell_type": "code",
   "execution_count": 34,
   "id": "51d1f192",
   "metadata": {},
   "outputs": [
    {
     "data": {
      "image/png": "[encoded data removed]",
      "text/plain": [
       "<Figure size 1000x600 with 1 Axes>"
      ]
     },
     "metadata": {},
     "output_type": "display_data"
    }
   ],
   "source": [
    "import statsmodels.api as sm\n",
    "\n",
    "lowess = sm.nonparametric.lowess(eda_dkn[\"price\"], eda_dkn[\"host_acceptance_rate\"], frac=.3)\n",
    "lowess_x = list(zip(*lowess))[0]\n",
    "lowess_y = list(zip(*lowess))[1]\n",
    "\n",
    "figure = plt.figure(figsize=(10, 6))\n",
    "\n",
    "axes = figure.add_subplot(1, 1, 1)\n",
    "axes.scatter( eda_dkn[\"host_acceptance_rate\"], eda_dkn[\"price\"], marker=\"o\", color=\"DimGray\")\n",
    "axes.plot(lowess_x, lowess_y, color=\"DarkRed\")\n",
    "\n",
    "axes.set_title(\"Plot of host_acceptance_rate v. price with LOWESS\")\n",
    "axes.set_xlabel( \"host_acceptance_rate\")\n",
    "axes.set_ylabel( \"price\")\n",
    "\n",
    "plt.show()\n",
    "plt.close()"
   ]
  },
  {
   "cell_type": "markdown",
   "id": "3e321e3d",
   "metadata": {},
   "source": [
    "Through this scatterplot and the lowess line, we can see that there is a very weak postive linear relationship between host_response_rate and price. "
   ]
  },
  {
   "cell_type": "markdown",
   "id": "f761f151",
   "metadata": {
    "tags": []
   },
   "source": [
    "#### price vs host_reponse_time\n",
    "\n",
    "It is possible that the host_response_time has a negative correlation with the price since when the not hearing from the host, most people just start to look for a new ad. Because this pairwise correlation is marked by a categorical variable and a numerical variable, using summary statistics in relation to each other gives us the perspective we are looking for:"
   ]
  },
  {
   "cell_type": "code",
   "execution_count": 35,
   "id": "1c7f8220",
   "metadata": {},
   "outputs": [
    {
     "ename": "KeyError",
     "evalue": "'host_reponse_time'",
     "output_type": "error",
     "traceback": [
      "\u001b[0;31m---------------------------------------------------------------------------\u001b[0m",
      "\u001b[0;31mKeyError\u001b[0m                                  Traceback (most recent call last)",
      "Cell \u001b[0;32mIn[35], line 1\u001b[0m\n\u001b[0;32m----> 1\u001b[0m \u001b[43mdescribe_by_category\u001b[49m\u001b[43m(\u001b[49m\u001b[43meda_dkn\u001b[49m\u001b[43m,\u001b[49m\u001b[43m \u001b[49m\u001b[38;5;124;43m\"\u001b[39;49m\u001b[38;5;124;43mprice\u001b[39;49m\u001b[38;5;124;43m\"\u001b[39;49m\u001b[43m,\u001b[49m\u001b[43m \u001b[49m\u001b[38;5;124;43m\"\u001b[39;49m\u001b[38;5;124;43mhost_reponse_time\u001b[39;49m\u001b[38;5;124;43m\"\u001b[39;49m\u001b[43m,\u001b[49m\u001b[43m \u001b[49m\u001b[43mtranspose\u001b[49m\u001b[38;5;241;43m=\u001b[39;49m\u001b[38;5;28;43;01mTrue\u001b[39;49;00m\u001b[43m)\u001b[49m\n",
      "Cell \u001b[0;32mIn[29], line 2\u001b[0m, in \u001b[0;36mdescribe_by_category\u001b[0;34m(data, numeric, categorical, transpose)\u001b[0m\n\u001b[1;32m      1\u001b[0m \u001b[38;5;28;01mdef\u001b[39;00m \u001b[38;5;21mdescribe_by_category\u001b[39m(data, numeric, categorical, transpose\u001b[38;5;241m=\u001b[39m\u001b[38;5;28;01mFalse\u001b[39;00m):\n\u001b[0;32m----> 2\u001b[0m     grouped \u001b[38;5;241m=\u001b[39m \u001b[43mdata\u001b[49m\u001b[38;5;241;43m.\u001b[39;49m\u001b[43mgroupby\u001b[49m\u001b[43m(\u001b[49m\u001b[43mcategorical\u001b[49m\u001b[43m)\u001b[49m\n\u001b[1;32m      3\u001b[0m     grouped_y \u001b[38;5;241m=\u001b[39m grouped[numeric]\u001b[38;5;241m.\u001b[39mdescribe()\n\u001b[1;32m      4\u001b[0m     \u001b[38;5;28;01mif\u001b[39;00m transpose:\n",
      "File \u001b[0;32m/opt/anaconda3/envs/en685648/lib/python3.10/site-packages/pandas/core/frame.py:8399\u001b[0m, in \u001b[0;36mDataFrame.groupby\u001b[0;34m(self, by, axis, level, as_index, sort, group_keys, squeeze, observed, dropna)\u001b[0m\n\u001b[1;32m   8396\u001b[0m     \u001b[38;5;28;01mraise\u001b[39;00m \u001b[38;5;167;01mTypeError\u001b[39;00m(\u001b[38;5;124m\"\u001b[39m\u001b[38;5;124mYou have to supply one of \u001b[39m\u001b[38;5;124m'\u001b[39m\u001b[38;5;124mby\u001b[39m\u001b[38;5;124m'\u001b[39m\u001b[38;5;124m and \u001b[39m\u001b[38;5;124m'\u001b[39m\u001b[38;5;124mlevel\u001b[39m\u001b[38;5;124m'\u001b[39m\u001b[38;5;124m\"\u001b[39m)\n\u001b[1;32m   8397\u001b[0m axis \u001b[38;5;241m=\u001b[39m \u001b[38;5;28mself\u001b[39m\u001b[38;5;241m.\u001b[39m_get_axis_number(axis)\n\u001b[0;32m-> 8399\u001b[0m \u001b[38;5;28;01mreturn\u001b[39;00m \u001b[43mDataFrameGroupBy\u001b[49m\u001b[43m(\u001b[49m\n\u001b[1;32m   8400\u001b[0m \u001b[43m    \u001b[49m\u001b[43mobj\u001b[49m\u001b[38;5;241;43m=\u001b[39;49m\u001b[38;5;28;43mself\u001b[39;49m\u001b[43m,\u001b[49m\n\u001b[1;32m   8401\u001b[0m \u001b[43m    \u001b[49m\u001b[43mkeys\u001b[49m\u001b[38;5;241;43m=\u001b[39;49m\u001b[43mby\u001b[49m\u001b[43m,\u001b[49m\n\u001b[1;32m   8402\u001b[0m \u001b[43m    \u001b[49m\u001b[43maxis\u001b[49m\u001b[38;5;241;43m=\u001b[39;49m\u001b[43maxis\u001b[49m\u001b[43m,\u001b[49m\n\u001b[1;32m   8403\u001b[0m \u001b[43m    \u001b[49m\u001b[43mlevel\u001b[49m\u001b[38;5;241;43m=\u001b[39;49m\u001b[43mlevel\u001b[49m\u001b[43m,\u001b[49m\n\u001b[1;32m   8404\u001b[0m \u001b[43m    \u001b[49m\u001b[43mas_index\u001b[49m\u001b[38;5;241;43m=\u001b[39;49m\u001b[43mas_index\u001b[49m\u001b[43m,\u001b[49m\n\u001b[1;32m   8405\u001b[0m \u001b[43m    \u001b[49m\u001b[43msort\u001b[49m\u001b[38;5;241;43m=\u001b[39;49m\u001b[43msort\u001b[49m\u001b[43m,\u001b[49m\n\u001b[1;32m   8406\u001b[0m \u001b[43m    \u001b[49m\u001b[43mgroup_keys\u001b[49m\u001b[38;5;241;43m=\u001b[39;49m\u001b[43mgroup_keys\u001b[49m\u001b[43m,\u001b[49m\n\u001b[1;32m   8407\u001b[0m \u001b[43m    \u001b[49m\u001b[43msqueeze\u001b[49m\u001b[38;5;241;43m=\u001b[39;49m\u001b[43msqueeze\u001b[49m\u001b[43m,\u001b[49m\n\u001b[1;32m   8408\u001b[0m \u001b[43m    \u001b[49m\u001b[43mobserved\u001b[49m\u001b[38;5;241;43m=\u001b[39;49m\u001b[43mobserved\u001b[49m\u001b[43m,\u001b[49m\n\u001b[1;32m   8409\u001b[0m \u001b[43m    \u001b[49m\u001b[43mdropna\u001b[49m\u001b[38;5;241;43m=\u001b[39;49m\u001b[43mdropna\u001b[49m\u001b[43m,\u001b[49m\n\u001b[1;32m   8410\u001b[0m \u001b[43m\u001b[49m\u001b[43m)\u001b[49m\n",
      "File \u001b[0;32m/opt/anaconda3/envs/en685648/lib/python3.10/site-packages/pandas/core/groupby/groupby.py:959\u001b[0m, in \u001b[0;36mGroupBy.__init__\u001b[0;34m(self, obj, keys, axis, level, grouper, exclusions, selection, as_index, sort, group_keys, squeeze, observed, mutated, dropna)\u001b[0m\n\u001b[1;32m    956\u001b[0m \u001b[38;5;28;01mif\u001b[39;00m grouper \u001b[38;5;129;01mis\u001b[39;00m \u001b[38;5;28;01mNone\u001b[39;00m:\n\u001b[1;32m    957\u001b[0m     \u001b[38;5;28;01mfrom\u001b[39;00m \u001b[38;5;21;01mpandas\u001b[39;00m\u001b[38;5;21;01m.\u001b[39;00m\u001b[38;5;21;01mcore\u001b[39;00m\u001b[38;5;21;01m.\u001b[39;00m\u001b[38;5;21;01mgroupby\u001b[39;00m\u001b[38;5;21;01m.\u001b[39;00m\u001b[38;5;21;01mgrouper\u001b[39;00m \u001b[38;5;28;01mimport\u001b[39;00m get_grouper\n\u001b[0;32m--> 959\u001b[0m     grouper, exclusions, obj \u001b[38;5;241m=\u001b[39m \u001b[43mget_grouper\u001b[49m\u001b[43m(\u001b[49m\n\u001b[1;32m    960\u001b[0m \u001b[43m        \u001b[49m\u001b[43mobj\u001b[49m\u001b[43m,\u001b[49m\n\u001b[1;32m    961\u001b[0m \u001b[43m        \u001b[49m\u001b[43mkeys\u001b[49m\u001b[43m,\u001b[49m\n\u001b[1;32m    962\u001b[0m \u001b[43m        \u001b[49m\u001b[43maxis\u001b[49m\u001b[38;5;241;43m=\u001b[39;49m\u001b[43maxis\u001b[49m\u001b[43m,\u001b[49m\n\u001b[1;32m    963\u001b[0m \u001b[43m        \u001b[49m\u001b[43mlevel\u001b[49m\u001b[38;5;241;43m=\u001b[39;49m\u001b[43mlevel\u001b[49m\u001b[43m,\u001b[49m\n\u001b[1;32m    964\u001b[0m \u001b[43m        \u001b[49m\u001b[43msort\u001b[49m\u001b[38;5;241;43m=\u001b[39;49m\u001b[43msort\u001b[49m\u001b[43m,\u001b[49m\n\u001b[1;32m    965\u001b[0m \u001b[43m        \u001b[49m\u001b[43mobserved\u001b[49m\u001b[38;5;241;43m=\u001b[39;49m\u001b[43mobserved\u001b[49m\u001b[43m,\u001b[49m\n\u001b[1;32m    966\u001b[0m \u001b[43m        \u001b[49m\u001b[43mmutated\u001b[49m\u001b[38;5;241;43m=\u001b[39;49m\u001b[38;5;28;43mself\u001b[39;49m\u001b[38;5;241;43m.\u001b[39;49m\u001b[43mmutated\u001b[49m\u001b[43m,\u001b[49m\n\u001b[1;32m    967\u001b[0m \u001b[43m        \u001b[49m\u001b[43mdropna\u001b[49m\u001b[38;5;241;43m=\u001b[39;49m\u001b[38;5;28;43mself\u001b[39;49m\u001b[38;5;241;43m.\u001b[39;49m\u001b[43mdropna\u001b[49m\u001b[43m,\u001b[49m\n\u001b[1;32m    968\u001b[0m \u001b[43m    \u001b[49m\u001b[43m)\u001b[49m\n\u001b[1;32m    970\u001b[0m \u001b[38;5;28mself\u001b[39m\u001b[38;5;241m.\u001b[39mobj \u001b[38;5;241m=\u001b[39m obj\n\u001b[1;32m    971\u001b[0m \u001b[38;5;28mself\u001b[39m\u001b[38;5;241m.\u001b[39maxis \u001b[38;5;241m=\u001b[39m obj\u001b[38;5;241m.\u001b[39m_get_axis_number(axis)\n",
      "File \u001b[0;32m/opt/anaconda3/envs/en685648/lib/python3.10/site-packages/pandas/core/groupby/grouper.py:888\u001b[0m, in \u001b[0;36mget_grouper\u001b[0;34m(obj, key, axis, level, sort, observed, mutated, validate, dropna)\u001b[0m\n\u001b[1;32m    886\u001b[0m         in_axis, level, gpr \u001b[38;5;241m=\u001b[39m \u001b[38;5;28;01mFalse\u001b[39;00m, gpr, \u001b[38;5;28;01mNone\u001b[39;00m\n\u001b[1;32m    887\u001b[0m     \u001b[38;5;28;01melse\u001b[39;00m:\n\u001b[0;32m--> 888\u001b[0m         \u001b[38;5;28;01mraise\u001b[39;00m \u001b[38;5;167;01mKeyError\u001b[39;00m(gpr)\n\u001b[1;32m    889\u001b[0m \u001b[38;5;28;01melif\u001b[39;00m \u001b[38;5;28misinstance\u001b[39m(gpr, Grouper) \u001b[38;5;129;01mand\u001b[39;00m gpr\u001b[38;5;241m.\u001b[39mkey \u001b[38;5;129;01mis\u001b[39;00m \u001b[38;5;129;01mnot\u001b[39;00m \u001b[38;5;28;01mNone\u001b[39;00m:\n\u001b[1;32m    890\u001b[0m     \u001b[38;5;66;03m# Add key to exclusions\u001b[39;00m\n\u001b[1;32m    891\u001b[0m     exclusions\u001b[38;5;241m.\u001b[39madd(gpr\u001b[38;5;241m.\u001b[39mkey)\n",
      "\u001b[0;31mKeyError\u001b[0m: 'host_reponse_time'"
     ]
    }
   ],
   "source": [
    "describe_by_category(eda_dkn, \"price\", \"host_reponse_time\", transpose=True)"
   ]
  },
  {
   "cell_type": "code",
   "execution_count": null,
   "id": "52f07e46",
   "metadata": {},
   "outputs": [],
   "source": []
  }
 ],
 "metadata": {
  "kernelspec": {
   "display_name": "Python (en685648)",
   "language": "python",
   "name": "en685648"
  },
  "language_info": {
   "codemirror_mode": {
    "name": "ipython",
    "version": 3
   },
   "file_extension": ".py",
   "mimetype": "text/x-python",
   "name": "python",
   "nbconvert_exporter": "python",
   "pygments_lexer": "ipython3",
   "version": "3.10.8"
  }
 },
 "nbformat": 4,
 "nbformat_minor": 5
}
