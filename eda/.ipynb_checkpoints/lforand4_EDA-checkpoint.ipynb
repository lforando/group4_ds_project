{
 "cells": [
  {
   "attachments": {},
   "cell_type": "markdown",
   "metadata": {},
   "source": [
    "##### Lauren Forando\n",
    "##### April 27, 2023\n",
    "##### EDA - Single and Pairwise\n",
    "##### Problem Set 6"
   ]
  },
  {
   "cell_type": "code",
   "execution_count": 1,
   "metadata": {},
   "outputs": [],
   "source": [
    "%matplotlib inline "
   ]
  },
  {
   "cell_type": "code",
   "execution_count": 2,
   "metadata": {},
   "outputs": [],
   "source": [
    "import xlrd\n",
    "import os \n",
    "import sqlite3\n",
    "import csv\n",
    "import matplotlib.pyplot as plt\n",
    "import numpy as np\n",
    "import seaborn as sns\n",
    "import pandas as pd\n",
    "\n",
    "sns.set(style=\"whitegrid\")"
   ]
  },
  {
   "attachments": {},
   "cell_type": "markdown",
   "metadata": {},
   "source": [
    "##### Create Dataframe with variables of interest"
   ]
  },
  {
   "cell_type": "code",
   "execution_count": 3,
   "metadata": {},
   "outputs": [
    {
     "data": {
      "text/html": [
       "<div>\n",
       "<style scoped>\n",
       "    .dataframe tbody tr th:only-of-type {\n",
       "        vertical-align: middle;\n",
       "    }\n",
       "\n",
       "    .dataframe tbody tr th {\n",
       "        vertical-align: top;\n",
       "    }\n",
       "\n",
       "    .dataframe thead th {\n",
       "        text-align: right;\n",
       "    }\n",
       "</style>\n",
       "<table border=\"1\" class=\"dataframe\">\n",
       "  <thead>\n",
       "    <tr style=\"text-align: right;\">\n",
       "      <th></th>\n",
       "      <th>room_type</th>\n",
       "      <th>price</th>\n",
       "      <th>instant_bookable</th>\n",
       "      <th>property_type</th>\n",
       "    </tr>\n",
       "  </thead>\n",
       "  <tbody>\n",
       "    <tr>\n",
       "      <th>0</th>\n",
       "      <td>Private room</td>\n",
       "      <td>$20.00</td>\n",
       "      <td>f</td>\n",
       "      <td>Private room in townhouse</td>\n",
       "    </tr>\n",
       "    <tr>\n",
       "      <th>1</th>\n",
       "      <td>Entire home/apt</td>\n",
       "      <td>$185.00</td>\n",
       "      <td>f</td>\n",
       "      <td>Entire townhouse</td>\n",
       "    </tr>\n",
       "    <tr>\n",
       "      <th>2</th>\n",
       "      <td>Entire home/apt</td>\n",
       "      <td>$221.00</td>\n",
       "      <td>f</td>\n",
       "      <td>Entire rental unit</td>\n",
       "    </tr>\n",
       "    <tr>\n",
       "      <th>3</th>\n",
       "      <td>Entire home/apt</td>\n",
       "      <td>$142.00</td>\n",
       "      <td>t</td>\n",
       "      <td>Entire guest suite</td>\n",
       "    </tr>\n",
       "    <tr>\n",
       "      <th>4</th>\n",
       "      <td>Entire home/apt</td>\n",
       "      <td>$398.00</td>\n",
       "      <td>t</td>\n",
       "      <td>Entire rental unit</td>\n",
       "    </tr>\n",
       "    <tr>\n",
       "      <th>...</th>\n",
       "      <td>...</td>\n",
       "      <td>...</td>\n",
       "      <td>...</td>\n",
       "      <td>...</td>\n",
       "    </tr>\n",
       "    <tr>\n",
       "      <th>8623</th>\n",
       "      <td>Entire home/apt</td>\n",
       "      <td>$70.00</td>\n",
       "      <td>f</td>\n",
       "      <td>Entire condo</td>\n",
       "    </tr>\n",
       "    <tr>\n",
       "      <th>8624</th>\n",
       "      <td>Entire home/apt</td>\n",
       "      <td>$253.00</td>\n",
       "      <td>t</td>\n",
       "      <td>Entire serviced apartment</td>\n",
       "    </tr>\n",
       "    <tr>\n",
       "      <th>8625</th>\n",
       "      <td>Entire home/apt</td>\n",
       "      <td>$95.00</td>\n",
       "      <td>t</td>\n",
       "      <td>Entire condo</td>\n",
       "    </tr>\n",
       "    <tr>\n",
       "      <th>8626</th>\n",
       "      <td>Entire home/apt</td>\n",
       "      <td>$180.00</td>\n",
       "      <td>t</td>\n",
       "      <td>Entire serviced apartment</td>\n",
       "    </tr>\n",
       "    <tr>\n",
       "      <th>8627</th>\n",
       "      <td>Entire home/apt</td>\n",
       "      <td>$150.00</td>\n",
       "      <td>t</td>\n",
       "      <td>Entire home</td>\n",
       "    </tr>\n",
       "  </tbody>\n",
       "</table>\n",
       "<p>8628 rows × 4 columns</p>\n",
       "</div>"
      ],
      "text/plain": [
       "            room_type    price instant_bookable              property_type\n",
       "0        Private room   $20.00                f  Private room in townhouse\n",
       "1     Entire home/apt  $185.00                f           Entire townhouse\n",
       "2     Entire home/apt  $221.00                f         Entire rental unit\n",
       "3     Entire home/apt  $142.00                t         Entire guest suite\n",
       "4     Entire home/apt  $398.00                t         Entire rental unit\n",
       "...               ...      ...              ...                        ...\n",
       "8623  Entire home/apt   $70.00                f               Entire condo\n",
       "8624  Entire home/apt  $253.00                t  Entire serviced apartment\n",
       "8625  Entire home/apt   $95.00                t               Entire condo\n",
       "8626  Entire home/apt  $180.00                t  Entire serviced apartment\n",
       "8627  Entire home/apt  $150.00                t                Entire home\n",
       "\n",
       "[8628 rows x 4 columns]"
      ]
     },
     "execution_count": 3,
     "metadata": {},
     "output_type": "execute_result"
    }
   ],
   "source": [
    "db_path = './datawarehouse.db'\n",
    "con=sqlite3.connect(db_path)\n",
    "cur = con.cursor()\n",
    "\n",
    "sql_query = pd.read_sql_query('''SELECT room_type, property_type, instant_bookable, price\n",
    "FROM listings''', con)\n",
    "\n",
    "df = pd.DataFrame(sql_query, columns = ['room_type', 'price', 'instant_bookable', 'property_type'])\n",
    "df"
   ]
  },
  {
   "attachments": {},
   "cell_type": "markdown",
   "metadata": {},
   "source": [
    "### Single Variable EDA"
   ]
  },
  {
   "cell_type": "code",
   "execution_count": 4,
   "metadata": {},
   "outputs": [],
   "source": [
    "# this changes price from currency to a float\n",
    "df[\"price\"] = df[\"price\"].replace(\"[$,]\", \"\", regex=True).astype(float)"
   ]
  },
  {
   "attachments": {},
   "cell_type": "markdown",
   "metadata": {},
   "source": [
    "### Room Type"
   ]
  },
  {
   "cell_type": "code",
   "execution_count": 5,
   "metadata": {},
   "outputs": [
    {
     "data": {
      "text/plain": [
       "Entire home/apt    6455\n",
       "Private room       2028\n",
       "Shared room         123\n",
       "Hotel room           22\n",
       "Name: room_type, dtype: int64"
      ]
     },
     "execution_count": 5,
     "metadata": {},
     "output_type": "execute_result"
    }
   ],
   "source": [
    "df.room_type.value_counts()"
   ]
  },
  {
   "attachments": {},
   "cell_type": "markdown",
   "metadata": {},
   "source": [
    "Roughly 74.8% of the listings are categorized as entire home or apartment, 23.5% of listings are categorized as a private room, 1.4% of listings are categorized as a shared room, and less than 1% is categorized as a hotel room."
   ]
  },
  {
   "attachments": {},
   "cell_type": "markdown",
   "metadata": {},
   "source": [
    "### Instant Bookable"
   ]
  },
  {
   "cell_type": "code",
   "execution_count": 6,
   "metadata": {},
   "outputs": [
    {
     "data": {
      "text/plain": [
       "f    5767\n",
       "t    2861\n",
       "Name: instant_bookable, dtype: int64"
      ]
     },
     "execution_count": 6,
     "metadata": {},
     "output_type": "execute_result"
    }
   ],
   "source": [
    "df.instant_bookable.value_counts()"
   ]
  },
  {
   "attachments": {},
   "cell_type": "markdown",
   "metadata": {},
   "source": [
    "Approximately 69% of the observed listings are not available to instantly book, whereas 31% of listings are available to be instantly booked."
   ]
  },
  {
   "attachments": {},
   "cell_type": "markdown",
   "metadata": {},
   "source": [
    "### Property Type"
   ]
  },
  {
   "cell_type": "code",
   "execution_count": 7,
   "metadata": {},
   "outputs": [
    {
     "data": {
      "text/plain": [
       "Entire rental unit                    2819\n",
       "Entire home                            935\n",
       "Private room in home                   746\n",
       "Entire condo                           673\n",
       "Entire serviced apartment              655\n",
       "Entire townhouse                       630\n",
       "Entire guest suite                     552\n",
       "Private room in rental unit            506\n",
       "Private room in townhouse              354\n",
       "Room in boutique hotel                 120\n",
       "Room in hotel                           98\n",
       "Private room in condo                   82\n",
       "Entire guesthouse                       79\n",
       "Shared room in rental unit              50\n",
       "Private room in bed and breakfast       45\n",
       "Private room in guest suite             42\n",
       "Entire loft                             37\n",
       "Shared room in townhouse                29\n",
       "Shared room in home                     21\n",
       "Room in aparthotel                      19\n",
       "Shared room in hostel                   17\n",
       "Entire vacation home                    17\n",
       "Entire bungalow                         11\n",
       "Room in hostel                          11\n",
       "Private room in guesthouse               9\n",
       "Entire place                             7\n",
       "Private room in loft                     7\n",
       "Room in bed and breakfast                6\n",
       "Private room in hostel                   5\n",
       "Private room in villa                    4\n",
       "Private room                             4\n",
       "Tiny home                                3\n",
       "Casa particular                          3\n",
       "Entire villa                             3\n",
       "Private room in resort                   3\n",
       "Private room in bungalow                 2\n",
       "Room in serviced apartment               2\n",
       "Castle                                   2\n",
       "Shared room in guesthouse                2\n",
       "Entire cottage                           2\n",
       "Camper/RV                                2\n",
       "Private room in serviced apartment       2\n",
       "Private room in casa particular          2\n",
       "Shared room in serviced apartment        1\n",
       "Campsite                                 1\n",
       "Tent                                     1\n",
       "Tower                                    1\n",
       "Shared room in loft                      1\n",
       "Houseboat                                1\n",
       "Shared room in hotel                     1\n",
       "Floor                                    1\n",
       "Shared room in bed and breakfast         1\n",
       "Boat                                     1\n",
       "Name: property_type, dtype: int64"
      ]
     },
     "execution_count": 7,
     "metadata": {},
     "output_type": "execute_result"
    }
   ],
   "source": [
    "df.property_type.value_counts()"
   ]
  },
  {
   "attachments": {},
   "cell_type": "markdown",
   "metadata": {},
   "source": [
    "While this is a categorical variable, it seems some of the listing property types have unique names/titles that only relate to one or a few listings, causing a large number of buckets/options."
   ]
  },
  {
   "attachments": {},
   "cell_type": "markdown",
   "metadata": {},
   "source": [
    "### Pairwise EDA"
   ]
  },
  {
   "attachments": {},
   "cell_type": "markdown",
   "metadata": {},
   "source": [
    "#### Room Type vs Price"
   ]
  },
  {
   "cell_type": "code",
   "execution_count": 8,
   "metadata": {},
   "outputs": [
    {
     "name": "stdout",
     "output_type": "stream",
     "text": [
      "╒═════════════════╤═════════╤══════════╤══════════╤═══════╤═══════╤═══════╤═══════╤═══════╕\n",
      "│ Room Type       │   Count │     Mean │    Stdev │   Min │   25% │   50% │   75% │   Max │\n",
      "╞═════════════════╪═════════╪══════════╪══════════╪═══════╪═══════╪═══════╪═══════╪═══════╡\n",
      "│ Entire home/apt │    6455 │ 202.196  │ 238.344  │    10 │   105 │   150 │ 228   │  7500 │\n",
      "├─────────────────┼─────────┼──────────┼──────────┼───────┼───────┼───────┼───────┼───────┤\n",
      "│ Hotel room      │      22 │  59.9545 │ 106.886  │     0 │    25 │    27 │  29   │   489 │\n",
      "├─────────────────┼─────────┼──────────┼──────────┼───────┼───────┼───────┼───────┼───────┤\n",
      "│ Private room    │    2028 │ 123.777  │ 167.238  │    20 │    52 │    75 │ 114   │  2000 │\n",
      "├─────────────────┼─────────┼──────────┼──────────┼───────┼───────┼───────┼───────┼───────┤\n",
      "│ Shared room     │     123 │  54.0244 │  25.0882 │    16 │    35 │    45 │  63.5 │   140 │\n",
      "╘═════════════════╧═════════╧══════════╧══════════╧═══════╧═══════╧═══════╧═══════╧═══════╛\n",
      "\n",
      "\n"
     ]
    }
   ],
   "source": [
    "from tabulate import tabulate\n",
    "\n",
    "grouped_price_room_type = df[['room_type', 'price']].groupby('room_type')\n",
    "grouped_price_room_type_stats = grouped_price_room_type['price'].describe()\n",
    "grouped_price_room_type_stats\n",
    "\n",
    "\n",
    "table = tabulate(grouped_price_room_type_stats, \n",
    "             headers=('Room Type', 'Count', 'Mean', 'Stdev', 'Min', '25%', '50%', '75%', 'Max'),\n",
    "            tablefmt='fancy_grid')\n",
    "print(table)\n",
    "print('\\n')"
   ]
  },
  {
   "attachments": {},
   "cell_type": "markdown",
   "metadata": {},
   "source": [
    "Entire homes/apartments are on average the most expensive ($202.20), followed by a private room ($123.78). The least expensive stay is a shared room ($54.02). The range for entire home/apartments is significantly larger/wider than the other options, ranging from $10 to $7500. This difference tells us that there are surely some extreme values in our dataset.  \n"
   ]
  },
  {
   "attachments": {},
   "cell_type": "markdown",
   "metadata": {},
   "source": [
    "#### Instant Bookable vs Price"
   ]
  },
  {
   "cell_type": "code",
   "execution_count": 9,
   "metadata": {},
   "outputs": [
    {
     "name": "stdout",
     "output_type": "stream",
     "text": [
      "╒════════════════════╤═════════╤═════════╤═════════╤═══════╤═══════╤═══════╤═══════╤═══════╕\n",
      "│ Instant Bookable   │   Count │    Mean │   Stdev │   Min │   25% │   50% │   75% │   Max │\n",
      "╞════════════════════╪═════════╪═════════╪═════════╪═══════╪═══════╪═══════╪═══════╪═══════╡\n",
      "│ f                  │    5767 │ 176.207 │ 246.786 │     0 │    84 │   126 │   198 │  7500 │\n",
      "├────────────────────┼─────────┼─────────┼─────────┼───────┼───────┼───────┼───────┼───────┤\n",
      "│ t                  │    2861 │ 191.532 │ 171.252 │    16 │    89 │   143 │   240 │  1903 │\n",
      "╘════════════════════╧═════════╧═════════╧═════════╧═══════╧═══════╧═══════╧═══════╧═══════╛\n",
      "\n",
      "\n"
     ]
    }
   ],
   "source": [
    "grouped_price_instant_bookable = df[['instant_bookable', 'price']].groupby('instant_bookable')\n",
    "grouped_price_instant_bookable_stats = grouped_price_instant_bookable['price'].describe()\n",
    "grouped_price_instant_bookable_stats\n",
    "\n",
    "\n",
    "table2 = tabulate(grouped_price_instant_bookable_stats, \n",
    "            headers=('Instant Bookable', 'Count', 'Mean', 'Stdev', 'Min', '25%', '50%', '75%', 'Max'),\n",
    "            tablefmt='fancy_grid')\n",
    "print(table2)\n",
    "print('\\n')"
   ]
  },
  {
   "attachments": {},
   "cell_type": "markdown",
   "metadata": {},
   "source": [
    "The average price of an Air BnB listing is higher for those that are instantly bookable ($191.53) compared to listings that are not instantly bookable ($176.21). Interestingly, the minimum price for a instantly bookable stay is $16, whereas the non-instantly bookable stays do not have a minimum.  \n"
   ]
  },
  {
   "attachments": {},
   "cell_type": "markdown",
   "metadata": {},
   "source": [
    "#### Property Type vs Price"
   ]
  },
  {
   "cell_type": "code",
   "execution_count": 10,
   "metadata": {},
   "outputs": [],
   "source": [
    "property_type_df = df[['property_type','price']]\n",
    "#property_type_df"
   ]
  },
  {
   "cell_type": "code",
   "execution_count": 11,
   "metadata": {},
   "outputs": [],
   "source": [
    "df_2 = pd.DataFrame(property_type_df)\n",
    "df_2['property_type_2'] = '0'\n",
    "\n",
    "df_2.loc[df_2[\"property_type\"].str.contains('condo|loft'), \"property_type_2\"] = \"Condo\"\n",
    "df_2.loc[df_2[\"property_type\"].str.contains('apartment'), \"property_type_2\"] = \"Apartment\"\n",
    "df_2.loc[df_2[\"property_type\"].str.contains('townhouse'), \"property_type_2\"] = \"Townhouse\"\n",
    "df_2.loc[df_2[\"property_type\"].str.contains('home|place'), \"property_type_2\"] = \"Home\"\n",
    "df_2.loc[df_2[\"property_type\"].str.contains('guest suite|guesthouse'), \"property_type_2\"] = \"Guest Suite/Guesthouse\"\n",
    "df_2.loc[df_2[\"property_type\"].str.contains('rental'), \"property_type_2\"] = \"Rental Unit\"\n",
    "df_2.loc[df_2[\"property_type\"].str.contains('hotel|resort'), \"property_type_2\"] = \"Hotel Room\"\n",
    "df_2.loc[df_2[\"property_type\"].str.contains('hostel'), \"property_type_2\"] = \"Hostel\"\n",
    "df_2.loc[df_2[\"property_type\"].str.contains('villa|bungalow'), \"property_type_2\"] = \"Villa/Bungalow\"\n",
    "df_2.loc[df_2[\"property_type\"].str.contains('Cottage|cottage|Boat|Camper/RV|Campsite|Castle|Floor|Houseboat|Tent|Tower'), \"property_type_2\"] = \"Unique Stay\"\n",
    "df_2.loc[df_2[\"property_type\"].str.contains('Tiny|tiny'), \"property_type_2\"] = \"Tiny Home\"\n",
    "df_2.loc[df_2[\"property_type\"].str.contains('Breakfast|breakfast'), \"property_type_2\"] = \"Bed & Breakfast\"\n",
    "df_2.loc[df_2[\"property_type\"].str.contains('particular|aparthotel'), \"property_type_2\"] = \"Other\"\n",
    "df_2.loc[df_2[\"property_type_2\"].str.contains('0'), \"property_type_2\"] = \"Other\"\n",
    "\n",
    "df_2.loc[df_2[\"property_type\"].str.contains('Entire'), \"property_type\"] = \"Entire Space\"\n",
    "df_2.loc[df_2[\"property_type\"].str.contains('Private|private|apartment|breakfast'), \"property_type\"] = \"Private Room\"\n",
    "df_2.loc[df_2[\"property_type\"].str.contains('Shared|shared'), \"property_type\"] = \"Shared Room\"\n",
    "df_2.loc[df_2[\"property_type\"].str.contains('Hotel|hotel'), \"property_type\"] = \"Hotel\"\n",
    "df_2.loc[df_2[\"property_type\"].str.contains('Hostel|hostel'), \"property_type\"] = \"Hostel\"\n",
    "df_2.loc[df_2[\"property_type\"].str.contains('Boat|Camper/RV|Campsite|Casa particular|Castle|Floor|Houseboat|Tent|Tiny home|Tower'), \"property_type\"] = \"Unique Stay\"\n",
    "#df_2"
   ]
  },
  {
   "cell_type": "code",
   "execution_count": 12,
   "metadata": {},
   "outputs": [],
   "source": [
    "grouped_price_property_type = df_2[['property_type', 'price', 'property_type_2']].groupby('property_type')\n",
    "grouped_price_property_type_stats = grouped_price_property_type['price'].describe().reset_index()\n",
    "#grouped_price_property_type_stats"
   ]
  },
  {
   "cell_type": "code",
   "execution_count": 13,
   "metadata": {},
   "outputs": [
    {
     "data": {
      "text/html": [
       "<div>\n",
       "<style scoped>\n",
       "    .dataframe tbody tr th:only-of-type {\n",
       "        vertical-align: middle;\n",
       "    }\n",
       "\n",
       "    .dataframe tbody tr th {\n",
       "        vertical-align: top;\n",
       "    }\n",
       "\n",
       "    .dataframe thead th {\n",
       "        text-align: right;\n",
       "    }\n",
       "</style>\n",
       "<table border=\"1\" class=\"dataframe\">\n",
       "  <thead>\n",
       "    <tr style=\"text-align: right;\">\n",
       "      <th></th>\n",
       "      <th>property_type_2</th>\n",
       "      <th>count</th>\n",
       "      <th>mean</th>\n",
       "      <th>std</th>\n",
       "      <th>min</th>\n",
       "      <th>25%</th>\n",
       "      <th>50%</th>\n",
       "      <th>75%</th>\n",
       "      <th>max</th>\n",
       "    </tr>\n",
       "  </thead>\n",
       "  <tbody>\n",
       "    <tr>\n",
       "      <th>0</th>\n",
       "      <td>Apartment</td>\n",
       "      <td>660.0</td>\n",
       "      <td>224.772727</td>\n",
       "      <td>98.248577</td>\n",
       "      <td>56.0</td>\n",
       "      <td>159.0</td>\n",
       "      <td>212.0</td>\n",
       "      <td>279.00</td>\n",
       "      <td>716.0</td>\n",
       "    </tr>\n",
       "    <tr>\n",
       "      <th>1</th>\n",
       "      <td>Bed &amp; Breakfast</td>\n",
       "      <td>52.0</td>\n",
       "      <td>218.980769</td>\n",
       "      <td>190.636446</td>\n",
       "      <td>25.0</td>\n",
       "      <td>75.0</td>\n",
       "      <td>141.0</td>\n",
       "      <td>300.00</td>\n",
       "      <td>799.0</td>\n",
       "    </tr>\n",
       "    <tr>\n",
       "      <th>2</th>\n",
       "      <td>Condo</td>\n",
       "      <td>800.0</td>\n",
       "      <td>148.437500</td>\n",
       "      <td>110.485938</td>\n",
       "      <td>29.0</td>\n",
       "      <td>88.0</td>\n",
       "      <td>125.0</td>\n",
       "      <td>175.00</td>\n",
       "      <td>1425.0</td>\n",
       "    </tr>\n",
       "    <tr>\n",
       "      <th>3</th>\n",
       "      <td>Guest Suite/Guesthouse</td>\n",
       "      <td>684.0</td>\n",
       "      <td>122.173977</td>\n",
       "      <td>86.339114</td>\n",
       "      <td>29.0</td>\n",
       "      <td>85.0</td>\n",
       "      <td>105.0</td>\n",
       "      <td>133.50</td>\n",
       "      <td>1237.0</td>\n",
       "    </tr>\n",
       "    <tr>\n",
       "      <th>4</th>\n",
       "      <td>Home</td>\n",
       "      <td>1726.0</td>\n",
       "      <td>218.380070</td>\n",
       "      <td>388.024673</td>\n",
       "      <td>10.0</td>\n",
       "      <td>65.0</td>\n",
       "      <td>120.0</td>\n",
       "      <td>250.00</td>\n",
       "      <td>7500.0</td>\n",
       "    </tr>\n",
       "    <tr>\n",
       "      <th>5</th>\n",
       "      <td>Hostel</td>\n",
       "      <td>33.0</td>\n",
       "      <td>84.757576</td>\n",
       "      <td>75.380713</td>\n",
       "      <td>0.0</td>\n",
       "      <td>25.0</td>\n",
       "      <td>73.0</td>\n",
       "      <td>90.00</td>\n",
       "      <td>313.0</td>\n",
       "    </tr>\n",
       "    <tr>\n",
       "      <th>6</th>\n",
       "      <td>Hotel Room</td>\n",
       "      <td>222.0</td>\n",
       "      <td>382.432432</td>\n",
       "      <td>304.298871</td>\n",
       "      <td>0.0</td>\n",
       "      <td>197.0</td>\n",
       "      <td>302.0</td>\n",
       "      <td>459.00</td>\n",
       "      <td>1903.0</td>\n",
       "    </tr>\n",
       "    <tr>\n",
       "      <th>7</th>\n",
       "      <td>Other</td>\n",
       "      <td>28.0</td>\n",
       "      <td>247.714286</td>\n",
       "      <td>123.517237</td>\n",
       "      <td>58.0</td>\n",
       "      <td>174.0</td>\n",
       "      <td>254.0</td>\n",
       "      <td>298.00</td>\n",
       "      <td>482.0</td>\n",
       "    </tr>\n",
       "    <tr>\n",
       "      <th>8</th>\n",
       "      <td>Rental Unit</td>\n",
       "      <td>3375.0</td>\n",
       "      <td>151.270519</td>\n",
       "      <td>122.768793</td>\n",
       "      <td>20.0</td>\n",
       "      <td>88.0</td>\n",
       "      <td>126.0</td>\n",
       "      <td>178.00</td>\n",
       "      <td>3000.0</td>\n",
       "    </tr>\n",
       "    <tr>\n",
       "      <th>9</th>\n",
       "      <td>Tiny Home</td>\n",
       "      <td>3.0</td>\n",
       "      <td>129.666667</td>\n",
       "      <td>34.588052</td>\n",
       "      <td>92.0</td>\n",
       "      <td>114.5</td>\n",
       "      <td>137.0</td>\n",
       "      <td>148.50</td>\n",
       "      <td>160.0</td>\n",
       "    </tr>\n",
       "    <tr>\n",
       "      <th>10</th>\n",
       "      <td>Townhouse</td>\n",
       "      <td>1013.0</td>\n",
       "      <td>210.540967</td>\n",
       "      <td>240.226741</td>\n",
       "      <td>20.0</td>\n",
       "      <td>81.0</td>\n",
       "      <td>149.0</td>\n",
       "      <td>265.00</td>\n",
       "      <td>4357.0</td>\n",
       "    </tr>\n",
       "    <tr>\n",
       "      <th>11</th>\n",
       "      <td>Unique Stay</td>\n",
       "      <td>12.0</td>\n",
       "      <td>168.416667</td>\n",
       "      <td>126.006103</td>\n",
       "      <td>49.0</td>\n",
       "      <td>97.0</td>\n",
       "      <td>135.0</td>\n",
       "      <td>200.00</td>\n",
       "      <td>505.0</td>\n",
       "    </tr>\n",
       "    <tr>\n",
       "      <th>12</th>\n",
       "      <td>Villa/Bungalow</td>\n",
       "      <td>20.0</td>\n",
       "      <td>216.100000</td>\n",
       "      <td>317.661670</td>\n",
       "      <td>34.0</td>\n",
       "      <td>64.5</td>\n",
       "      <td>124.0</td>\n",
       "      <td>193.25</td>\n",
       "      <td>1480.0</td>\n",
       "    </tr>\n",
       "  </tbody>\n",
       "</table>\n",
       "</div>"
      ],
      "text/plain": [
       "           property_type_2   count        mean         std   min    25%  \\\n",
       "0                Apartment   660.0  224.772727   98.248577  56.0  159.0   \n",
       "1          Bed & Breakfast    52.0  218.980769  190.636446  25.0   75.0   \n",
       "2                    Condo   800.0  148.437500  110.485938  29.0   88.0   \n",
       "3   Guest Suite/Guesthouse   684.0  122.173977   86.339114  29.0   85.0   \n",
       "4                     Home  1726.0  218.380070  388.024673  10.0   65.0   \n",
       "5                   Hostel    33.0   84.757576   75.380713   0.0   25.0   \n",
       "6               Hotel Room   222.0  382.432432  304.298871   0.0  197.0   \n",
       "7                    Other    28.0  247.714286  123.517237  58.0  174.0   \n",
       "8              Rental Unit  3375.0  151.270519  122.768793  20.0   88.0   \n",
       "9                Tiny Home     3.0  129.666667   34.588052  92.0  114.5   \n",
       "10               Townhouse  1013.0  210.540967  240.226741  20.0   81.0   \n",
       "11             Unique Stay    12.0  168.416667  126.006103  49.0   97.0   \n",
       "12          Villa/Bungalow    20.0  216.100000  317.661670  34.0   64.5   \n",
       "\n",
       "      50%     75%     max  \n",
       "0   212.0  279.00   716.0  \n",
       "1   141.0  300.00   799.0  \n",
       "2   125.0  175.00  1425.0  \n",
       "3   105.0  133.50  1237.0  \n",
       "4   120.0  250.00  7500.0  \n",
       "5    73.0   90.00   313.0  \n",
       "6   302.0  459.00  1903.0  \n",
       "7   254.0  298.00   482.0  \n",
       "8   126.0  178.00  3000.0  \n",
       "9   137.0  148.50   160.0  \n",
       "10  149.0  265.00  4357.0  \n",
       "11  135.0  200.00   505.0  \n",
       "12  124.0  193.25  1480.0  "
      ]
     },
     "execution_count": 13,
     "metadata": {},
     "output_type": "execute_result"
    }
   ],
   "source": [
    "grouped_price_property_type_2 = df_2[['property_type', 'price', 'property_type_2']].groupby('property_type_2')\n",
    "grouped_price_property_type_stats_2 = grouped_price_property_type_2['price'].describe().reset_index()\n",
    "grouped_price_property_type_stats_2"
   ]
  },
  {
   "attachments": {},
   "cell_type": "markdown",
   "metadata": {},
   "source": [
    "I grouped the different property types into overall categories (for example: \"Apartment\" includes rentals that are the entire apartment, private room of an apartment, and shared room in an apartment). There were originally 53 different categories, and I was able to pair that down to about 12 groups. Unique stays include boats, boathouse, campsite, castle, tent, camper/rv, cottage, tower, and a few other listing types. Based on the analysis results, the highest average cost is actually for hotel rooms ($382.43) and the least expensive stay is a hostel ($84.76). Interestingly, the price range for a home stay (10, 7500) and townhouse stay (20, 4357) seem fairly extreme, leading us to believe that there are some extreme values in our dataset. It is worth looking further into this variable and how it interacts with other variables such as number of rooms and location to see how those variables may influence the overall price of a listing. "
   ]
  }
 ],
 "metadata": {
  "kernelspec": {
   "display_name": "en685648",
   "language": "python",
   "name": "python3"
  },
  "language_info": {
   "codemirror_mode": {
    "name": "ipython",
    "version": 3
   },
   "file_extension": ".py",
   "mimetype": "text/x-python",
   "name": "python",
   "nbconvert_exporter": "python",
   "pygments_lexer": "ipython3",
   "version": "3.10.8"
  },
  "orig_nbformat": 4
 },
 "nbformat": 4,
 "nbformat_minor": 2
}
