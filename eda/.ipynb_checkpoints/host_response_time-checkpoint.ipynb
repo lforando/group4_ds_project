{
 "cells": [
  {
   "cell_type": "markdown",
   "id": "19ca3fc0",
   "metadata": {},
   "source": [
    "Now we will add the categorical variable `host_response_time` to the dataframe:"
   ]
  },
  {
   "cell_type": "code",
   "execution_count": 14,
   "id": "aeb0e1ef",
   "metadata": {},
   "outputs": [],
   "source": [
    "conn = sqlite3.connect('datawarehouse.db')"
   ]
  },
  {
   "cell_type": "code",
   "execution_count": 15,
   "id": "71e6fb94",
   "metadata": {},
   "outputs": [
    {
     "name": "stdout",
     "output_type": "stream",
     "text": [
      "('within an hour', 5383)\n"
     ]
    }
   ],
   "source": [
    "# Create a cursor object\n",
    "cur = conn.cursor()\n",
    "\n",
    "# Execute the query\n",
    "query = '''SELECT host_response_time, COUNT(*) AS cnt\n",
    "FROM listings\n",
    "WHERE host_response_time <> '' AND host_response_time <> 'N/A'\n",
    "GROUP BY host_response_time\n",
    "ORDER BY cnt DESC\n",
    "LIMIT 1;\n",
    "'''\n",
    "cur.execute(query)\n",
    "\n",
    "# Fetch the results\n",
    "results = cur.fetchall()\n",
    "\n",
    "most_common = results[0]\n",
    "print(most_common)"
   ]
  },
  {
   "cell_type": "code",
   "execution_count": 16,
   "id": "32bc2fef",
   "metadata": {},
   "outputs": [
    {
     "data": {
      "text/plain": [
       "array(['within an hour', 'within a few hours', 'within a day',\n",
       "       'a few days or more', ''], dtype=object)"
      ]
     },
     "execution_count": 16,
     "metadata": {},
     "output_type": "execute_result"
    }
   ],
   "source": [
    "query = '''SELECT id, COALESCE(REPLACE(REPLACE(host_response_time, '', NULL), 'N/A', 'within an hour'), 'within an hour') AS updated_host_response_time\n",
    "FROM listings;'''\n",
    "\n",
    "cur.execute(query)\n",
    "\n",
    "# Fetch the results\n",
    "results = cur.fetchall()\n",
    "\n",
    "# Close the cursor object\n",
    "cur.close()\n",
    "\n",
    "# Close the connection to the database\n",
    "conn.close()\n",
    "\n",
    "r_time = []\n",
    "for v in results:\n",
    "    r_time.append(v[1])\n",
    "    \n",
    "df = pd.DataFrame({'response_time': r_time})\n",
    "\n",
    "df.response_time.unique()"
   ]
  },
  {
   "cell_type": "code",
   "execution_count": 39,
   "id": "d597a67d",
   "metadata": {
    "scrolled": true
   },
   "outputs": [
    {
     "data": {
      "text/html": [
       "<div>\n",
       "<style scoped>\n",
       "    .dataframe tbody tr th:only-of-type {\n",
       "        vertical-align: middle;\n",
       "    }\n",
       "\n",
       "    .dataframe tbody tr th {\n",
       "        vertical-align: top;\n",
       "    }\n",
       "\n",
       "    .dataframe thead th {\n",
       "        text-align: right;\n",
       "    }\n",
       "</style>\n",
       "<table border=\"1\" class=\"dataframe\">\n",
       "  <thead>\n",
       "    <tr style=\"text-align: right;\">\n",
       "      <th></th>\n",
       "      <th>price</th>\n",
       "      <th>host_response_rate</th>\n",
       "      <th>host_acceptance_rate</th>\n",
       "      <th>host_response_time</th>\n",
       "    </tr>\n",
       "  </thead>\n",
       "  <tbody>\n",
       "    <tr>\n",
       "      <th>0</th>\n",
       "      <td>20.0</td>\n",
       "      <td>96.885774</td>\n",
       "      <td>88.742004</td>\n",
       "      <td>within an hour</td>\n",
       "    </tr>\n",
       "    <tr>\n",
       "      <th>1</th>\n",
       "      <td>185.0</td>\n",
       "      <td>100.000000</td>\n",
       "      <td>100.000000</td>\n",
       "      <td>within an hour</td>\n",
       "    </tr>\n",
       "    <tr>\n",
       "      <th>2</th>\n",
       "      <td>221.0</td>\n",
       "      <td>99.000000</td>\n",
       "      <td>100.000000</td>\n",
       "      <td>within an hour</td>\n",
       "    </tr>\n",
       "    <tr>\n",
       "      <th>3</th>\n",
       "      <td>142.0</td>\n",
       "      <td>100.000000</td>\n",
       "      <td>100.000000</td>\n",
       "      <td>within an hour</td>\n",
       "    </tr>\n",
       "    <tr>\n",
       "      <th>4</th>\n",
       "      <td>398.0</td>\n",
       "      <td>96.885774</td>\n",
       "      <td>88.742004</td>\n",
       "      <td>within an hour</td>\n",
       "    </tr>\n",
       "  </tbody>\n",
       "</table>\n",
       "</div>"
      ],
      "text/plain": [
       "   price  host_response_rate  host_acceptance_rate host_response_time\n",
       "0   20.0           96.885774             88.742004     within an hour\n",
       "1  185.0          100.000000            100.000000     within an hour\n",
       "2  221.0           99.000000            100.000000     within an hour\n",
       "3  142.0          100.000000            100.000000     within an hour\n",
       "4  398.0           96.885774             88.742004     within an hour"
      ]
     },
     "execution_count": 39,
     "metadata": {},
     "output_type": "execute_result"
    }
   ],
   "source": [
    "eda_dkn['host_response_time'] = df['response_time']\n",
    "eda_dkn.head()"
   ]
  },
  {
   "cell_type": "code",
   "execution_count": null,
   "id": "d9c1c7c6",
   "metadata": {},
   "outputs": [],
   "source": []
  }
 ],
 "metadata": {
  "kernelspec": {
   "display_name": "Python (en685648)",
   "language": "python",
   "name": "en685648"
  },
  "language_info": {
   "codemirror_mode": {
    "name": "ipython",
    "version": 3
   },
   "file_extension": ".py",
   "mimetype": "text/x-python",
   "name": "python",
   "nbconvert_exporter": "python",
   "pygments_lexer": "ipython3",
   "version": "3.10.8"
  }
 },
 "nbformat": 4,
 "nbformat_minor": 5
}
